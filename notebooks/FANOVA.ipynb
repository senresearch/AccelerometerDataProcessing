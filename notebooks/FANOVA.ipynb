{
 "cells": [
  {
   "cell_type": "markdown",
   "metadata": {},
   "source": [
    "# FANOVA\n",
    "---"
   ]
  },
  {
   "cell_type": "markdown",
   "metadata": {},
   "source": [
    "## How much of the pattern of the dayily variation of physical activitytemperature for a pregenant woman is explainable by its treatment assignment?\n",
    "\n",
    " This is an analysis of variance problem with three treatment groups. Multivariate analysis of variance (MANOVA) is the extension of the ideas of analysis of variance to deal with problems where the dependent variable is multivariate. Since our dependent variable is the functional observation of the physical activity variable (*e.g.*, activity count, steps,...), the methodology we need is a functional analysis of variance, abbreviated FANOVA."
   ]
  },
  {
   "cell_type": "markdown",
   "metadata": {},
   "source": [
    "We have a number of pregnant woman in each group g, and the model for the mth physical activity function in the gth group, indicated by $Act_{mg}$, is    \n",
    "$$Act_{mg}(t) = \\mu(t) +\\alpha_g(t) +\\epsilon_{mg}(t) $$   \n",
    "* The function $\\mu$ is the grand mean function, it indicates the average physical activity profile acrross all the subjects.\n",
    "* The terms $\\alpha_g$ are the specific effects on physical activity of being in the assigned treatment group $g$. To be able to identify them uniquely, we need to satisfy the constraint   \n",
    "$$\\sum_{g}\\alpha_g(t) = 0 \\; \\textrm{for all} \\; t$$\n",
    "* The residual function $\\epsilon_{mg}$ is the unexplained variation specific to the mth pregant woman within the treatment assignment group $g$."
   ]
  },
  {
   "cell_type": "code",
   "execution_count": null,
   "metadata": {},
   "outputs": [],
   "source": []
  }
 ],
 "metadata": {
  "kernelspec": {
   "display_name": "R",
   "language": "R",
   "name": "ir"
  },
  "language_info": {
   "codemirror_mode": "r",
   "file_extension": ".r",
   "mimetype": "text/x-r-source",
   "name": "R",
   "pygments_lexer": "r",
   "version": "4.0.5"
  }
 },
 "nbformat": 4,
 "nbformat_minor": 4
}
