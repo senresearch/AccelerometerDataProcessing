{
 "cells": [
  {
   "cell_type": "markdown",
   "metadata": {},
   "source": [
    "# Get activity data\n",
    "___"
   ]
  },
  {
   "cell_type": "markdown",
   "metadata": {},
   "source": [
    "This note notebook explore how to extract activity data and convert it into a data frame before to save it as a CSV file. It explore also how to change the temporal resolution of the activity.  "
   ]
  },
  {
   "cell_type": "markdown",
   "metadata": {},
   "source": [
    "## Load input: packages, external functions, input data."
   ]
  },
  {
   "cell_type": "markdown",
   "metadata": {},
   "source": [
    "### Packages"
   ]
  },
  {
   "cell_type": "code",
   "execution_count": 10,
   "metadata": {},
   "outputs": [],
   "source": [
    "# Load packages\n",
    "using PyCall, PyPlot\n",
    "pygui(:tk)\n",
    "using DataFrames, CSV, Dates, StatsBase, Statistics, Tables, DataFramesMeta, BenchmarkTools\n",
    "using Missings"
   ]
  },
  {
   "cell_type": "markdown",
   "metadata": {},
   "source": [
    "### External Functions"
   ]
  },
  {
   "cell_type": "code",
   "execution_count": 72,
   "metadata": {},
   "outputs": [
    {
     "name": "stderr",
     "output_type": "stream",
     "text": [
      "WARNING: replacing module ActStatData.\n"
     ]
    }
   ],
   "source": [
    "# Include function file to extract and display accelerometer data\n",
    "# Include the modules directory\n",
    "dirFun = realpath(string(@__DIR__,\"/../../temp/\"))\n",
    "include(dirFun*\"/ActStatData.jl\"); # include(dirFun*\"/ActPlotData.jl\"))\n",
    "include(dirFun*\"/GetAct.jl\");\n",
    "include(dirFun*\"/GetBio.jl\");\n",
    "include(dirFun*\"/ActTools.jl\");\n",
    "include(dirFun*\"/AccDynamics.jl\");\n",
    "\n",
    "using .ActStatData"
   ]
  },
  {
   "cell_type": "markdown",
   "metadata": {},
   "source": [
    "### Data"
   ]
  },
  {
   "cell_type": "code",
   "execution_count": 56,
   "metadata": {},
   "outputs": [],
   "source": [
    "# List of visit directories\n",
    "listDir = [\"/../../../data/Baseline Visit Data/\";\n",
    "           \"/../../../data/32 Week Gestation Data/\";\n",
    "           \"/../../../data/6 Week PP Data/\";\n",
    "           \"/../../../data/6 Months PP Data/\";\n",
    "           \"/../../../data/12 Months PP Data/\"]\n",
    "\n",
    "# Visit Dictionary \n",
    "dictVisitName =  Dict(1=>\"VisitBaseline\",\n",
    "                    2=>\"Visit32w\",\n",
    "                    3=>\"Visit6wPP\",\n",
    "                    4=>\"Visit6mPP\",\n",
    "                    5=>\"Visit12mPP\");\n",
    "\n",
    "# Load the group assignment information\n",
    "groupFileName = realpath(string(@__DIR__, \"/../../../data/Group/group_assignement.csv\"))\n",
    "global dfGroup = DataFrame!(CSV.File(groupFileName));\n",
    "sort!(dfGroup);"
   ]
  },
  {
   "cell_type": "markdown",
   "metadata": {},
   "source": [
    "## Get an individual activity data "
   ]
  },
  {
   "cell_type": "markdown",
   "metadata": {},
   "source": [
    "For example, let get the activity data frame of an individual from the Baseline directory:"
   ]
  },
  {
   "cell_type": "code",
   "execution_count": 13,
   "metadata": {},
   "outputs": [
    {
     "name": "stdout",
     "output_type": "stream",
     "text": [
      "There is no file with NA missing data in the following directory:\n",
      "C:\\git\\smartphysicalactivity\\data\\Baseline Visit Data\\\n"
     ]
    }
   ],
   "source": [
    "# Get the path of the directory \n",
    "myDir = abspath(string(@__DIR__,listDir[1]));\n",
    "\n",
    "# Get the data list files from the directory myDir\n",
    "(actFiles, bioFiles) = ActStatData.filesNoNaN(myDir);"
   ]
  },
  {
   "cell_type": "markdown",
   "metadata": {},
   "source": [
    "Let return the activity and bio file names with respect to the index 3: "
   ]
  },
  {
   "cell_type": "code",
   "execution_count": 18,
   "metadata": {},
   "outputs": [
    {
     "name": "stdout",
     "output_type": "stream",
     "text": [
      "040_BV_22May2017_Accel.csv\n",
      "040_BV_22May2017_Accel_hdr.csv\n"
     ]
    }
   ],
   "source": [
    "println(actFiles[3]*\"\\n\"*bioFiles[3])"
   ]
  },
  {
   "cell_type": "code",
   "execution_count": 24,
   "metadata": {},
   "outputs": [
    {
     "data": {
      "text/plain": [
       "273"
      ]
     },
     "execution_count": 24,
     "metadata": {},
     "output_type": "execute_result"
    }
   ],
   "source": [
    "length(bioFiles)"
   ]
  },
  {
   "cell_type": "markdown",
   "metadata": {},
   "source": [
    "Get the activity data frame:"
   ]
  },
  {
   "cell_type": "code",
   "execution_count": 22,
   "metadata": {},
   "outputs": [
    {
     "data": {
      "text/html": [
       "<table class=\"data-frame\"><thead><tr><th></th><th>Day</th><th>ElapsedSeconds</th><th>DateTime</th><th>ActivityCounts</th><th>Steps</th><th>EnergyExpenditure</th></tr><tr><th></th><th>Int64</th><th>Int64</th><th>DateTime</th><th>Int64</th><th>Int64</th><th>Float64</th></tr></thead><tbody><p>3 rows × 7 columns (omitted printing of 1 columns)</p><tr><th>1</th><td>1</td><td>180</td><td>2017-05-22T11:59:00</td><td>983</td><td>83</td><td>0.033</td></tr><tr><th>2</th><td>1</td><td>240</td><td>2017-05-22T12:00:00</td><td>1301</td><td>21</td><td>0.037</td></tr><tr><th>3</th><td>1</td><td>300</td><td>2017-05-22T12:01:00</td><td>1026</td><td>77</td><td>0.033</td></tr></tbody></table>"
      ],
      "text/latex": [
       "\\begin{tabular}{r|ccccccc}\n",
       "\t& Day & ElapsedSeconds & DateTime & ActivityCounts & Steps & EnergyExpenditure & \\\\\n",
       "\t\\hline\n",
       "\t& Int64 & Int64 & DateTime & Int64 & Int64 & Float64 & \\\\\n",
       "\t\\hline\n",
       "\t1 & 1 & 180 & 2017-05-22T11:59:00 & 983 & 83 & 0.033 & $\\dots$ \\\\\n",
       "\t2 & 1 & 240 & 2017-05-22T12:00:00 & 1301 & 21 & 0.037 & $\\dots$ \\\\\n",
       "\t3 & 1 & 300 & 2017-05-22T12:01:00 & 1026 & 77 & 0.033 & $\\dots$ \\\\\n",
       "\\end{tabular}\n"
      ],
      "text/plain": [
       "3×7 DataFrame. Omitted printing of 2 columns\n",
       "│ Row │ Day   │ ElapsedSeconds │ DateTime            │ ActivityCounts │ Steps │\n",
       "│     │ \u001b[90mInt64\u001b[39m │ \u001b[90mInt64\u001b[39m          │ \u001b[90mDateTime\u001b[39m            │ \u001b[90mInt64\u001b[39m          │ \u001b[90mInt64\u001b[39m │\n",
       "├─────┼───────┼────────────────┼─────────────────────┼────────────────┼───────┤\n",
       "│ 1   │ 1     │ 180            │ 2017-05-22T11:59:00 │ 983            │ 83    │\n",
       "│ 2   │ 1     │ 240            │ 2017-05-22T12:00:00 │ 1301           │ 21    │\n",
       "│ 3   │ 1     │ 300            │ 2017-05-22T12:01:00 │ 1026           │ 77    │"
      ]
     },
     "execution_count": 22,
     "metadata": {},
     "output_type": "execute_result"
    }
   ],
   "source": [
    "# Get any file and show columns of the data frame structure\n",
    "idx = 3\n",
    "df = ActStatData.readActivity(myDir*actFiles[idx]);\n",
    "first(df, 3)"
   ]
  },
  {
   "cell_type": "code",
   "execution_count": 25,
   "metadata": {},
   "outputs": [
    {
     "data": {
      "text/plain": [
       "10"
      ]
     },
     "execution_count": 25,
     "metadata": {},
     "output_type": "execute_result"
    }
   ],
   "source": [
    "# Get complete days\n",
    "ActStatData.getCompleteDays(df)"
   ]
  },
  {
   "cell_type": "markdown",
   "metadata": {},
   "source": [
    "### GetIndivAct"
   ]
  },
  {
   "cell_type": "markdown",
   "metadata": {},
   "source": [
    "`GetIndivAct` returns a vector containing the average of an activity type over maximum 7 days. It should returns also the ID and eventually the group"
   ]
  },
  {
   "cell_type": "code",
   "execution_count": 32,
   "metadata": {},
   "outputs": [
    {
     "name": "stdout",
     "output_type": "stream",
     "text": [
      "search: \u001b[0m\u001b[1mG\u001b[22m\u001b[0m\u001b[1me\u001b[22m\u001b[0m\u001b[1mt\u001b[22m\u001b[0m\u001b[1mI\u001b[22m\u001b[0m\u001b[1mn\u001b[22m\u001b[0m\u001b[1md\u001b[22m\u001b[0m\u001b[1mi\u001b[22m\u001b[0m\u001b[1mv\u001b[22m\u001b[0m\u001b[1mA\u001b[22m\u001b[0m\u001b[1mc\u001b[22m\u001b[0m\u001b[1mt\u001b[22m \u001b[0m\u001b[1mG\u001b[22m\u001b[0m\u001b[1me\u001b[22m\u001b[0m\u001b[1mt\u001b[22m\u001b[0m\u001b[1mI\u001b[22m\u001b[0m\u001b[1mn\u001b[22m\u001b[0m\u001b[1md\u001b[22m\u001b[0m\u001b[1mi\u001b[22m\u001b[0m\u001b[1mv\u001b[22mID\n",
      "\n"
     ]
    },
    {
     "data": {
      "text/latex": [
       "\\textbf{\\texttt{GetIndivAct}} -\\emph{Function}.\n",
       "\n",
       "\\begin{verbatim}\n",
       "`GetIndivAct(fileName::String; actType = 1, resmin::Int64 = 1, isavg::Bool = true)` => `vector`\n",
       "\\end{verbatim}\n",
       "Returns a vector containing the average of an activity type over maximum 7 days.\n",
       "\n",
       "\\begin{itemize}\n",
       "\\item \\texttt{filename} contains the path of the individual data in a specific folder.\n",
       "\n",
       "\n",
       "\\item \\texttt{actype} indicates the type of activity to be processed (1=>:Activity Counts,  2=> number of Steps, 3=> Energy Expenditure, 4=> Activity Intensity)\n",
       "\n",
       "\n",
       "\\item \\texttt{resmin} indicates temporal resolution of activity acquisition in minutes. \n",
       "\n",
       "\n",
       "\\item \\texttt{isavg} is a boolean where true means that the return is the average data over one week and false means that the return is the full week cycle.\n",
       "\n",
       "\\end{itemize}\n"
      ],
      "text/markdown": [
       "**`GetIndivAct`** -*Function*.\n",
       "\n",
       "```\n",
       "`GetIndivAct(fileName::String; actType = 1, resmin::Int64 = 1, isavg::Bool = true)` => `vector`\n",
       "```\n",
       "\n",
       "Returns a vector containing the average of an activity type over maximum 7 days.\n",
       "\n",
       "  * `filename` contains the path of the individual data in a specific folder.\n",
       "  * `actype` indicates the type of activity to be processed (1=>:Activity Counts,  2=> number of Steps, 3=> Energy Expenditure, 4=> Activity Intensity)\n",
       "  * `resmin` indicates temporal resolution of activity acquisition in minutes.\n",
       "  * `isavg` is a boolean where true means that the return is the average data over one week and false means that the return is the full week cycle.\n"
      ],
      "text/plain": [
       "  \u001b[1m\u001b[36mGetIndivAct\u001b[39m\u001b[22m -\u001b[4mFunction\u001b[24m.\n",
       "\n",
       "\u001b[36m  `GetIndivAct(fileName::String; actType = 1, resmin::Int64 = 1, isavg::Bool = true)` => `vector`\u001b[39m\n",
       "\n",
       "  Returns a vector containing the average of an activity type over maximum 7\n",
       "  days.\n",
       "\n",
       "    •    \u001b[36mfilename\u001b[39m contains the path of the individual data in a specific\n",
       "        folder.\n",
       "\n",
       "    •    \u001b[36mactype\u001b[39m indicates the type of activity to be processed\n",
       "        (1=>:Activity Counts, 2=> number of Steps, 3=> Energy Expenditure,\n",
       "        4=> Activity Intensity)\n",
       "\n",
       "    •    \u001b[36mresmin\u001b[39m indicates temporal resolution of activity acquisition in\n",
       "        minutes. \n",
       "\n",
       "    •    \u001b[36misavg\u001b[39m is a boolean where true means that the return is the average\n",
       "        data over one week and false means that the return is the full\n",
       "        week cycle."
      ]
     },
     "execution_count": 32,
     "metadata": {},
     "output_type": "execute_result"
    }
   ],
   "source": [
    "?GetIndivAct"
   ]
  },
  {
   "cell_type": "code",
   "execution_count": 35,
   "metadata": {},
   "outputs": [
    {
     "data": {
      "text/plain": [
       "5"
      ]
     },
     "execution_count": 35,
     "metadata": {},
     "output_type": "execute_result"
    }
   ],
   "source": [
    "# Get complete days\n",
    "idx = 21\n",
    "df = ActStatData.readActivity(myDir*actFiles[idx]);\n",
    "ActStatData.getCompleteDays(df)"
   ]
  },
  {
   "cell_type": "code",
   "execution_count": 31,
   "metadata": {},
   "outputs": [
    {
     "data": {
      "image/png": "[encoded data removed]",
      "text/plain": [
       "Figure(PyObject <Figure size 640x480 with 1 Axes>)"
      ]
     },
     "metadata": {},
     "output_type": "display_data"
    },
    {
     "data": {
      "text/plain": [
       "1-element Array{PyObject,1}:\n",
       " PyObject <matplotlib.lines.Line2D object at 0x0000000035E96490>"
      ]
     },
     "execution_count": 31,
     "metadata": {},
     "output_type": "execute_result"
    }
   ],
   "source": [
    "fileName = myDir * actFiles[21] # 107\n",
    "\n",
    "# Get average Activity Count over 7 days\n",
    " vec = GetIndivAct(fileName, actType = 1, resmin = 1, isavg = true)\n",
    "plot(vec)"
   ]
  },
  {
   "cell_type": "code",
   "execution_count": 45,
   "metadata": {},
   "outputs": [
    {
     "data": {
      "image/png": "[encoded data removed]",
      "text/plain": [
       "Figure(PyObject <Figure size 640x480 with 1 Axes>)"
      ]
     },
     "metadata": {},
     "output_type": "display_data"
    },
    {
     "data": {
      "text/plain": [
       "1-element Array{PyObject,1}:\n",
       " PyObject <matplotlib.lines.Line2D object at 0x0000000004AAC850>"
      ]
     },
     "execution_count": 45,
     "metadata": {},
     "output_type": "execute_result"
    }
   ],
   "source": [
    "# Get average Activity Intensity over 7 days\n",
    "vec = GetIndivAct(fileName, actType = 4, resmin = 1, isavg = false)\n",
    "plot(vec)"
   ]
  },
  {
   "cell_type": "code",
   "execution_count": 42,
   "metadata": {},
   "outputs": [],
   "source": [
    "vecIntensity = GetIndivAct(fileName, actType = 4, resmin = 1, isavg = false);"
   ]
  },
  {
   "cell_type": "code",
   "execution_count": 43,
   "metadata": {},
   "outputs": [
    {
     "data": {
      "text/plain": [
       "Dict{Int64,Int64} with 3 entries:\n",
       "  2 => 2145\n",
       "  3 => 306\n",
       "  1 => 3309"
      ]
     },
     "execution_count": 43,
     "metadata": {},
     "output_type": "execute_result"
    }
   ],
   "source": [
    "countmap(vecIntensity)"
   ]
  },
  {
   "cell_type": "markdown",
   "metadata": {},
   "source": [
    "## Write Script to generate csv data"
   ]
  },
  {
   "cell_type": "markdown",
   "metadata": {},
   "source": [
    "### Get directory activity "
   ]
  },
  {
   "cell_type": "markdown",
   "metadata": {},
   "source": [
    "Set the path the visit directory and a temporal resolution if desired."
   ]
  },
  {
   "cell_type": "code",
   "execution_count": 133,
   "metadata": {
    "lines_to_next_cell": 2
   },
   "outputs": [
    {
     "data": {
      "text/plain": [
       "60"
      ]
     },
     "execution_count": 133,
     "metadata": {},
     "output_type": "execute_result"
    }
   ],
   "source": [
    "# Select path of visit directory\n",
    "idxDir = 5\n",
    "myDir = abspath(string(@__DIR__,listDir[idxDir]))\n",
    "\n",
    "# Set a temporal resolution\n",
    "rmin = 60"
   ]
  },
  {
   "cell_type": "markdown",
   "metadata": {},
   "source": [
    "Generate a data matrix containing values of one type of activity (*e.g.*, activity count, steps, intensity model...) and IDs vector with respect to each observation (row) of the data matrix."
   ]
  },
  {
   "cell_type": "code",
   "execution_count": 134,
   "metadata": {},
   "outputs": [],
   "source": [
    "# Activity type dictionary \n",
    "dictActType =  Dict(1=>\"Acc\",\n",
    "                    2=>\"Steps\",\n",
    "                    3=>\"Xpndtr\",\n",
    "                    4=>\"Ntnst\");"
   ]
  },
  {
   "cell_type": "code",
   "execution_count": 135,
   "metadata": {
    "lines_to_next_cell": 2
   },
   "outputs": [
    {
     "name": "stdout",
     "output_type": "stream",
     "text": [
      "There is no file with NA missing data in the following directory:\n",
      "C:\\git\\smartphysicalactivity\\data\\12 Months PP Data\\\n"
     ]
    },
    {
     "data": {
      "text/plain": [
       "(24, 51)"
      ]
     },
     "execution_count": 135,
     "metadata": {},
     "output_type": "execute_result"
    }
   ],
   "source": [
    "# Get the data list files from the directory myDir\n",
    "# (myData, myHeader) = ActStatData.filesNoNaN(myDir);\n",
    "# myDir\n",
    "# Get the matrix data\n",
    "idxAct = 1\n",
    "mat, vID = GetDirAct(myDir,actType = idxAct, resmin = rmin);\n",
    "size(mat)"
   ]
  },
  {
   "cell_type": "markdown",
   "metadata": {},
   "source": [
    "### Check uniqueness"
   ]
  },
  {
   "cell_type": "code",
   "execution_count": 136,
   "metadata": {},
   "outputs": [
    {
     "data": {
      "text/plain": [
       "Int64[]"
      ]
     },
     "execution_count": 136,
     "metadata": {},
     "output_type": "execute_result"
    }
   ],
   "source": [
    "nonunique(vID)"
   ]
  },
  {
   "cell_type": "code",
   "execution_count": 137,
   "metadata": {},
   "outputs": [
    {
     "data": {
      "text/plain": [
       "1-element Array{Int64,1}:\n",
       " 23"
      ]
     },
     "execution_count": 137,
     "metadata": {},
     "output_type": "execute_result"
    }
   ],
   "source": [
    "findall(x -> x == 248, vID)"
   ]
  },
  {
   "cell_type": "code",
   "execution_count": 138,
   "metadata": {},
   "outputs": [
    {
     "name": "stdout",
     "output_type": "stream",
     "text": [
      "There is no file with NA missing data in the following directory:\n",
      "C:\\git\\smartphysicalactivity\\data\\12 Months PP Data\\\n"
     ]
    },
    {
     "data": {
      "text/plain": [
       "1-element Array{String,1}:\n",
       " \"248_12moPP_03Oct19_hdr.csv\""
      ]
     },
     "execution_count": 138,
     "metadata": {},
     "output_type": "execute_result"
    }
   ],
   "source": [
    "# Get the data list files from the directory myDir\n",
    "(dataFiles, bioFiles) = ActStatData.filesNoNaN(myDir);\n",
    "bioFiles[findall(x -> x == 248, vID)]"
   ]
  },
  {
   "cell_type": "markdown",
   "metadata": {},
   "source": [
    "Join the activity information to the list with group assignment."
   ]
  },
  {
   "cell_type": "markdown",
   "metadata": {},
   "source": [
    "### Add group information"
   ]
  },
  {
   "cell_type": "code",
   "execution_count": 139,
   "metadata": {
    "lines_to_next_cell": 2
   },
   "outputs": [
    {
     "name": "stdout",
     "output_type": "stream",
     "text": [
      "Number of ID missing  : 0\n"
     ]
    }
   ],
   "source": [
    "# Get Group assignment for the selected ID\n",
    "myDf = DataFrame(studyID = vID)\n",
    "dfAct = leftjoin(myDf, dfGroup, on = :studyID)\n",
    "\n",
    "# Check for missing\n",
    "numMiss = sum(ismissing.(dfAct.arm[:]))\n",
    "println(\"Number of ID missing  : $numMiss\")"
   ]
  },
  {
   "cell_type": "code",
   "execution_count": 140,
   "metadata": {},
   "outputs": [],
   "source": [
    "# Drop missing\n",
    "dfAct = dropmissing(dfAct);"
   ]
  },
  {
   "cell_type": "markdown",
   "metadata": {},
   "source": [
    "### Convert matrix to data frame"
   ]
  },
  {
   "cell_type": "code",
   "execution_count": 141,
   "metadata": {
    "lines_to_next_cell": 2
   },
   "outputs": [
    {
     "data": {
      "text/html": [
       "<table class=\"data-frame\"><thead><tr><th></th><th>studyID</th><th>T00h00</th><th>T01h00</th><th>T02h00</th><th>T03h00</th><th>T04h00</th><th>T05h00</th><th>T06h00</th><th>T07h00</th></tr><tr><th></th><th>Int64</th><th>Float64</th><th>Float64</th><th>Float64</th><th>Float64</th><th>Float64</th><th>Float64</th><th>Float64</th><th>Float64</th></tr></thead><tbody><p>3 rows × 25 columns (omitted printing of 16 columns)</p><tr><th>1</th><td>43</td><td>1638.83</td><td>3761.67</td><td>293.0</td><td>263.667</td><td>496.5</td><td>2681.33</td><td>24810.0</td><td>26173.7</td></tr><tr><th>2</th><td>47</td><td>1781.71</td><td>216.286</td><td>996.571</td><td>1008.71</td><td>272.714</td><td>41137.0</td><td>35577.9</td><td>26288.4</td></tr><tr><th>3</th><td>54</td><td>12179.8</td><td>3011.4</td><td>3173.4</td><td>342.8</td><td>148.0</td><td>710.0</td><td>33950.4</td><td>36143.6</td></tr></tbody></table>"
      ],
      "text/latex": [
       "\\begin{tabular}{r|cccccccccc}\n",
       "\t& studyID & T00h00 & T01h00 & T02h00 & T03h00 & T04h00 & T05h00 & T06h00 & T07h00 & \\\\\n",
       "\t\\hline\n",
       "\t& Int64 & Float64 & Float64 & Float64 & Float64 & Float64 & Float64 & Float64 & Float64 & \\\\\n",
       "\t\\hline\n",
       "\t1 & 43 & 1638.83 & 3761.67 & 293.0 & 263.667 & 496.5 & 2681.33 & 24810.0 & 26173.7 & $\\dots$ \\\\\n",
       "\t2 & 47 & 1781.71 & 216.286 & 996.571 & 1008.71 & 272.714 & 41137.0 & 35577.9 & 26288.4 & $\\dots$ \\\\\n",
       "\t3 & 54 & 12179.8 & 3011.4 & 3173.4 & 342.8 & 148.0 & 710.0 & 33950.4 & 36143.6 & $\\dots$ \\\\\n",
       "\\end{tabular}\n"
      ],
      "text/plain": [
       "3×25 DataFrame. Omitted printing of 18 columns\n",
       "│ Row │ studyID │ T00h00  │ T01h00  │ T02h00  │ T03h00  │ T04h00  │ T05h00  │\n",
       "│     │ \u001b[90mInt64\u001b[39m   │ \u001b[90mFloat64\u001b[39m │ \u001b[90mFloat64\u001b[39m │ \u001b[90mFloat64\u001b[39m │ \u001b[90mFloat64\u001b[39m │ \u001b[90mFloat64\u001b[39m │ \u001b[90mFloat64\u001b[39m │\n",
       "├─────┼─────────┼─────────┼─────────┼─────────┼─────────┼─────────┼─────────┤\n",
       "│ 1   │ 43      │ 1638.83 │ 3761.67 │ 293.0   │ 263.667 │ 496.5   │ 2681.33 │\n",
       "│ 2   │ 47      │ 1781.71 │ 216.286 │ 996.571 │ 1008.71 │ 272.714 │ 41137.0 │\n",
       "│ 3   │ 54      │ 12179.8 │ 3011.4  │ 3173.4  │ 342.8   │ 148.0   │ 710.0   │"
      ]
     },
     "execution_count": 141,
     "metadata": {},
     "output_type": "execute_result"
    }
   ],
   "source": [
    "# Convert matrix to data frame\n",
    "df = Mat2DfAct(mat, vID, resmin = rmin)\n",
    "first(df, 3)"
   ]
  },
  {
   "cell_type": "markdown",
   "metadata": {},
   "source": [
    "Join the group assignment information:"
   ]
  },
  {
   "cell_type": "code",
   "execution_count": 142,
   "metadata": {},
   "outputs": [
    {
     "data": {
      "text/plain": [
       "Union{}[]"
      ]
     },
     "execution_count": 142,
     "metadata": {},
     "output_type": "execute_result"
    }
   ],
   "source": [
    "# Left join\n",
    "df = leftjoin(dfAct, df, on = :studyID);\n",
    "\n",
    "# Check for missing data\n",
    "findall(x -> ismissing(x), df.arm)\n"
   ]
  },
  {
   "cell_type": "markdown",
   "metadata": {
    "lines_to_next_cell": 2
   },
   "source": [
    "### Save the activity data frame"
   ]
  },
  {
   "cell_type": "markdown",
   "metadata": {},
   "source": [
    "Prepare the file name:"
   ]
  },
  {
   "cell_type": "code",
   "execution_count": 143,
   "metadata": {},
   "outputs": [
    {
     "data": {
      "text/plain": [
       "\"mVisit12mPP_60_Acc.csv\""
      ]
     },
     "execution_count": 143,
     "metadata": {},
     "output_type": "execute_result"
    }
   ],
   "source": [
    "myFileName = string(\"m\",dictVisitName[idxDir],\"_\", rmin,\"_\",\n",
    "                    dictActType[idxAct], \".csv\")"
   ]
  },
  {
   "cell_type": "markdown",
   "metadata": {},
   "source": [
    "Save activity data frame:"
   ]
  },
  {
   "cell_type": "code",
   "execution_count": 144,
   "metadata": {
    "lines_to_next_cell": 2
   },
   "outputs": [
    {
     "data": {
      "text/plain": [
       "\"C:\\\\git\\\\smartphysicalactivity\\\\develop\\\\test\\\\FDA/../../../data/fda/mVisit12mPP_60_Acc.csv\""
      ]
     },
     "execution_count": 144,
     "metadata": {},
     "output_type": "execute_result"
    }
   ],
   "source": [
    "csvFileName = string(@__DIR__,\"/../../../data/fda/\",myFileName)\n",
    "CSV.write(csvFileName, df ; writeheader=true)"
   ]
  },
  {
   "cell_type": "markdown",
   "metadata": {},
   "source": [
    "## Generate and save activity differences between 2 consecutive visits"
   ]
  },
  {
   "cell_type": "markdown",
   "metadata": {},
   "source": [
    "Load baseline and 32 weeks visits."
   ]
  },
  {
   "cell_type": "code",
   "execution_count": 145,
   "metadata": {},
   "outputs": [
    {
     "data": {
      "text/plain": [
       "(272, 26)"
      ]
     },
     "execution_count": 145,
     "metadata": {},
     "output_type": "execute_result"
    }
   ],
   "source": [
    "# Load data frame from the Baseline visit\n",
    "myFileName = string(\"m\",dictVisitName[1],\"_\", rmin,\"_\",\n",
    "                    dictActType[idxAct], \".csv\")\n",
    "csvFileName = string(@__DIR__,\"/../../../data/fda/\", myFileName)\n",
    "dfV1 = DataFrame!(CSV.File(csvFileName; comment = \"#\"));\n",
    "size(dfV1)"
   ]
  },
  {
   "cell_type": "code",
   "execution_count": 147,
   "metadata": {},
   "outputs": [
    {
     "data": {
      "text/plain": [
       "(191, 26)"
      ]
     },
     "execution_count": 147,
     "metadata": {},
     "output_type": "execute_result"
    }
   ],
   "source": [
    "# Load data frame from the 32 weeks visit\n",
    "myFileName = string(\"m\",dictVisitName[2],\"_\", rmin,\"_\",\n",
    "                    dictActType[idxAct], \".csv\")\n",
    "csvFileName = string(@__DIR__,\"/../../../data/fda/\", myFileName)\n",
    "dfV2 = DataFrame!(CSV.File(csvFileName; comment = \"#\"))\n",
    "size(dfV2)"
   ]
  },
  {
   "cell_type": "markdown",
   "metadata": {},
   "source": [
    "Build a dataframe containing the the activity data with the ID existing in the 32 weeks visit data frame."
   ]
  },
  {
   "cell_type": "code",
   "execution_count": 150,
   "metadata": {},
   "outputs": [
    {
     "data": {
      "text/plain": [
       "(181, 26)"
      ]
     },
     "execution_count": 150,
     "metadata": {},
     "output_type": "execute_result"
    }
   ],
   "source": [
    "# Keep IDs of the baseline visit in common with the next visit\n",
    "df1 = DataFrame(studyID = dfV2.studyID);\n",
    "df1 = innerjoin(df1, dfV1, on = :studyID);\n",
    "size(df1)"
   ]
  },
  {
   "cell_type": "code",
   "execution_count": 152,
   "metadata": {},
   "outputs": [
    {
     "data": {
      "text/plain": [
       "(181, 26)"
      ]
     },
     "execution_count": 152,
     "metadata": {},
     "output_type": "execute_result"
    }
   ],
   "source": [
    "# # Keep IDs of the second visit in common with the first visit\n",
    "df2 = DataFrame(studyID = df1.studyID);\n",
    "df2 = innerjoin(df2, dfV2, on = :studyID);\n",
    "size(df2)"
   ]
  },
  {
   "cell_type": "code",
   "execution_count": 154,
   "metadata": {},
   "outputs": [
    {
     "data": {
      "text/plain": [
       "true"
      ]
     },
     "execution_count": 154,
     "metadata": {},
     "output_type": "execute_result"
    }
   ],
   "source": [
    "# test \n",
    "df1.studyID == df2.studyID"
   ]
  },
  {
   "cell_type": "code",
   "execution_count": 155,
   "metadata": {},
   "outputs": [
    {
     "data": {
      "text/html": [
       "<p>DataFrameRow (26 columns)</p><table class=\"data-frame\"><thead><tr><th></th><th>studyID</th><th>arm</th><th>T00h00</th><th>T01h00</th><th>T02h00</th><th>T03h00</th><th>T04h00</th><th>T05h00</th><th>T06h00</th><th>T07h00</th></tr><tr><th></th><th>Int64</th><th>Int64</th><th>Float64</th><th>Float64</th><th>Float64</th><th>Float64</th><th>Float64</th><th>Float64</th><th>Float64</th><th>Float64</th></tr></thead><tbody><tr><th>1</th><td>4</td><td>3</td><td>810.857</td><td>640.857</td><td>861.429</td><td>1477.43</td><td>18658.1</td><td>41676.3</td><td>24472.0</td><td>21237.7</td></tr></tbody></table>"
      ],
      "text/latex": [
       "\\begin{tabular}{r|ccccccccccc}\n",
       "\t& studyID & arm & T00h00 & T01h00 & T02h00 & T03h00 & T04h00 & T05h00 & T06h00 & T07h00 & \\\\\n",
       "\t\\hline\n",
       "\t& Int64 & Int64 & Float64 & Float64 & Float64 & Float64 & Float64 & Float64 & Float64 & Float64 & \\\\\n",
       "\t\\hline\n",
       "\t1 & 4 & 3 & 810.857 & 640.857 & 861.429 & 1477.43 & 18658.1 & 41676.3 & 24472.0 & 21237.7 & $\\dots$ \\\\\n",
       "\\end{tabular}\n"
      ],
      "text/plain": [
       "DataFrameRow. Omitted printing of 19 columns\n",
       "│ Row │ studyID │ arm   │ T00h00  │ T01h00  │ T02h00  │ T03h00  │ T04h00  │\n",
       "│     │ \u001b[90mInt64\u001b[39m   │ \u001b[90mInt64\u001b[39m │ \u001b[90mFloat64\u001b[39m │ \u001b[90mFloat64\u001b[39m │ \u001b[90mFloat64\u001b[39m │ \u001b[90mFloat64\u001b[39m │ \u001b[90mFloat64\u001b[39m │\n",
       "├─────┼─────────┼───────┼─────────┼─────────┼─────────┼─────────┼─────────┤\n",
       "│ 1   │ 4       │ 3     │ 810.857 │ 640.857 │ 861.429 │ 1477.43 │ 18658.1 │"
      ]
     },
     "execution_count": 155,
     "metadata": {},
     "output_type": "execute_result"
    }
   ],
   "source": [
    "first(df1)"
   ]
  },
  {
   "cell_type": "markdown",
   "metadata": {},
   "source": [
    "### Get the difference between two visits"
   ]
  },
  {
   "cell_type": "code",
   "execution_count": 159,
   "metadata": {},
   "outputs": [],
   "source": [
    "# Convert data frame activity into matrix \n",
    "mat21 = (log.(Matrix(df2[:, 3:end]).+1) - log.(Matrix(df1[:, 3:end]).+1 ));"
   ]
  },
  {
   "cell_type": "code",
   "execution_count": 160,
   "metadata": {},
   "outputs": [],
   "source": [
    "d = names(@view df1[1,3:end]);"
   ]
  },
  {
   "cell_type": "code",
   "execution_count": 161,
   "metadata": {},
   "outputs": [],
   "source": [
    "df21  = DataFrame([@view(mat21[:, i]) for i in 1:size(mat21, 2)], Symbol.(d))\n",
    "insertcols!(df21, 1, :studyID => df1.studyID)\n",
    "insertcols!(df21, 2, :arm => df1.arm);"
   ]
  },
  {
   "cell_type": "markdown",
   "metadata": {},
   "source": [
    "### Save the diff data frame"
   ]
  },
  {
   "cell_type": "code",
   "execution_count": 164,
   "metadata": {},
   "outputs": [
    {
     "data": {
      "text/plain": [
       "\"C:\\\\git\\\\smartphysicalactivity\\\\develop\\\\test\\\\FDA/../../../data/fda/mVisit32w-VisitBaseline_60_Acc.csv\""
      ]
     },
     "execution_count": 164,
     "metadata": {},
     "output_type": "execute_result"
    }
   ],
   "source": [
    "# csvFileName = string(@__DIR__,\"/../../../data/fda/\",\"mBaselineSteps60.csv\")\n",
    "myFileName = string(\"m\",dictVisitName[2], \"-\", dictVisitName[1],\n",
    "                    \"_\", rmin,\"_\", dictActType[idxAct], \".csv\")\n",
    "csvFileName = string(@__DIR__,\"/../../../data/fda/\", myFileName)\n",
    "CSV.write(csvFileName, df21 ; writeheader=true)"
   ]
  },
  {
   "cell_type": "markdown",
   "metadata": {},
   "source": [
    "## Accumulation"
   ]
  },
  {
   "cell_type": "code",
   "execution_count": 32,
   "metadata": {},
   "outputs": [
    {
     "data": {
      "text/plain": [
       "4×3 Array{Float64,2}:\n",
       " 1.0  1.0  1.0\n",
       " 2.0  2.0  2.0\n",
       " 3.0  3.0  3.0\n",
       " 4.0  4.0  4.0"
      ]
     },
     "execution_count": 32,
     "metadata": {},
     "output_type": "execute_result"
    }
   ],
   "source": [
    "A = [1.0 2 3 4;1 2 3 4;1 2 3 4]\n",
    "A =copy(transpose(A))"
   ]
  },
  {
   "cell_type": "code",
   "execution_count": 33,
   "metadata": {},
   "outputs": [
    {
     "data": {
      "text/plain": [
       "4×3 Array{Float64,2}:\n",
       " 1.0  2.0   3.0\n",
       " 2.0  4.0   6.0\n",
       " 3.0  6.0   9.0\n",
       " 4.0  8.0  12.0"
      ]
     },
     "execution_count": 33,
     "metadata": {},
     "output_type": "execute_result"
    }
   ],
   "source": [
    "GetAccAct(A)"
   ]
  },
  {
   "cell_type": "code",
   "execution_count": 26,
   "metadata": {},
   "outputs": [
    {
     "data": {
      "text/plain": [
       "GetAccAct (generic function with 2 methods)"
      ]
     },
     "execution_count": 26,
     "metadata": {},
     "output_type": "execute_result"
    }
   ],
   "source": [
    "function GetAccAct(mat::Array{Float64, 2})\n",
    "    \n",
    "    mat = copy(transpose(mat))\n",
    "        \n",
    "    for  i = 1:size(mat)[2]\n",
    "        mat[:,i] = accumulate(+, mat[:,i])\n",
    "    end\n",
    "        \n",
    "    mat = copy(transpose(mat))\n",
    "    \n",
    "    return mat\n",
    "    \n",
    "end"
   ]
  },
  {
   "cell_type": "code",
   "execution_count": null,
   "metadata": {},
   "outputs": [],
   "source": [
    "   # Transpose dataframe\n",
    "    dfAct = DataFrame([[names(dfAct)]; collect.(eachrow(dfAct))], [:day; Symbol.(axes(dfAct, 1))])"
   ]
  },
  {
   "cell_type": "markdown",
   "metadata": {},
   "source": [
    "## Extra"
   ]
  },
  {
   "cell_type": "markdown",
   "metadata": {},
   "source": [
    "Add closest divisor:\n",
    "\n",
    "Num = 636         # Numerator we are seeking to divide with no remainder\n",
    "Den = 8           # Initial denominator\n",
    "max_iters = 15    # caps the maximum loops\n",
    "iters = 1         # initialize counter\n",
    "Deni = Dend = Den # vars for searching increasing and decreasing denominators\n",
    "\n",
    "while Num%Den != 0:\n",
    "Deni +=1                 # searching increased vals\n",
    "if Dend > 0 : Dend -=1   # searching decreased vals, but check 0 condition\n",
    "if Num%Dend ==0:         # found a 0 remainder denominator\n",
    "    Den = Dend           # assign found denominator\n",
    "    break\n",
    "elif Num%Deni ==0:       # found a 0 remainder denominator\n",
    "    Den = Deni           # assign found denominator\n",
    "    break\n",
    "elif iters >= max_iters: # check loop count\n",
    "    break\n",
    "iters+=1"
   ]
  }
 ],
 "metadata": {
  "jupytext": {
   "formats": "ipynb,jl:light"
  },
  "kernelspec": {
   "display_name": "Julia 1.7.2",
   "language": "julia",
   "name": "julia-1.7"
  },
  "language_info": {
   "file_extension": ".jl",
   "mimetype": "application/julia",
   "name": "julia",
   "version": "1.7.2"
  }
 },
 "nbformat": 4,
 "nbformat_minor": 4
}
