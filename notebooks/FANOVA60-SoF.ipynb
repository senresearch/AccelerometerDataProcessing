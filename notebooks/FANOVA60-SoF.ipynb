{
 "cells": [
  {
   "cell_type": "markdown",
   "metadata": {},
   "source": [
    "# FDA\n",
    "\n",
    "---"
   ]
  },
  {
   "cell_type": "markdown",
   "metadata": {},
   "source": [
    "## Function-on-scalar regression model"
   ]
  },
  {
   "cell_type": "markdown",
   "metadata": {},
   "source": [
    "**Question of interest :** Is there any relationship between the weight loss and the activity counts?"
   ]
  },
  {
   "cell_type": "markdown",
   "metadata": {},
   "source": [
    "We can use a scalar-on-function regression model to answer this question:  \n",
    "$$Y_i = \\mu_Y + \\int{Act_i(t)\\beta(t)} +\\epsilon_i(t)$$\n",
    "\n",
    "where $Act_i(t)$ is modeled using fPCA, $Act_i(t) = \\mu(t) + \\sum_{k=1}^\\infty{\\xi_{ik}\\phi_k(t)}$"
   ]
  },
  {
   "cell_type": "markdown",
   "metadata": {},
   "source": [
    "## Load input: packages, external functions, input data."
   ]
  },
  {
   "cell_type": "markdown",
   "metadata": {},
   "source": [
    "### Packages"
   ]
  },
  {
   "cell_type": "code",
   "execution_count": 9,
   "metadata": {},
   "outputs": [],
   "source": [
    "# Libraries\n",
    "library(fda)\n",
    "library(fdANOVA)\n",
    "library(tidyverse)\n",
    "library(dplyr)\n",
    "library(refund)\n",
    "library(refund.shiny)\n",
    "#theme_set(theme_bw() + theme(legend.position = \"bottom\"))\n",
    "library(ggplot2)\n",
    "library(fields)\n",
    "library(mgcv)"
   ]
  },
  {
   "cell_type": "markdown",
   "metadata": {},
   "source": [
    "### Data"
   ]
  },
  {
   "cell_type": "code",
   "execution_count": 93,
   "metadata": {},
   "outputs": [
    {
     "name": "stderr",
     "output_type": "stream",
     "text": [
      "\n",
      "\u001b[36m--\u001b[39m \u001b[1m\u001b[1mColumn specification\u001b[1m\u001b[22m \u001b[36m------------------------------------------------------------------------------------------------\u001b[39m\n",
      "cols(\n",
      "  .default = col_double()\n",
      ")\n",
      "\u001b[36mi\u001b[39m Use \u001b[30m\u001b[47m\u001b[30m\u001b[47m`spec()`\u001b[47m\u001b[30m\u001b[49m\u001b[39m for the full column specifications.\n",
      "\n",
      "\n",
      "\n",
      "\u001b[36m--\u001b[39m \u001b[1m\u001b[1mColumn specification\u001b[1m\u001b[22m \u001b[36m------------------------------------------------------------------------------------------------\u001b[39m\n",
      "cols(\n",
      "  studyID = \u001b[32mcol_double()\u001b[39m,\n",
      "  weightRatio = \u001b[32mcol_double()\u001b[39m\n",
      ")\n",
      "\n",
      "\n"
     ]
    },
    {
     "data": {
      "text/html": [
       "<table>\n",
       "<caption>A tibble: 3 × 26</caption>\n",
       "<thead>\n",
       "\t<tr><th scope=col>id</th><th scope=col>arm</th><th scope=col>T00h00</th><th scope=col>T01h00</th><th scope=col>T02h00</th><th scope=col>T03h00</th><th scope=col>T04h00</th><th scope=col>T05h00</th><th scope=col>T06h00</th><th scope=col>T07h00</th><th scope=col>...</th><th scope=col>T14h00</th><th scope=col>T15h00</th><th scope=col>T16h00</th><th scope=col>T17h00</th><th scope=col>T18h00</th><th scope=col>T19h00</th><th scope=col>T20h00</th><th scope=col>T21h00</th><th scope=col>T22h00</th><th scope=col>T23h00</th></tr>\n",
       "\t<tr><th scope=col>&lt;chr&gt;</th><th scope=col>&lt;dbl&gt;</th><th scope=col>&lt;dbl&gt;</th><th scope=col>&lt;dbl&gt;</th><th scope=col>&lt;dbl&gt;</th><th scope=col>&lt;dbl&gt;</th><th scope=col>&lt;dbl&gt;</th><th scope=col>&lt;dbl&gt;</th><th scope=col>&lt;dbl&gt;</th><th scope=col>&lt;dbl&gt;</th><th scope=col>...</th><th scope=col>&lt;dbl&gt;</th><th scope=col>&lt;dbl&gt;</th><th scope=col>&lt;dbl&gt;</th><th scope=col>&lt;dbl&gt;</th><th scope=col>&lt;dbl&gt;</th><th scope=col>&lt;dbl&gt;</th><th scope=col>&lt;dbl&gt;</th><th scope=col>&lt;dbl&gt;</th><th scope=col>&lt;dbl&gt;</th><th scope=col>&lt;dbl&gt;</th></tr>\n",
       "</thead>\n",
       "<tbody>\n",
       "\t<tr><td>4 </td><td>3</td><td>  766.8571</td><td>  76.28571</td><td> 248.5714</td><td> 314.2857</td><td> 104.5714</td><td> 260.2857</td><td>  314.2857</td><td> 2060.00</td><td>...</td><td> 6925.571</td><td> 5428.857</td><td> 5170.286</td><td> 3253.00</td><td> 3900.286</td><td> 4328.714</td><td> 6462.429</td><td> 5043</td><td>   32.14286</td><td>  432.000</td></tr>\n",
       "\t<tr><td>18</td><td>1</td><td>28774.8333</td><td>3164.83333</td><td>4179.6667</td><td>4172.5000</td><td>3599.3333</td><td>8289.0000</td><td>38356.3333</td><td>18199.00</td><td>...</td><td>19682.667</td><td>32323.000</td><td>24117.333</td><td>28279.33</td><td>33791.000</td><td>35362.167</td><td>49850.667</td><td>27779</td><td>16279.66667</td><td>29627.833</td></tr>\n",
       "\t<tr><td>43</td><td>2</td><td> 1361.8571</td><td>1803.14286</td><td> 828.5714</td><td>1351.4286</td><td> 822.0000</td><td>7100.8571</td><td>10687.8571</td><td>13208.71</td><td>...</td><td>24584.857</td><td>31278.000</td><td>20531.429</td><td>17190.57</td><td>22813.857</td><td>32857.714</td><td>14395.000</td><td>11778</td><td> 7280.00000</td><td> 4676.143</td></tr>\n",
       "</tbody>\n",
       "</table>\n"
      ],
      "text/latex": [
       "A tibble: 3 × 26\n",
       "\\begin{tabular}{lllllllllllllllllllll}\n",
       " id & arm & T00h00 & T01h00 & T02h00 & T03h00 & T04h00 & T05h00 & T06h00 & T07h00 & ... & T14h00 & T15h00 & T16h00 & T17h00 & T18h00 & T19h00 & T20h00 & T21h00 & T22h00 & T23h00\\\\\n",
       " <chr> & <dbl> & <dbl> & <dbl> & <dbl> & <dbl> & <dbl> & <dbl> & <dbl> & <dbl> & ... & <dbl> & <dbl> & <dbl> & <dbl> & <dbl> & <dbl> & <dbl> & <dbl> & <dbl> & <dbl>\\\\\n",
       "\\hline\n",
       "\t 4  & 3 &   766.8571 &   76.28571 &  248.5714 &  314.2857 &  104.5714 &  260.2857 &   314.2857 &  2060.00 & ... &  6925.571 &  5428.857 &  5170.286 &  3253.00 &  3900.286 &  4328.714 &  6462.429 &  5043 &    32.14286 &   432.000\\\\\n",
       "\t 18 & 1 & 28774.8333 & 3164.83333 & 4179.6667 & 4172.5000 & 3599.3333 & 8289.0000 & 38356.3333 & 18199.00 & ... & 19682.667 & 32323.000 & 24117.333 & 28279.33 & 33791.000 & 35362.167 & 49850.667 & 27779 & 16279.66667 & 29627.833\\\\\n",
       "\t 43 & 2 &  1361.8571 & 1803.14286 &  828.5714 & 1351.4286 &  822.0000 & 7100.8571 & 10687.8571 & 13208.71 & ... & 24584.857 & 31278.000 & 20531.429 & 17190.57 & 22813.857 & 32857.714 & 14395.000 & 11778 &  7280.00000 &  4676.143\\\\\n",
       "\\end{tabular}\n"
      ],
      "text/markdown": [
       "\n",
       "A tibble: 3 × 26\n",
       "\n",
       "| id &lt;chr&gt; | arm &lt;dbl&gt; | T00h00 &lt;dbl&gt; | T01h00 &lt;dbl&gt; | T02h00 &lt;dbl&gt; | T03h00 &lt;dbl&gt; | T04h00 &lt;dbl&gt; | T05h00 &lt;dbl&gt; | T06h00 &lt;dbl&gt; | T07h00 &lt;dbl&gt; | ... ... | T14h00 &lt;dbl&gt; | T15h00 &lt;dbl&gt; | T16h00 &lt;dbl&gt; | T17h00 &lt;dbl&gt; | T18h00 &lt;dbl&gt; | T19h00 &lt;dbl&gt; | T20h00 &lt;dbl&gt; | T21h00 &lt;dbl&gt; | T22h00 &lt;dbl&gt; | T23h00 &lt;dbl&gt; |\n",
       "|---|---|---|---|---|---|---|---|---|---|---|---|---|---|---|---|---|---|---|---|---|\n",
       "| 4  | 3 |   766.8571 |   76.28571 |  248.5714 |  314.2857 |  104.5714 |  260.2857 |   314.2857 |  2060.00 | ... |  6925.571 |  5428.857 |  5170.286 |  3253.00 |  3900.286 |  4328.714 |  6462.429 |  5043 |    32.14286 |   432.000 |\n",
       "| 18 | 1 | 28774.8333 | 3164.83333 | 4179.6667 | 4172.5000 | 3599.3333 | 8289.0000 | 38356.3333 | 18199.00 | ... | 19682.667 | 32323.000 | 24117.333 | 28279.33 | 33791.000 | 35362.167 | 49850.667 | 27779 | 16279.66667 | 29627.833 |\n",
       "| 43 | 2 |  1361.8571 | 1803.14286 |  828.5714 | 1351.4286 |  822.0000 | 7100.8571 | 10687.8571 | 13208.71 | ... | 24584.857 | 31278.000 | 20531.429 | 17190.57 | 22813.857 | 32857.714 | 14395.000 | 11778 |  7280.00000 |  4676.143 |\n",
       "\n"
      ],
      "text/plain": [
       "  id arm T00h00     T01h00     T02h00    T03h00    T04h00    T05h00   \n",
       "1 4  3     766.8571   76.28571  248.5714  314.2857  104.5714  260.2857\n",
       "2 18 1   28774.8333 3164.83333 4179.6667 4172.5000 3599.3333 8289.0000\n",
       "3 43 2    1361.8571 1803.14286  828.5714 1351.4286  822.0000 7100.8571\n",
       "  T06h00     T07h00   ... T14h00    T15h00    T16h00    T17h00   T18h00   \n",
       "1   314.2857  2060.00 ...  6925.571  5428.857  5170.286  3253.00  3900.286\n",
       "2 38356.3333 18199.00 ... 19682.667 32323.000 24117.333 28279.33 33791.000\n",
       "3 10687.8571 13208.71 ... 24584.857 31278.000 20531.429 17190.57 22813.857\n",
       "  T19h00    T20h00    T21h00 T22h00      T23h00   \n",
       "1  4328.714  6462.429  5043     32.14286   432.000\n",
       "2 35362.167 49850.667 27779  16279.66667 29627.833\n",
       "3 32857.714 14395.000 11778   7280.00000  4676.143"
      ]
     },
     "metadata": {},
     "output_type": "display_data"
    },
    {
     "data": {
      "text/html": [
       "<table>\n",
       "<caption>A tibble: 3 × 2</caption>\n",
       "<thead>\n",
       "\t<tr><th scope=col>id</th><th scope=col>weightRatio</th></tr>\n",
       "\t<tr><th scope=col>&lt;chr&gt;</th><th scope=col>&lt;dbl&gt;</th></tr>\n",
       "</thead>\n",
       "<tbody>\n",
       "\t<tr><td>4 </td><td>1.153191</td></tr>\n",
       "\t<tr><td>43</td><td>1.174367</td></tr>\n",
       "\t<tr><td>44</td><td>1.074913</td></tr>\n",
       "</tbody>\n",
       "</table>\n"
      ],
      "text/latex": [
       "A tibble: 3 × 2\n",
       "\\begin{tabular}{ll}\n",
       " id & weightRatio\\\\\n",
       " <chr> & <dbl>\\\\\n",
       "\\hline\n",
       "\t 4  & 1.153191\\\\\n",
       "\t 43 & 1.174367\\\\\n",
       "\t 44 & 1.074913\\\\\n",
       "\\end{tabular}\n"
      ],
      "text/markdown": [
       "\n",
       "A tibble: 3 × 2\n",
       "\n",
       "| id &lt;chr&gt; | weightRatio &lt;dbl&gt; |\n",
       "|---|---|\n",
       "| 4  | 1.153191 |\n",
       "| 43 | 1.174367 |\n",
       "| 44 | 1.074913 |\n",
       "\n"
      ],
      "text/plain": [
       "  id weightRatio\n",
       "1 4  1.153191   \n",
       "2 43 1.174367   \n",
       "3 44 1.074913   "
      ]
     },
     "metadata": {},
     "output_type": "display_data"
    }
   ],
   "source": [
    "# Read cvs file\n",
    "# df = read_csv(\"../../../data/fda/mBaselineSteps60.csv\");\n",
    "# df = read_csv(\"../../../data/fda/mVisitBaseline_60_Acc.csv\");\n",
    "# dfAcc = read_csv(\"../../../data/fda/mVisit32w_60_Acc.csv\");\n",
    "# df = read_csv(\"../../../data/fda/mVisit6wPP_60_Acc.csv\");\n",
    "# df = read_csv(\"../../../data/fda/mVisit6mPP_60_Acc.csv\");\n",
    "# df = read_csv(\"../../../data/fda/mVisit12mPP_60_Acc.csv\")\n",
    "df = read_csv(\"../../../data/fda/mVisit32w-VisitBaseline_60_Acc.csv\");\n",
    "dfWeight = read_csv(\"../../../data/fda/weightChange21.csv\");\n",
    "\n",
    "\n",
    "names(dfAcc)[names(dfAcc)==\"studyID\"] <- \"id\"\n",
    "dfAcc$id <- as.character(dfAcc$id)\n",
    "head(dfAcc, 3)\n",
    "\n",
    "names(dfWeight)[names(dfWeight)==\"studyID\"] <- \"id\"\n",
    "dfWeight$id <- as.character(dfWeight$id)\n",
    "head(dfWeight, 3)\n"
   ]
  },
  {
   "cell_type": "markdown",
   "metadata": {},
   "source": [
    "Joint data frame according to dfWeight:"
   ]
  },
  {
   "cell_type": "code",
   "execution_count": 94,
   "metadata": {},
   "outputs": [
    {
     "data": {
      "text/html": [
       "<table>\n",
       "<caption>A tibble: 3 × 27</caption>\n",
       "<thead>\n",
       "\t<tr><th scope=col>id</th><th scope=col>weightRatio</th><th scope=col>arm</th><th scope=col>T00h00</th><th scope=col>T01h00</th><th scope=col>T02h00</th><th scope=col>T03h00</th><th scope=col>T04h00</th><th scope=col>T05h00</th><th scope=col>T06h00</th><th scope=col>...</th><th scope=col>T14h00</th><th scope=col>T15h00</th><th scope=col>T16h00</th><th scope=col>T17h00</th><th scope=col>T18h00</th><th scope=col>T19h00</th><th scope=col>T20h00</th><th scope=col>T21h00</th><th scope=col>T22h00</th><th scope=col>T23h00</th></tr>\n",
       "\t<tr><th scope=col>&lt;chr&gt;</th><th scope=col>&lt;dbl&gt;</th><th scope=col>&lt;dbl&gt;</th><th scope=col>&lt;dbl&gt;</th><th scope=col>&lt;dbl&gt;</th><th scope=col>&lt;dbl&gt;</th><th scope=col>&lt;dbl&gt;</th><th scope=col>&lt;dbl&gt;</th><th scope=col>&lt;dbl&gt;</th><th scope=col>&lt;dbl&gt;</th><th scope=col>...</th><th scope=col>&lt;dbl&gt;</th><th scope=col>&lt;dbl&gt;</th><th scope=col>&lt;dbl&gt;</th><th scope=col>&lt;dbl&gt;</th><th scope=col>&lt;dbl&gt;</th><th scope=col>&lt;dbl&gt;</th><th scope=col>&lt;dbl&gt;</th><th scope=col>&lt;dbl&gt;</th><th scope=col>&lt;dbl&gt;</th><th scope=col>&lt;dbl&gt;</th></tr>\n",
       "</thead>\n",
       "<tbody>\n",
       "\t<tr><td>4 </td><td>1.153191</td><td>3</td><td> 766.8571</td><td>  76.28571</td><td> 248.5714</td><td> 314.2857</td><td>104.5714</td><td> 260.2857</td><td>  314.2857</td><td>...</td><td> 6925.571</td><td> 5428.857</td><td> 5170.286</td><td> 3253.00</td><td> 3900.286</td><td> 4328.714</td><td> 6462.429</td><td> 5043.00</td><td>   32.14286</td><td>  432.000</td></tr>\n",
       "\t<tr><td>43</td><td>1.174367</td><td>2</td><td>1361.8571</td><td>1803.14286</td><td> 828.5714</td><td>1351.4286</td><td>822.0000</td><td>7100.8571</td><td>10687.8571</td><td>...</td><td>24584.857</td><td>31278.000</td><td>20531.429</td><td>17190.57</td><td>22813.857</td><td>32857.714</td><td>14395.000</td><td>11778.00</td><td> 7280.00000</td><td> 4676.143</td></tr>\n",
       "\t<tr><td>44</td><td>1.074913</td><td>3</td><td>6945.0000</td><td>5142.28571</td><td>2158.4286</td><td> 237.2857</td><td>358.5714</td><td> 354.1429</td><td>  462.8571</td><td>...</td><td>19570.857</td><td>16532.714</td><td>18475.429</td><td>13766.00</td><td>14840.143</td><td>18610.857</td><td>16572.571</td><td>12232.71</td><td>11197.85714</td><td>16420.714</td></tr>\n",
       "</tbody>\n",
       "</table>\n"
      ],
      "text/latex": [
       "A tibble: 3 × 27\n",
       "\\begin{tabular}{lllllllllllllllllllll}\n",
       " id & weightRatio & arm & T00h00 & T01h00 & T02h00 & T03h00 & T04h00 & T05h00 & T06h00 & ... & T14h00 & T15h00 & T16h00 & T17h00 & T18h00 & T19h00 & T20h00 & T21h00 & T22h00 & T23h00\\\\\n",
       " <chr> & <dbl> & <dbl> & <dbl> & <dbl> & <dbl> & <dbl> & <dbl> & <dbl> & <dbl> & ... & <dbl> & <dbl> & <dbl> & <dbl> & <dbl> & <dbl> & <dbl> & <dbl> & <dbl> & <dbl>\\\\\n",
       "\\hline\n",
       "\t 4  & 1.153191 & 3 &  766.8571 &   76.28571 &  248.5714 &  314.2857 & 104.5714 &  260.2857 &   314.2857 & ... &  6925.571 &  5428.857 &  5170.286 &  3253.00 &  3900.286 &  4328.714 &  6462.429 &  5043.00 &    32.14286 &   432.000\\\\\n",
       "\t 43 & 1.174367 & 2 & 1361.8571 & 1803.14286 &  828.5714 & 1351.4286 & 822.0000 & 7100.8571 & 10687.8571 & ... & 24584.857 & 31278.000 & 20531.429 & 17190.57 & 22813.857 & 32857.714 & 14395.000 & 11778.00 &  7280.00000 &  4676.143\\\\\n",
       "\t 44 & 1.074913 & 3 & 6945.0000 & 5142.28571 & 2158.4286 &  237.2857 & 358.5714 &  354.1429 &   462.8571 & ... & 19570.857 & 16532.714 & 18475.429 & 13766.00 & 14840.143 & 18610.857 & 16572.571 & 12232.71 & 11197.85714 & 16420.714\\\\\n",
       "\\end{tabular}\n"
      ],
      "text/markdown": [
       "\n",
       "A tibble: 3 × 27\n",
       "\n",
       "| id &lt;chr&gt; | weightRatio &lt;dbl&gt; | arm &lt;dbl&gt; | T00h00 &lt;dbl&gt; | T01h00 &lt;dbl&gt; | T02h00 &lt;dbl&gt; | T03h00 &lt;dbl&gt; | T04h00 &lt;dbl&gt; | T05h00 &lt;dbl&gt; | T06h00 &lt;dbl&gt; | ... ... | T14h00 &lt;dbl&gt; | T15h00 &lt;dbl&gt; | T16h00 &lt;dbl&gt; | T17h00 &lt;dbl&gt; | T18h00 &lt;dbl&gt; | T19h00 &lt;dbl&gt; | T20h00 &lt;dbl&gt; | T21h00 &lt;dbl&gt; | T22h00 &lt;dbl&gt; | T23h00 &lt;dbl&gt; |\n",
       "|---|---|---|---|---|---|---|---|---|---|---|---|---|---|---|---|---|---|---|---|---|\n",
       "| 4  | 1.153191 | 3 |  766.8571 |   76.28571 |  248.5714 |  314.2857 | 104.5714 |  260.2857 |   314.2857 | ... |  6925.571 |  5428.857 |  5170.286 |  3253.00 |  3900.286 |  4328.714 |  6462.429 |  5043.00 |    32.14286 |   432.000 |\n",
       "| 43 | 1.174367 | 2 | 1361.8571 | 1803.14286 |  828.5714 | 1351.4286 | 822.0000 | 7100.8571 | 10687.8571 | ... | 24584.857 | 31278.000 | 20531.429 | 17190.57 | 22813.857 | 32857.714 | 14395.000 | 11778.00 |  7280.00000 |  4676.143 |\n",
       "| 44 | 1.074913 | 3 | 6945.0000 | 5142.28571 | 2158.4286 |  237.2857 | 358.5714 |  354.1429 |   462.8571 | ... | 19570.857 | 16532.714 | 18475.429 | 13766.00 | 14840.143 | 18610.857 | 16572.571 | 12232.71 | 11197.85714 | 16420.714 |\n",
       "\n"
      ],
      "text/plain": [
       "  id weightRatio arm T00h00    T01h00     T02h00    T03h00    T04h00  \n",
       "1 4  1.153191    3    766.8571   76.28571  248.5714  314.2857 104.5714\n",
       "2 43 1.174367    2   1361.8571 1803.14286  828.5714 1351.4286 822.0000\n",
       "3 44 1.074913    3   6945.0000 5142.28571 2158.4286  237.2857 358.5714\n",
       "  T05h00    T06h00     ... T14h00    T15h00    T16h00    T17h00   T18h00   \n",
       "1  260.2857   314.2857 ...  6925.571  5428.857  5170.286  3253.00  3900.286\n",
       "2 7100.8571 10687.8571 ... 24584.857 31278.000 20531.429 17190.57 22813.857\n",
       "3  354.1429   462.8571 ... 19570.857 16532.714 18475.429 13766.00 14840.143\n",
       "  T19h00    T20h00    T21h00   T22h00      T23h00   \n",
       "1  4328.714  6462.429  5043.00    32.14286   432.000\n",
       "2 32857.714 14395.000 11778.00  7280.00000  4676.143\n",
       "3 18610.857 16572.571 12232.71 11197.85714 16420.714"
      ]
     },
     "metadata": {},
     "output_type": "display_data"
    }
   ],
   "source": [
    "df <- left_join(dfWeight, dfAcc, by = \"id\")\n",
    "head(df, 3)"
   ]
  },
  {
   "cell_type": "code",
   "execution_count": 95,
   "metadata": {},
   "outputs": [
    {
     "data": {
      "text/html": [
       "<table>\n",
       "<caption>A spec_tbl_df: 1 × 27</caption>\n",
       "<thead>\n",
       "\t<tr><th scope=col>id</th><th scope=col>weightRatio</th><th scope=col>arm</th><th scope=col>T00h00</th><th scope=col>T01h00</th><th scope=col>T02h00</th><th scope=col>T03h00</th><th scope=col>T04h00</th><th scope=col>T05h00</th><th scope=col>T06h00</th><th scope=col>...</th><th scope=col>T14h00</th><th scope=col>T15h00</th><th scope=col>T16h00</th><th scope=col>T17h00</th><th scope=col>T18h00</th><th scope=col>T19h00</th><th scope=col>T20h00</th><th scope=col>T21h00</th><th scope=col>T22h00</th><th scope=col>T23h00</th></tr>\n",
       "\t<tr><th scope=col>&lt;chr&gt;</th><th scope=col>&lt;dbl&gt;</th><th scope=col>&lt;dbl&gt;</th><th scope=col>&lt;dbl&gt;</th><th scope=col>&lt;dbl&gt;</th><th scope=col>&lt;dbl&gt;</th><th scope=col>&lt;dbl&gt;</th><th scope=col>&lt;dbl&gt;</th><th scope=col>&lt;dbl&gt;</th><th scope=col>&lt;dbl&gt;</th><th scope=col>...</th><th scope=col>&lt;dbl&gt;</th><th scope=col>&lt;dbl&gt;</th><th scope=col>&lt;dbl&gt;</th><th scope=col>&lt;dbl&gt;</th><th scope=col>&lt;dbl&gt;</th><th scope=col>&lt;dbl&gt;</th><th scope=col>&lt;dbl&gt;</th><th scope=col>&lt;dbl&gt;</th><th scope=col>&lt;dbl&gt;</th><th scope=col>&lt;dbl&gt;</th></tr>\n",
       "</thead>\n",
       "<tbody>\n",
       "\t<tr><td>151</td><td>1.12051</td><td>1</td><td>2271.857</td><td>1906.429</td><td>1729</td><td>2584.429</td><td>7493.143</td><td>29931.43</td><td>19565.86</td><td>...</td><td>16292.43</td><td>21937.86</td><td>22330</td><td>24246.71</td><td>18600</td><td>17603.29</td><td>11605.71</td><td>3734.857</td><td>3933</td><td>1962</td></tr>\n",
       "</tbody>\n",
       "</table>\n"
      ],
      "text/latex": [
       "A spec\\_tbl\\_df: 1 × 27\n",
       "\\begin{tabular}{lllllllllllllllllllll}\n",
       " id & weightRatio & arm & T00h00 & T01h00 & T02h00 & T03h00 & T04h00 & T05h00 & T06h00 & ... & T14h00 & T15h00 & T16h00 & T17h00 & T18h00 & T19h00 & T20h00 & T21h00 & T22h00 & T23h00\\\\\n",
       " <chr> & <dbl> & <dbl> & <dbl> & <dbl> & <dbl> & <dbl> & <dbl> & <dbl> & <dbl> & ... & <dbl> & <dbl> & <dbl> & <dbl> & <dbl> & <dbl> & <dbl> & <dbl> & <dbl> & <dbl>\\\\\n",
       "\\hline\n",
       "\t 151 & 1.12051 & 1 & 2271.857 & 1906.429 & 1729 & 2584.429 & 7493.143 & 29931.43 & 19565.86 & ... & 16292.43 & 21937.86 & 22330 & 24246.71 & 18600 & 17603.29 & 11605.71 & 3734.857 & 3933 & 1962\\\\\n",
       "\\end{tabular}\n"
      ],
      "text/markdown": [
       "\n",
       "A spec_tbl_df: 1 × 27\n",
       "\n",
       "| id &lt;chr&gt; | weightRatio &lt;dbl&gt; | arm &lt;dbl&gt; | T00h00 &lt;dbl&gt; | T01h00 &lt;dbl&gt; | T02h00 &lt;dbl&gt; | T03h00 &lt;dbl&gt; | T04h00 &lt;dbl&gt; | T05h00 &lt;dbl&gt; | T06h00 &lt;dbl&gt; | ... ... | T14h00 &lt;dbl&gt; | T15h00 &lt;dbl&gt; | T16h00 &lt;dbl&gt; | T17h00 &lt;dbl&gt; | T18h00 &lt;dbl&gt; | T19h00 &lt;dbl&gt; | T20h00 &lt;dbl&gt; | T21h00 &lt;dbl&gt; | T22h00 &lt;dbl&gt; | T23h00 &lt;dbl&gt; |\n",
       "|---|---|---|---|---|---|---|---|---|---|---|---|---|---|---|---|---|---|---|---|---|\n",
       "| 151 | 1.12051 | 1 | 2271.857 | 1906.429 | 1729 | 2584.429 | 7493.143 | 29931.43 | 19565.86 | ... | 16292.43 | 21937.86 | 22330 | 24246.71 | 18600 | 17603.29 | 11605.71 | 3734.857 | 3933 | 1962 |\n",
       "\n"
      ],
      "text/plain": [
       "  id  weightRatio arm T00h00   T01h00   T02h00 T03h00   T04h00   T05h00  \n",
       "1 151 1.12051     1   2271.857 1906.429 1729   2584.429 7493.143 29931.43\n",
       "  T06h00   ... T14h00   T15h00   T16h00 T17h00   T18h00 T19h00   T20h00  \n",
       "1 19565.86 ... 16292.43 21937.86 22330  24246.71 18600  17603.29 11605.71\n",
       "  T21h00   T22h00 T23h00\n",
       "1 3734.857 3933   1962  "
      ]
     },
     "metadata": {},
     "output_type": "display_data"
    }
   ],
   "source": [
    "filter(df, id == \"151\" )"
   ]
  },
  {
   "cell_type": "markdown",
   "metadata": {},
   "source": [
    "## Functional principal components (FPC) regression"
   ]
  },
  {
   "cell_type": "markdown",
   "metadata": {},
   "source": [
    "We fit functional linear regression by assuming $\\beta(t) = \\sum_{k=1}^\\infty{\\beta_k\\phi_k(t)}$"
   ]
  },
  {
   "cell_type": "markdown",
   "metadata": {},
   "source": [
    "### Define response and covariate:"
   ]
  },
  {
   "cell_type": "code",
   "execution_count": 96,
   "metadata": {},
   "outputs": [
    {
     "data": {
      "text/html": [
       "<style>\n",
       ".list-inline {list-style: none; margin:0; padding: 0}\n",
       ".list-inline>li {display: inline-block}\n",
       ".list-inline>li:not(:last-child)::after {content: \"\\00b7\"; padding: 0 .5ex}\n",
       "</style>\n",
       "<ol class=list-inline><li>181</li><li>24</li></ol>\n"
      ],
      "text/latex": [
       "\\begin{enumerate*}\n",
       "\\item 181\n",
       "\\item 24\n",
       "\\end{enumerate*}\n"
      ],
      "text/markdown": [
       "1. 181\n",
       "2. 24\n",
       "\n",
       "\n"
      ],
      "text/plain": [
       "[1] 181  24"
      ]
     },
     "metadata": {},
     "output_type": "display_data"
    },
    {
     "data": {
      "text/html": [
       "181"
      ],
      "text/latex": [
       "181"
      ],
      "text/markdown": [
       "181"
      ],
      "text/plain": [
       "[1] 181"
      ]
     },
     "metadata": {},
     "output_type": "display_data"
    }
   ],
   "source": [
    "# Create temporal axis depending on the resolution of the data\n",
    "time <- 1:(dim(df)[2]-3)\n",
    "n <- dim(df)[1]\n",
    "\n",
    "X <- as.matrix(df[,c(4:dim(df)[2])]) # functional covariate: physical activity\n",
    "Y <- as.vector(df$weightRatio) # scalar response: weight change\n",
    "\n",
    "# myDat <- data.frame(X = X)\n",
    "# myDat$Y <- Y\n",
    "\n",
    "dim(X);length(Y)"
   ]
  },
  {
   "cell_type": "markdown",
   "metadata": {},
   "source": [
    "### Run fPCA on the functional covariate using fpca.sc in refund package.\n",
    "`fpca.sc` decomposes functional observations using functional principal components analysis. A mixed model framework is used to estimate scores and obtain variance estimates."
   ]
  },
  {
   "cell_type": "code",
   "execution_count": 97,
   "metadata": {},
   "outputs": [],
   "source": [
    "fpca_res <- fpca.sc(X, argvals = time, pve = 0.99) # pve is the proportion of variance explained: used to choose the number of principal components.\n",
    "\n",
    "m <- length(time)\n",
    "efn <- fpca_res$efunctions*sqrt(m) # estimated eigenfunctions\n",
    "evals <- fpca_res$evalues/m # estimated eigen values \n",
    "scr <- fpca_res$scores/sqrt(m) # estimated FPC scores\n",
    "npc <- fpca_res$npc # number of principal component needed to explain proportion pve of the variance in the observed curves "
   ]
  },
  {
   "cell_type": "code",
   "execution_count": 98,
   "metadata": {},
   "outputs": [
    {
     "data": {
      "image/png": "[encoded data removed]",
      "text/plain": [
       "Plot with title \"Estimated eigenfunctions\""
      ]
     },
     "metadata": {
      "image/png": {
       "height": 420,
       "width": 420
      }
     },
     "output_type": "display_data"
    }
   ],
   "source": [
    "matplot(time, efn, type='l', lty=1, lwd=2,\n",
    "        col=rainbow(fpca_res$npc),\n",
    "        main = \"Estimated eigenfunctions\", ylab=\"\",\n",
    "        xlab = \"time(hour)\")\n",
    "legend(\"topleft\", col = rainbow(fpca_res$npc), \n",
    "       lwd=2, lty=1, legend = paste0(\"fPC\", 1:fpca_res$npc),\n",
    "       cex = 1.5, bty = \"n\")"
   ]
  },
  {
   "cell_type": "code",
   "execution_count": 99,
   "metadata": {},
   "outputs": [
    {
     "data": {
      "image/png": "[encoded data removed]",
      "text/plain": [
       "Plot with title \"fPC1\""
      ]
     },
     "metadata": {
      "image/png": {
       "height": 420,
       "width": 420
      }
     },
     "output_type": "display_data"
    }
   ],
   "source": [
    "kPC <- 1\n",
    "effect <- sqrt(evals[kPC])*efn[,kPC]\n",
    "mu_hat <- fpca_res$mu # estimated mean function\n",
    "\n",
    "par(mfrow = c(2,1))\n",
    "plot(time, efn[,kPC], type='l', lwd=2, lty=1, \n",
    "     xlab = \"time(hour)\", ylab=\"\", main = paste(\"fPC\", kPC))\n",
    "\n",
    "matplot(time, cbind(mu_hat-effect, mu_hat+effect), \n",
    "        col=c(\"red\", \"blue\"), pch = c(\"-\", \"+\"),\n",
    "        main = paste0(\"fPC\", kPC), \n",
    "        xlab = \"time(hour)\", ylab=\"\")\n",
    "lines(time, mu_hat, lwd=2)"
   ]
  },
  {
   "cell_type": "markdown",
   "metadata": {},
   "source": [
    "### Multiple linear regression on the vector of scalar response weight change"
   ]
  },
  {
   "cell_type": "code",
   "execution_count": 100,
   "metadata": {},
   "outputs": [],
   "source": [
    "out = lm(Y ~ scr) ## Multiple linear regression\n",
    "# summary(out)"
   ]
  },
  {
   "cell_type": "code",
   "execution_count": 101,
   "metadata": {},
   "outputs": [
    {
     "data": {
      "text/html": [
       "<style>\n",
       ".dl-inline {width: auto; margin:0; padding: 0}\n",
       ".dl-inline>dt, .dl-inline>dd {float: none; width: auto; display: inline-block}\n",
       ".dl-inline>dt::after {content: \":\\0020\"; padding-right: .5ex}\n",
       ".dl-inline>dt:not(:first-of-type) {padding-left: .5ex}\n",
       "</style><dl class=dl-inline><dt>(Intercept)</dt><dd>1.1253635292762</dd><dt>scr1</dt><dd>-2.02545898588055e-06</dd><dt>scr2</dt><dd>-5.24063462686314e-07</dd><dt>scr3</dt><dd>-4.8814551205241e-06</dd><dt>scr4</dt><dd>-3.27908219944511e-06</dd><dt>scr5</dt><dd>-6.53383400633947e-06</dd><dt>scr6</dt><dd>1.01592333220214e-05</dd><dt>scr7</dt><dd>-1.1803241143601e-05</dd><dt>scr8</dt><dd>2.4521191797798e-05</dd></dl>\n"
      ],
      "text/latex": [
       "\\begin{description*}\n",
       "\\item[(Intercept)] 1.1253635292762\n",
       "\\item[scr1] -2.02545898588055e-06\n",
       "\\item[scr2] -5.24063462686314e-07\n",
       "\\item[scr3] -4.8814551205241e-06\n",
       "\\item[scr4] -3.27908219944511e-06\n",
       "\\item[scr5] -6.53383400633947e-06\n",
       "\\item[scr6] 1.01592333220214e-05\n",
       "\\item[scr7] -1.1803241143601e-05\n",
       "\\item[scr8] 2.4521191797798e-05\n",
       "\\end{description*}\n"
      ],
      "text/markdown": [
       "(Intercept)\n",
       ":   1.1253635292762scr1\n",
       ":   -2.02545898588055e-06scr2\n",
       ":   -5.24063462686314e-07scr3\n",
       ":   -4.8814551205241e-06scr4\n",
       ":   -3.27908219944511e-06scr5\n",
       ":   -6.53383400633947e-06scr6\n",
       ":   1.01592333220214e-05scr7\n",
       ":   -1.1803241143601e-05scr8\n",
       ":   2.4521191797798e-05\n",
       "\n"
      ],
      "text/plain": [
       "  (Intercept)          scr1          scr2          scr3          scr4 \n",
       " 1.125364e+00 -2.025459e-06 -5.240635e-07 -4.881455e-06 -3.279082e-06 \n",
       "         scr5          scr6          scr7          scr8 \n",
       "-6.533834e-06  1.015923e-05 -1.180324e-05  2.452119e-05 "
      ]
     },
     "metadata": {},
     "output_type": "display_data"
    }
   ],
   "source": [
    "beta_hat = out$coefficients\n",
    "beta_hat"
   ]
  },
  {
   "cell_type": "markdown",
   "metadata": {},
   "source": [
    "Since fPCA selected the first 6 principal componenets based on the specified percentage of variance explained, we have 6 corresponding basis coefficients."
   ]
  },
  {
   "cell_type": "markdown",
   "metadata": {},
   "source": [
    "Let reconstruct the regression coefficient function:"
   ]
  },
  {
   "cell_type": "code",
   "execution_count": 102,
   "metadata": {},
   "outputs": [
    {
     "data": {
      "image/png": "[encoded data removed]",
      "text/plain": [
       "Plot with title \"estimated coefficient fn\""
      ]
     },
     "metadata": {
      "image/png": {
       "height": 420,
       "width": 420
      }
     },
     "output_type": "display_data"
    }
   ],
   "source": [
    "par(mfrow=c(1,1))\n",
    "beta_fn_hat  = efn %*% as.matrix(beta_hat[-1], col=1)\n",
    "plot(time, beta_fn_hat, type='l', lwd=2,\n",
    "     xlab=\"time(hour)\", ylab = \"\", main=\"estimated coefficient fn\")"
   ]
  },
  {
   "cell_type": "markdown",
   "metadata": {},
   "source": [
    "Let’s focus on looking at three random activity profiles:"
   ]
  },
  {
   "cell_type": "code",
   "execution_count": 103,
   "metadata": {},
   "outputs": [
    {
     "data": {
      "text/html": [
       "<style>\n",
       ".list-inline {list-style: none; margin:0; padding: 0}\n",
       ".list-inline>li {display: inline-block}\n",
       ".list-inline>li:not(:last-child)::after {content: \"\\00b7\"; padding: 0 .5ex}\n",
       "</style>\n",
       "<ol class=list-inline><li>159</li><li>179</li><li>14</li></ol>\n"
      ],
      "text/latex": [
       "\\begin{enumerate*}\n",
       "\\item 159\n",
       "\\item 179\n",
       "\\item 14\n",
       "\\end{enumerate*}\n"
      ],
      "text/markdown": [
       "1. 159\n",
       "2. 179\n",
       "3. 14\n",
       "\n",
       "\n"
      ],
      "text/plain": [
       "[1] 159 179  14"
      ]
     },
     "metadata": {},
     "output_type": "display_data"
    }
   ],
   "source": [
    "set.seed(123)\n",
    "nCrv <- 3\n",
    "selCrv <- sample(1:n, size = nCrv, replace = FALSE)\n",
    "selCrv"
   ]
  },
  {
   "cell_type": "code",
   "execution_count": 104,
   "metadata": {},
   "outputs": [
    {
     "data": {
      "image/png": "[encoded data removed]",
      "text/plain": [
       "Plot with title \"Three randomly selected curves\""
      ]
     },
     "metadata": {
      "image/png": {
       "height": 420,
       "width": 420
      }
     },
     "output_type": "display_data"
    }
   ],
   "source": [
    "matplot(time, t(fpca_res$Yhat[selCrv,]), type='l', lwd=2, lty=1,\n",
    "        xlab=\"time(hour)\", ylab=\"Activity Count\", main=\"Three randomly selected curves\")"
   ]
  },
  {
   "cell_type": "code",
   "execution_count": 105,
   "metadata": {},
   "outputs": [
    {
     "data": {
      "image/png": "[encoded data removed]",
      "text/plain": [
       "Plot with title \"-0.01\""
      ]
     },
     "metadata": {
      "image/png": {
       "height": 420,
       "width": 420
      }
     },
     "output_type": "display_data"
    }
   ],
   "source": [
    "par(mfrow=c(3,3))\n",
    "for(i in 1:3){\n",
    "    ind <- selCrv[i]\n",
    "    demeaned <- fpca_res$Yhat[ind,] - as.vector(fpca_res$mu)\n",
    "    \n",
    "    matplot(time, t(fpca_res$Yhat[selCrv,] - t(matrix(rep(fpca_res$mu,3), nrow= m))), \n",
    "            type='l', lwd=2, lty=1, col = 'light grey',\n",
    "        xlab=\"time(hour)\", ylab=\"Activity Count (demeaned)\", main=\"\")\n",
    "    lines(time, demeaned, type='l', lwd=2, col='red')\n",
    "    \n",
    "\n",
    "    plot(time, beta_fn_hat, type='l', lwd=2,\n",
    "         xlab=\"time(hour)\", ylab = \"estimated coefficient fn\", main=\"\")\n",
    "    plot(time, demeaned*beta_fn_hat,type='l', lwd=2, col='blue',\n",
    "         xlab=\"time(hour)\", ylab = \"\", ylim=c(-55, 70),\n",
    "         main=round(mean(demeaned*beta_fn_hat), 2))\n",
    "}"
   ]
  },
  {
   "cell_type": "markdown",
   "metadata": {},
   "source": [
    "### Goodness-of-fit"
   ]
  },
  {
   "cell_type": "code",
   "execution_count": 106,
   "metadata": {},
   "outputs": [
    {
     "data": {
      "image/png": "[encoded data removed]",
      "text/plain": [
       "plot without title"
      ]
     },
     "metadata": {
      "image/png": {
       "height": 420,
       "width": 420
      }
     },
     "output_type": "display_data"
    }
   ],
   "source": [
    "par(mfrow=c(1,1))\n",
    "plot(Y, out$fitted, cex=0.5, ylab=\"Fitted\", xlab=\"Observed\")\n",
    "abline(a = 0, b = 1)"
   ]
  },
  {
   "cell_type": "code",
   "execution_count": 107,
   "metadata": {},
   "outputs": [
    {
     "data": {
      "image/png": "[encoded data removed]",
      "text/plain": [
       "plot without title"
      ]
     },
     "metadata": {
      "image/png": {
       "height": 420,
       "width": 420
      }
     },
     "output_type": "display_data"
    }
   ],
   "source": [
    "fpca_res <- fpca.sc(X, argvals = time, pve = 0.97)\n",
    "Xhat <- fpca_res$Yhat\n",
    "Yhat <- predict(fit, newdata = list(X = Xhat))\n",
    "\n",
    "# goodness-of-fit\n",
    "par(mfrow=c(1,1))\n",
    "plot(Y, Yhat, cex=0.5, ylab=\"Fitted\", xlab=\"Observed\")\n",
    "abline(a = 0, b = 1)"
   ]
  },
  {
   "cell_type": "markdown",
   "metadata": {},
   "source": [
    "Calculate R-squared:"
   ]
  },
  {
   "cell_type": "code",
   "execution_count": 108,
   "metadata": {},
   "outputs": [
    {
     "data": {
      "text/html": [
       "0.0281137361843568"
      ],
      "text/latex": [
       "0.0281137361843568"
      ],
      "text/markdown": [
       "0.0281137361843568"
      ],
      "text/plain": [
       "[1] 0.02811374"
      ]
     },
     "metadata": {},
     "output_type": "display_data"
    }
   ],
   "source": [
    "Rsq = 1-sum((out$residuals)^2)/sum((Y- mean(Y))^2)\n",
    "Rsq"
   ]
  },
  {
   "cell_type": "markdown",
   "metadata": {},
   "source": [
    "## Functional linear model with mixed basis"
   ]
  },
  {
   "cell_type": "code",
   "execution_count": 111,
   "metadata": {},
   "outputs": [
    {
     "data": {
      "image/png": "[encoded data removed]",
      "text/plain": [
       "Plot with title \"Estimated coefficient function\""
      ]
     },
     "metadata": {
      "image/png": {
       "height": 420,
       "width": 420
      }
     },
     "output_type": "display_data"
    }
   ],
   "source": [
    "myDat <- data.frame(X, Y)\n",
    "fit <- pfr(Y ~ lf(X, k = 10, bs = \"ps\", presmooth=\"bspline\"), method = \"REML\", data = myDat)\n",
    "coef <- coef(fit)\n",
    "\n",
    "\n",
    "plot(coef$X.argvals, coef$value, ylab=expression(paste(beta(t))), \n",
    "     xlab=\"hour\", xaxt = 'n', type='l', lwd=2,\n",
    "     main=\"Estimated coefficient function\")\n",
    "axis(side = 1, at = seq(0,1,length.out = m), label=1:m)"
   ]
  },
  {
   "cell_type": "code",
   "execution_count": 110,
   "metadata": {},
   "outputs": [
    {
     "data": {
      "image/png": "[encoded data removed]",
      "text/plain": [
       "Plot with title \"Estimated coefficient function (20 basis fns)\""
      ]
     },
     "metadata": {
      "image/png": {
       "height": 420,
       "width": 420
      }
     },
     "output_type": "display_data"
    }
   ],
   "source": [
    "par(mfrow=c(3,1))\n",
    "for(k in c(10, 15, 20)){\n",
    " fit <- pfr(Y ~ lf(X, k = k, bs = \"cr\"), method = \"REML\", data = myDat)\n",
    " coef <- coef(fit)\n",
    "\n",
    "\n",
    "plot(coef$X.argvals, coef$value, ylab=expression(paste(beta(t))), \n",
    "     xlab=\"time\", xaxt = 'n', type='l', lwd=2,\n",
    "     main= paste0(\"Estimated coefficient function (\", k, \" basis fns)\"))\n",
    "axis(side = 1, at = seq(0,1,length.out = m), label=1:m)\n",
    " \n",
    "}"
   ]
  },
  {
   "cell_type": "code",
   "execution_count": 113,
   "metadata": {},
   "outputs": [
    {
     "data": {
      "text/html": [
       "<table>\n",
       "<caption>A grouped_df: 181 × 2</caption>\n",
       "<thead>\n",
       "\t<tr><th scope=col>weightRatio</th><th scope=col>arm</th></tr>\n",
       "\t<tr><th scope=col>&lt;dbl&gt;</th><th scope=col>&lt;dbl&gt;</th></tr>\n",
       "</thead>\n",
       "<tbody>\n",
       "\t<tr><td>1.153191</td><td>3</td></tr>\n",
       "\t<tr><td>1.174367</td><td>2</td></tr>\n",
       "\t<tr><td>1.074913</td><td>3</td></tr>\n",
       "\t<tr><td>1.166667</td><td>1</td></tr>\n",
       "\t<tr><td>1.127976</td><td>3</td></tr>\n",
       "\t<tr><td>1.114168</td><td>1</td></tr>\n",
       "\t<tr><td>1.201320</td><td>2</td></tr>\n",
       "\t<tr><td>1.173804</td><td>2</td></tr>\n",
       "\t<tr><td>1.133945</td><td>3</td></tr>\n",
       "\t<tr><td>1.217028</td><td>1</td></tr>\n",
       "\t<tr><td>1.219589</td><td>1</td></tr>\n",
       "\t<tr><td>1.068507</td><td>2</td></tr>\n",
       "\t<tr><td>1.160000</td><td>3</td></tr>\n",
       "\t<tr><td>1.153014</td><td>3</td></tr>\n",
       "\t<tr><td>1.140000</td><td>1</td></tr>\n",
       "\t<tr><td>1.217973</td><td>3</td></tr>\n",
       "\t<tr><td>1.126270</td><td>2</td></tr>\n",
       "\t<tr><td>1.120510</td><td>1</td></tr>\n",
       "\t<tr><td>1.191120</td><td>3</td></tr>\n",
       "\t<tr><td>1.181538</td><td>3</td></tr>\n",
       "\t<tr><td>1.013761</td><td>1</td></tr>\n",
       "\t<tr><td>1.139963</td><td>1</td></tr>\n",
       "\t<tr><td>1.109986</td><td>2</td></tr>\n",
       "\t<tr><td>1.096509</td><td>2</td></tr>\n",
       "\t<tr><td>1.098280</td><td>3</td></tr>\n",
       "\t<tr><td>1.146819</td><td>3</td></tr>\n",
       "\t<tr><td>1.193162</td><td>1</td></tr>\n",
       "\t<tr><td>1.219298</td><td>3</td></tr>\n",
       "\t<tr><td>1.053860</td><td>1</td></tr>\n",
       "\t<tr><td>1.090074</td><td>1</td></tr>\n",
       "\t<tr><td>...</td><td>...</td></tr>\n",
       "\t<tr><td>1.1534392</td><td>2</td></tr>\n",
       "\t<tr><td>1.0381526</td><td>2</td></tr>\n",
       "\t<tr><td>1.2174579</td><td>3</td></tr>\n",
       "\t<tr><td>1.1870794</td><td>3</td></tr>\n",
       "\t<tr><td>1.0862445</td><td>3</td></tr>\n",
       "\t<tr><td>1.1925795</td><td>3</td></tr>\n",
       "\t<tr><td>1.1588235</td><td>2</td></tr>\n",
       "\t<tr><td>1.1328790</td><td>1</td></tr>\n",
       "\t<tr><td>1.1363636</td><td>1</td></tr>\n",
       "\t<tr><td>1.1422156</td><td>2</td></tr>\n",
       "\t<tr><td>1.1611675</td><td>1</td></tr>\n",
       "\t<tr><td>1.0854817</td><td>1</td></tr>\n",
       "\t<tr><td>1.1585586</td><td>1</td></tr>\n",
       "\t<tr><td>1.1448900</td><td>2</td></tr>\n",
       "\t<tr><td>1.1315789</td><td>2</td></tr>\n",
       "\t<tr><td>1.1923077</td><td>2</td></tr>\n",
       "\t<tr><td>1.0981183</td><td>2</td></tr>\n",
       "\t<tr><td>1.0383189</td><td>3</td></tr>\n",
       "\t<tr><td>1.1676737</td><td>2</td></tr>\n",
       "\t<tr><td>1.1864831</td><td>3</td></tr>\n",
       "\t<tr><td>1.1468023</td><td>3</td></tr>\n",
       "\t<tr><td>1.0249729</td><td>1</td></tr>\n",
       "\t<tr><td>1.0836320</td><td>1</td></tr>\n",
       "\t<tr><td>1.1966942</td><td>2</td></tr>\n",
       "\t<tr><td>0.9750748</td><td>3</td></tr>\n",
       "\t<tr><td>1.1706294</td><td>1</td></tr>\n",
       "\t<tr><td>1.1901639</td><td>1</td></tr>\n",
       "\t<tr><td>1.0876945</td><td>1</td></tr>\n",
       "\t<tr><td>1.1612426</td><td>3</td></tr>\n",
       "\t<tr><td>1.1655451</td><td>2</td></tr>\n",
       "</tbody>\n",
       "</table>\n"
      ],
      "text/latex": [
       "A grouped\\_df: 181 × 2\n",
       "\\begin{tabular}{ll}\n",
       " weightRatio & arm\\\\\n",
       " <dbl> & <dbl>\\\\\n",
       "\\hline\n",
       "\t 1.153191 & 3\\\\\n",
       "\t 1.174367 & 2\\\\\n",
       "\t 1.074913 & 3\\\\\n",
       "\t 1.166667 & 1\\\\\n",
       "\t 1.127976 & 3\\\\\n",
       "\t 1.114168 & 1\\\\\n",
       "\t 1.201320 & 2\\\\\n",
       "\t 1.173804 & 2\\\\\n",
       "\t 1.133945 & 3\\\\\n",
       "\t 1.217028 & 1\\\\\n",
       "\t 1.219589 & 1\\\\\n",
       "\t 1.068507 & 2\\\\\n",
       "\t 1.160000 & 3\\\\\n",
       "\t 1.153014 & 3\\\\\n",
       "\t 1.140000 & 1\\\\\n",
       "\t 1.217973 & 3\\\\\n",
       "\t 1.126270 & 2\\\\\n",
       "\t 1.120510 & 1\\\\\n",
       "\t 1.191120 & 3\\\\\n",
       "\t 1.181538 & 3\\\\\n",
       "\t 1.013761 & 1\\\\\n",
       "\t 1.139963 & 1\\\\\n",
       "\t 1.109986 & 2\\\\\n",
       "\t 1.096509 & 2\\\\\n",
       "\t 1.098280 & 3\\\\\n",
       "\t 1.146819 & 3\\\\\n",
       "\t 1.193162 & 1\\\\\n",
       "\t 1.219298 & 3\\\\\n",
       "\t 1.053860 & 1\\\\\n",
       "\t 1.090074 & 1\\\\\n",
       "\t ... & ...\\\\\n",
       "\t 1.1534392 & 2\\\\\n",
       "\t 1.0381526 & 2\\\\\n",
       "\t 1.2174579 & 3\\\\\n",
       "\t 1.1870794 & 3\\\\\n",
       "\t 1.0862445 & 3\\\\\n",
       "\t 1.1925795 & 3\\\\\n",
       "\t 1.1588235 & 2\\\\\n",
       "\t 1.1328790 & 1\\\\\n",
       "\t 1.1363636 & 1\\\\\n",
       "\t 1.1422156 & 2\\\\\n",
       "\t 1.1611675 & 1\\\\\n",
       "\t 1.0854817 & 1\\\\\n",
       "\t 1.1585586 & 1\\\\\n",
       "\t 1.1448900 & 2\\\\\n",
       "\t 1.1315789 & 2\\\\\n",
       "\t 1.1923077 & 2\\\\\n",
       "\t 1.0981183 & 2\\\\\n",
       "\t 1.0383189 & 3\\\\\n",
       "\t 1.1676737 & 2\\\\\n",
       "\t 1.1864831 & 3\\\\\n",
       "\t 1.1468023 & 3\\\\\n",
       "\t 1.0249729 & 1\\\\\n",
       "\t 1.0836320 & 1\\\\\n",
       "\t 1.1966942 & 2\\\\\n",
       "\t 0.9750748 & 3\\\\\n",
       "\t 1.1706294 & 1\\\\\n",
       "\t 1.1901639 & 1\\\\\n",
       "\t 1.0876945 & 1\\\\\n",
       "\t 1.1612426 & 3\\\\\n",
       "\t 1.1655451 & 2\\\\\n",
       "\\end{tabular}\n"
      ],
      "text/markdown": [
       "\n",
       "A grouped_df: 181 × 2\n",
       "\n",
       "| weightRatio &lt;dbl&gt; | arm &lt;dbl&gt; |\n",
       "|---|---|\n",
       "| 1.153191 | 3 |\n",
       "| 1.174367 | 2 |\n",
       "| 1.074913 | 3 |\n",
       "| 1.166667 | 1 |\n",
       "| 1.127976 | 3 |\n",
       "| 1.114168 | 1 |\n",
       "| 1.201320 | 2 |\n",
       "| 1.173804 | 2 |\n",
       "| 1.133945 | 3 |\n",
       "| 1.217028 | 1 |\n",
       "| 1.219589 | 1 |\n",
       "| 1.068507 | 2 |\n",
       "| 1.160000 | 3 |\n",
       "| 1.153014 | 3 |\n",
       "| 1.140000 | 1 |\n",
       "| 1.217973 | 3 |\n",
       "| 1.126270 | 2 |\n",
       "| 1.120510 | 1 |\n",
       "| 1.191120 | 3 |\n",
       "| 1.181538 | 3 |\n",
       "| 1.013761 | 1 |\n",
       "| 1.139963 | 1 |\n",
       "| 1.109986 | 2 |\n",
       "| 1.096509 | 2 |\n",
       "| 1.098280 | 3 |\n",
       "| 1.146819 | 3 |\n",
       "| 1.193162 | 1 |\n",
       "| 1.219298 | 3 |\n",
       "| 1.053860 | 1 |\n",
       "| 1.090074 | 1 |\n",
       "| ... | ... |\n",
       "| 1.1534392 | 2 |\n",
       "| 1.0381526 | 2 |\n",
       "| 1.2174579 | 3 |\n",
       "| 1.1870794 | 3 |\n",
       "| 1.0862445 | 3 |\n",
       "| 1.1925795 | 3 |\n",
       "| 1.1588235 | 2 |\n",
       "| 1.1328790 | 1 |\n",
       "| 1.1363636 | 1 |\n",
       "| 1.1422156 | 2 |\n",
       "| 1.1611675 | 1 |\n",
       "| 1.0854817 | 1 |\n",
       "| 1.1585586 | 1 |\n",
       "| 1.1448900 | 2 |\n",
       "| 1.1315789 | 2 |\n",
       "| 1.1923077 | 2 |\n",
       "| 1.0981183 | 2 |\n",
       "| 1.0383189 | 3 |\n",
       "| 1.1676737 | 2 |\n",
       "| 1.1864831 | 3 |\n",
       "| 1.1468023 | 3 |\n",
       "| 1.0249729 | 1 |\n",
       "| 1.0836320 | 1 |\n",
       "| 1.1966942 | 2 |\n",
       "| 0.9750748 | 3 |\n",
       "| 1.1706294 | 1 |\n",
       "| 1.1901639 | 1 |\n",
       "| 1.0876945 | 1 |\n",
       "| 1.1612426 | 3 |\n",
       "| 1.1655451 | 2 |\n",
       "\n"
      ],
      "text/plain": [
       "    weightRatio arm\n",
       "1   1.153191    3  \n",
       "2   1.174367    2  \n",
       "3   1.074913    3  \n",
       "4   1.166667    1  \n",
       "5   1.127976    3  \n",
       "6   1.114168    1  \n",
       "7   1.201320    2  \n",
       "8   1.173804    2  \n",
       "9   1.133945    3  \n",
       "10  1.217028    1  \n",
       "11  1.219589    1  \n",
       "12  1.068507    2  \n",
       "13  1.160000    3  \n",
       "14  1.153014    3  \n",
       "15  1.140000    1  \n",
       "16  1.217973    3  \n",
       "17  1.126270    2  \n",
       "18  1.120510    1  \n",
       "19  1.191120    3  \n",
       "20  1.181538    3  \n",
       "21  1.013761    1  \n",
       "22  1.139963    1  \n",
       "23  1.109986    2  \n",
       "24  1.096509    2  \n",
       "25  1.098280    3  \n",
       "26  1.146819    3  \n",
       "27  1.193162    1  \n",
       "28  1.219298    3  \n",
       "29  1.053860    1  \n",
       "30  1.090074    1  \n",
       "... ...         ...\n",
       "152 1.1534392   2  \n",
       "153 1.0381526   2  \n",
       "154 1.2174579   3  \n",
       "155 1.1870794   3  \n",
       "156 1.0862445   3  \n",
       "157 1.1925795   3  \n",
       "158 1.1588235   2  \n",
       "159 1.1328790   1  \n",
       "160 1.1363636   1  \n",
       "161 1.1422156   2  \n",
       "162 1.1611675   1  \n",
       "163 1.0854817   1  \n",
       "164 1.1585586   1  \n",
       "165 1.1448900   2  \n",
       "166 1.1315789   2  \n",
       "167 1.1923077   2  \n",
       "168 1.0981183   2  \n",
       "169 1.0383189   3  \n",
       "170 1.1676737   2  \n",
       "171 1.1864831   3  \n",
       "172 1.1468023   3  \n",
       "173 1.0249729   1  \n",
       "174 1.0836320   1  \n",
       "175 1.1966942   2  \n",
       "176 0.9750748   3  \n",
       "177 1.1706294   1  \n",
       "178 1.1901639   1  \n",
       "179 1.0876945   1  \n",
       "180 1.1612426   3  \n",
       "181 1.1655451   2  "
      ]
     },
     "metadata": {},
     "output_type": "display_data"
    }
   ],
   "source": [
    "df[,c(2,3)] %>% group_by(arm)"
   ]
  },
  {
   "cell_type": "code",
   "execution_count": null,
   "metadata": {},
   "outputs": [],
   "source": []
  }
 ],
 "metadata": {
  "jupytext": {
   "formats": "ipynb,Rmd"
  },
  "kernelspec": {
   "display_name": "R",
   "language": "R",
   "name": "ir"
  },
  "language_info": {
   "codemirror_mode": "r",
   "file_extension": ".r",
   "mimetype": "text/x-r-source",
   "name": "R",
   "pygments_lexer": "r",
   "version": "4.0.5"
  }
 },
 "nbformat": 4,
 "nbformat_minor": 4
}
