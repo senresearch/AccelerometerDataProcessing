{
 "cells": [
  {
   "cell_type": "markdown",
   "metadata": {},
   "source": [
    "# Convert activity data to data frame\n",
    "___"
   ]
  },
  {
   "cell_type": "markdown",
   "metadata": {},
   "source": [
    "This note notebook explore how to extract activity data and convert it into a data frame before to save it as a CSV file."
   ]
  },
  {
   "cell_type": "markdown",
   "metadata": {},
   "source": [
    "## Packages and functions"
   ]
  },
  {
   "cell_type": "code",
   "execution_count": 1,
   "metadata": {},
   "outputs": [],
   "source": [
    "# Include function file to extract and display accelerometer data\n",
    "include(realpath(string(@__DIR__,\"/../../temp/ActStatData.jl\")))\n",
    "\n",
    "# include(string(realpath(pwd()*\"/../temp\")*\"/ActPlotData.jl\"))\n",
    "\n",
    "# Load packages\n",
    "using PyCall, PyPlot\n",
    "pygui(:tk)\n",
    "using DataFrames, .ActStatData, CSV, Dates, StatsBase, Statistics, Tables, DataFramesMeta, BenchmarkTools"
   ]
  },
  {
   "cell_type": "markdown",
   "metadata": {},
   "source": [
    "## Input Directories"
   ]
  },
  {
   "cell_type": "code",
   "execution_count": 2,
   "metadata": {},
   "outputs": [],
   "source": [
    "# List of visit directories\n",
    "listDir = [\"/../../../data/Baseline Visit Data/\";\n",
    "           \"/../../../data/32 Week Gestation Data/\";\n",
    "           \"/../../../data/6 Week PP Data/\";\n",
    "           \"/../../../data/6 Months PP Data/\";\n",
    "           \"/../../../data/12 Months PP Data/\"]\n",
    "# Load the group assignment information\n",
    "groupFileName = realpath(string(@__DIR__, \"/../../../data/Group/group_assignement.csv\"))\n",
    "global dfDem = DataFrame!(CSV.File(groupFileName));\n",
    "sort!(dfDem);"
   ]
  },
  {
   "cell_type": "code",
   "execution_count": 3,
   "metadata": {},
   "outputs": [
    {
     "name": "stdout",
     "output_type": "stream",
     "text": [
      "There is no file with NA missing data in the following directory:\n",
      "C:\\git\\smartphysicalactivity\\data\\Baseline Visit Data\\\n"
     ]
    }
   ],
   "source": [
    "realpath(string(@__DIR__,listDir[1]))\n",
    "myDir = abspath(string(@__DIR__,listDir[1]));\n",
    "# Get the data list files from the directory myDir\n",
    "(myData, myHeader) = ActStatData.filesNoNaN(myDir);"
   ]
  },
  {
   "cell_type": "code",
   "execution_count": 4,
   "metadata": {},
   "outputs": [
    {
     "data": {
      "text/plain": [
       "\"040_BV_22May2017_Accel.csv\""
      ]
     },
     "execution_count": 4,
     "metadata": {},
     "output_type": "execute_result"
    }
   ],
   "source": [
    "myData[3]"
   ]
  },
  {
   "cell_type": "code",
   "execution_count": 5,
   "metadata": {},
   "outputs": [],
   "source": [
    "# Get any file and show columns of the data frame structure\n",
    "df = ActStatData.readActivity(myDir*myData[3]);"
   ]
  },
  {
   "cell_type": "markdown",
   "metadata": {},
   "source": [
    "## Function getIndivMatAct()\n",
    "`getIndivMatAct` returns a vector containing the average of an activity type over maximum 7 days. It should returns also the ID and eventually the group."
   ]
  },
  {
   "cell_type": "code",
   "execution_count": 81,
   "metadata": {},
   "outputs": [
    {
     "data": {
      "text/plain": [
       "getIndivMatAct (generic function with 1 method)"
      ]
     },
     "execution_count": 81,
     "metadata": {},
     "output_type": "execute_result"
    }
   ],
   "source": [
    "function getIndivMatAct(fileName::String; actType = 1, isavg::Bool = true)\n",
    "    \n",
    "    # Read activity data\n",
    "    df = ActStatData.readActivity(fileName);\n",
    "    \n",
    "    # Dictionnary to select type of activity data\n",
    "    dictActivity = Dict(1=>:ActivityCounts, \n",
    "                    2=>:Steps, \n",
    "                    3=>:EnergyExpenditure, \n",
    "                    4=>:ActivityIntensity);\n",
    "    \n",
    "    # Create a dataframe that will contain the average activity data\n",
    "    d = Dates.Time(\"00:00\", \"HH:MM\"):Dates.Minute(1):Dates.Time(\"00:00\", \"HH:MM\") + Dates.Hour(24) - Dates.Minute(1)\n",
    "    dfAct = DataFrame(Time = collect(d));\n",
    "    \n",
    "    # Get over 8 days since the first day is not necessary complete. \n",
    "    numDays = ifelse(ActStatData.getComplete24h(df)>=8, 8, 7)\n",
    "    \n",
    "    # Build a dataframe where each column is 24h or 1440min  \n",
    "    for i = 1:numDays\n",
    "        dfTmp = @linq filter(:Day => x -> x == i, df) |> \n",
    "                transform(Time = Dates.Time.(:DateTime[:])) \n",
    "        select!(dfTmp, :Time, dictActivity[actType] => Symbol(string(\"day\",i))); # select and change name of the activity type\n",
    "        dfAct = leftjoin(dfAct, dfTmp, on = :Time);\n",
    "    end\n",
    "    \n",
    "    # Keep only activity\n",
    "    select!(dfAct, Not(:Time));\n",
    "\n",
    "    # Merge day 1 and last day according to the missing slots\n",
    "    lastDay = Symbol(names(dfAct)[end])\n",
    "    \n",
    "    dfAct[:, [:day1, lastDay]] .= ifelse.(ismissing.(dfAct[!, [:day1, lastDay]]) , 0, dfAct[!, [:day1, lastDay]]);\n",
    "    dfAct[:, :day1] = dfAct[:, :day1] + dfAct[:, lastDay]\n",
    "    select!(dfAct, Not(lastDay));\n",
    "\n",
    "    # Transpose dataframe\n",
    "    dfAct = DataFrame([[names(dfAct)]; collect.(eachrow(dfAct))], [:day; Symbol.(axes(dfAct, 1))])\n",
    "    select!(dfAct, Not(:day))\n",
    "    \n",
    "    nMin = 60\n",
    "    \n",
    "    # Get average activity \n",
    "    if isavg\n",
    "        return sum(reshape(mean.(eachcol(dfAct)), nMin, Int(1440/nMin)), dims = 1)[:] # mean.(eachcol(dfAct)) \n",
    "    else\n",
    "        return reshape(copy(transpose(convert(Matrix, dfAct))), nVec, 1) \n",
    "    end\n",
    "end"
   ]
  },
  {
   "cell_type": "markdown",
   "metadata": {},
   "source": [
    "### Testing getIndivMatAct"
   ]
  },
  {
   "cell_type": "code",
   "execution_count": 63,
   "metadata": {},
   "outputs": [
    {
     "name": "stdout",
     "output_type": "stream",
     "text": [
      "There is no file with NA missing data in the following directory:\n",
      "C:\\git\\smartphysicalactivity\\data\\Baseline Visit Data\\\n"
     ]
    },
    {
     "data": {
      "text/plain": [
       "\"C:\\\\git\\\\smartphysicalactivity\\\\data\\\\Baseline Visit Data\\\\270_BV_23Mar2018.csv\""
      ]
     },
     "execution_count": 63,
     "metadata": {},
     "output_type": "execute_result"
    }
   ],
   "source": [
    "# GET FILE NAME\n",
    "# List of visit directories\n",
    "listDir = [\"/../../../data/Baseline Visit Data/\";\n",
    "           \"/../../../data/32 Week Gestation Data/\";\n",
    "           \"/../../../data/6 Week PP Data/\";\n",
    "           \"/../../../data/6 Months PP Data/\";\n",
    "           \"/../../../data/12 Months PP Data/\"]\n",
    "myDir = abspath(string(@__DIR__,listDir[1]))\n",
    "(dataFiles, bioFiles) = ActStatData.filesNoNaN(myDir);\n",
    "fileName = myDir * dataFiles[50] # 169-> 6 days"
   ]
  },
  {
   "cell_type": "code",
   "execution_count": 82,
   "metadata": {},
   "outputs": [
    {
     "data": {
      "text/plain": [
       "24-element Array{Float64,1}:\n",
       " 29708.000000000004\n",
       " 16582.0\n",
       "  7733.571428571427\n",
       "  8461.285714285714\n",
       " 15986.0\n",
       " 14540.285714285714\n",
       " 21763.285714285717\n",
       "  2475.2857142857147\n",
       "   345.4285714285714\n",
       "   688.5714285714286\n",
       "  4499.285714285714\n",
       "  6804.714285714285\n",
       " 12127.285714285716\n",
       " 27335.0\n",
       " 31238.285714285717\n",
       " 16595.714285714286\n",
       " 15448.428571428569\n",
       " 30314.714285714283\n",
       " 12218.571428571428\n",
       " 13388.571428571428\n",
       " 11389.285714285714\n",
       "  9894.857142857147\n",
       " 19853.714285714283\n",
       " 18837.571428571428"
      ]
     },
     "execution_count": 82,
     "metadata": {},
     "output_type": "execute_result"
    }
   ],
   "source": [
    "# Get average Activity over 7 days\n",
    "avgAct = getIndivMatAct(fileName, actType = 1)"
   ]
  },
  {
   "cell_type": "code",
   "execution_count": 53,
   "metadata": {},
   "outputs": [
    {
     "data": {
      "text/html": [
       "<table class=\"data-frame\"><thead><tr><th></th><th>1</th><th>2</th><th>3</th><th>4</th><th>5</th><th>6</th><th>7</th><th>8</th><th>9</th><th>10</th><th>11</th><th>12</th></tr><tr><th></th><th>Int64</th><th>Int64</th><th>Int64</th><th>Int64</th><th>Int64</th><th>Int64</th><th>Int64</th><th>Int64</th><th>Int64</th><th>Int64</th><th>Int64</th><th>Int64</th></tr></thead><tbody><p>7 rows × 1,440 columns (omitted printing of 1428 columns)</p><tr><th>1</th><td>8</td><td>8</td><td>329</td><td>341</td><td>364</td><td>47</td><td>169</td><td>146</td><td>134</td><td>12</td><td>135</td><td>349</td></tr><tr><th>2</th><td>777</td><td>470</td><td>390</td><td>279</td><td>107</td><td>119</td><td>58</td><td>50</td><td>54</td><td>54</td><td>54</td><td>23</td></tr><tr><th>3</th><td>3103</td><td>2694</td><td>2366</td><td>2276</td><td>2017</td><td>1510</td><td>1555</td><td>1583</td><td>1244</td><td>558</td><td>202</td><td>250</td></tr><tr><th>4</th><td>1008</td><td>527</td><td>358</td><td>287</td><td>111</td><td>39</td><td>227</td><td>308</td><td>410</td><td>210</td><td>118</td><td>0</td></tr><tr><th>5</th><td>0</td><td>0</td><td>0</td><td>0</td><td>0</td><td>0</td><td>0</td><td>0</td><td>0</td><td>0</td><td>0</td><td>0</td></tr><tr><th>6</th><td>0</td><td>0</td><td>0</td><td>0</td><td>0</td><td>0</td><td>0</td><td>8</td><td>8</td><td>19</td><td>119</td><td>294</td></tr><tr><th>7</th><td>113</td><td>125</td><td>133</td><td>93</td><td>74</td><td>78</td><td>105</td><td>120</td><td>89</td><td>97</td><td>85</td><td>85</td></tr></tbody></table>"
      ],
      "text/latex": [
       "\\begin{tabular}{r|ccccccccccccc}\n",
       "\t& 1 & 2 & 3 & 4 & 5 & 6 & 7 & 8 & 9 & 10 & 11 & 12 & \\\\\n",
       "\t\\hline\n",
       "\t& Int64 & Int64 & Int64 & Int64 & Int64 & Int64 & Int64 & Int64 & Int64 & Int64 & Int64 & Int64 & \\\\\n",
       "\t\\hline\n",
       "\t1 & 8 & 8 & 329 & 341 & 364 & 47 & 169 & 146 & 134 & 12 & 135 & 349 & $\\dots$ \\\\\n",
       "\t2 & 777 & 470 & 390 & 279 & 107 & 119 & 58 & 50 & 54 & 54 & 54 & 23 & $\\dots$ \\\\\n",
       "\t3 & 3103 & 2694 & 2366 & 2276 & 2017 & 1510 & 1555 & 1583 & 1244 & 558 & 202 & 250 & $\\dots$ \\\\\n",
       "\t4 & 1008 & 527 & 358 & 287 & 111 & 39 & 227 & 308 & 410 & 210 & 118 & 0 & $\\dots$ \\\\\n",
       "\t5 & 0 & 0 & 0 & 0 & 0 & 0 & 0 & 0 & 0 & 0 & 0 & 0 & $\\dots$ \\\\\n",
       "\t6 & 0 & 0 & 0 & 0 & 0 & 0 & 0 & 8 & 8 & 19 & 119 & 294 & $\\dots$ \\\\\n",
       "\t7 & 113 & 125 & 133 & 93 & 74 & 78 & 105 & 120 & 89 & 97 & 85 & 85 & $\\dots$ \\\\\n",
       "\\end{tabular}\n"
      ],
      "text/plain": [
       "7×1440 DataFrame. Omitted printing of 1431 columns\n",
       "│ Row │ 1     │ 2     │ 3     │ 4     │ 5     │ 6     │ 7     │ 8     │ 9     │\n",
       "│     │ \u001b[90mInt64\u001b[39m │ \u001b[90mInt64\u001b[39m │ \u001b[90mInt64\u001b[39m │ \u001b[90mInt64\u001b[39m │ \u001b[90mInt64\u001b[39m │ \u001b[90mInt64\u001b[39m │ \u001b[90mInt64\u001b[39m │ \u001b[90mInt64\u001b[39m │ \u001b[90mInt64\u001b[39m │\n",
       "├─────┼───────┼───────┼───────┼───────┼───────┼───────┼───────┼───────┼───────┤\n",
       "│ 1   │ 8     │ 8     │ 329   │ 341   │ 364   │ 47    │ 169   │ 146   │ 134   │\n",
       "│ 2   │ 777   │ 470   │ 390   │ 279   │ 107   │ 119   │ 58    │ 50    │ 54    │\n",
       "│ 3   │ 3103  │ 2694  │ 2366  │ 2276  │ 2017  │ 1510  │ 1555  │ 1583  │ 1244  │\n",
       "│ 4   │ 1008  │ 527   │ 358   │ 287   │ 111   │ 39    │ 227   │ 308   │ 410   │\n",
       "│ 5   │ 0     │ 0     │ 0     │ 0     │ 0     │ 0     │ 0     │ 0     │ 0     │\n",
       "│ 6   │ 0     │ 0     │ 0     │ 0     │ 0     │ 0     │ 0     │ 8     │ 8     │\n",
       "│ 7   │ 113   │ 125   │ 133   │ 93    │ 74    │ 78    │ 105   │ 120   │ 89    │"
      ]
     },
     "execution_count": 53,
     "metadata": {},
     "output_type": "execute_result"
    }
   ],
   "source": [
    "\n",
    "\n",
    "# Get average Activity over 7 days\n",
    "avgAct = getIndivMatAct(fileName, actType = 1, isavg= false)\n"
   ]
  },
  {
   "cell_type": "code",
   "execution_count": 55,
   "metadata": {},
   "outputs": [
    {
     "data": {
      "image/png": "[encoded data removed]",
      "text/plain": [
       "Figure(PyObject <Figure size 640x480 with 1 Axes>)"
      ]
     },
     "metadata": {},
     "output_type": "display_data"
    },
    {
     "data": {
      "text/plain": [
       "1-element Array{PyObject,1}:\n",
       " PyObject <matplotlib.lines.Line2D object at 0x00000000017794C0>"
      ]
     },
     "execution_count": 55,
     "metadata": {},
     "output_type": "execute_result"
    }
   ],
   "source": [
    "df1=copy(transpose(convert(Matrix, avgAct)))\n",
    "nVec = 1440*7\n",
    "A = reshape(copy(transpose(convert(Matrix, avgAct))), nVec, 1);\n",
    "plot(A)"
   ]
  },
  {
   "cell_type": "markdown",
   "metadata": {},
   "source": [
    "## Function `getbio()`"
   ]
  },
  {
   "cell_type": "markdown",
   "metadata": {},
   "source": [
    "`getbio()` returns a tuple containing the bio information of an individual."
   ]
  },
  {
   "cell_type": "code",
   "execution_count": 89,
   "metadata": {},
   "outputs": [
    {
     "data": {
      "text/plain": [
       "getbio (generic function with 1 method)"
      ]
     },
     "execution_count": 89,
     "metadata": {},
     "output_type": "execute_result"
    }
   ],
   "source": [
    "function getbio(dfBio::DataFrame)\n",
    "    dem = NamedTuple{(:id, :age, :height, :weight, :startdate),\n",
    "            Tuple{Int64, Int64, Float64, Float64, DateTime}}((\n",
    "            parse(Int64, dfBio[1, :Value]), # id\n",
    "            parse(Int64, dfBio[2, :Value]), # age\n",
    "            parse(Float64, dfBio[4, :Value]), # height\n",
    "            parse(Float64, dfBio[6, :Value]),  # weight\n",
    "            parse(DateTime, dfBio[8, :Value]*\"T\"*dfBio[9, :Value]) # start date\n",
    "            ))\n",
    "    \n",
    "    return dem\n",
    "end"
   ]
  },
  {
   "cell_type": "code",
   "execution_count": 13,
   "metadata": {},
   "outputs": [
    {
     "name": "stdout",
     "output_type": "stream",
     "text": [
      "There is no file with NA missing data in the following directory:\n",
      "C:\\git\\smartphysicalactivity\\data\\Baseline Visit Data\\\n"
     ]
    },
    {
     "data": {
      "text/plain": [
       "40"
      ]
     },
     "execution_count": 13,
     "metadata": {},
     "output_type": "execute_result"
    }
   ],
   "source": [
    "realpath(string(@__DIR__,listDir[1]))\n",
    "myDir = abspath(string(@__DIR__,listDir[1]));\n",
    "# Get the data list files from the directory myDir\n",
    "(dataFiles, bioFiles) = ActStatData.filesNoNaN(myDir)\n",
    "# Get any file and show columns of the data frame structure\n",
    "df = ActStatData.readActivity(myDir*bioFiles[3]);\n",
    "getbio(df).id"
   ]
  },
  {
   "cell_type": "markdown",
   "metadata": {},
   "source": [
    "## Function getIndivID()\n",
    "`getIndivID` returns the ID and group assignement of an infdicidual."
   ]
  },
  {
   "cell_type": "code",
   "execution_count": 87,
   "metadata": {},
   "outputs": [
    {
     "data": {
      "text/plain": [
       "getIndivID (generic function with 1 method)"
      ]
     },
     "execution_count": 87,
     "metadata": {},
     "output_type": "execute_result"
    }
   ],
   "source": [
    "function getIndivID(fileName::String; actType = 1)\n",
    "    dfBiorg = ActStatData.readActivity(fileName);\n",
    "    return getbio(dfBiorg).id\n",
    "end"
   ]
  },
  {
   "cell_type": "code",
   "execution_count": 15,
   "metadata": {},
   "outputs": [
    {
     "data": {
      "text/plain": [
       "40"
      ]
     },
     "execution_count": 15,
     "metadata": {},
     "output_type": "execute_result"
    }
   ],
   "source": [
    "idd = getIndivID(myDir*bioFiles[3])"
   ]
  },
  {
   "cell_type": "code",
   "execution_count": 16,
   "metadata": {},
   "outputs": [
    {
     "data": {
      "text/plain": [
       "3-element Array{Int64,1}:\n",
       " 232010592\n",
       " 396427456\n",
       " 379700048"
      ]
     },
     "execution_count": 16,
     "metadata": {},
     "output_type": "execute_result"
    }
   ],
   "source": [
    "idd = Array{Int64, 1}(undef, 3)"
   ]
  },
  {
   "cell_type": "markdown",
   "metadata": {},
   "source": [
    "## Function `getStatAct()`"
   ]
  },
  {
   "cell_type": "markdown",
   "metadata": {},
   "source": [
    "Builds a average activity matrix, MxN where M is numbers of epochs (1440 minutes) and N is the number of subjects for a given visit (e.g. Baseline, 32 Week Gestation, 6 Weeks PP...).   \n",
    "It also saves the matrix in the corresponding  vistit folder. Finally, it returns the average activity for all subjects and the standard deviation."
   ]
  },
  {
   "cell_type": "code",
   "execution_count": 85,
   "metadata": {},
   "outputs": [
    {
     "data": {
      "text/plain": [
       "getStatActi (generic function with 2 methods)"
      ]
     },
     "execution_count": 85,
     "metadata": {},
     "output_type": "execute_result"
    }
   ],
   "source": [
    "function getStatActi(dirName::String, actType::Int64 = 1)\n",
    "    # Get the data list files from the directory myDir\n",
    "    (dataFiles, bioFiles) = ActStatData.filesNoNaN(dirName);\n",
    "    \n",
    "    # Total number of files in the directory dirName\n",
    "    numFiles = length(dataFiles)\n",
    "    \n",
    "    # Keep ID of individual\n",
    "    vecID = Array{Int64, 1}(undef, numFiles)\n",
    "    \n",
    "    nMin = 60\n",
    "    # Create average activity matrix \n",
    "    avgActMat = Array{Float64, 2}(undef, Int(1440/nMin), numFiles)\n",
    "    \n",
    "    for  i = 1:numFiles\n",
    "        # Get average Activity over 7 days\n",
    "        avgAct = getIndivMatAct(dirName * dataFiles[i], actType = actType)\n",
    "                \n",
    "        # Add the new column in the average activity matrix form 00:00 to 23:59\n",
    "        avgActMat[:, i] = avgAct[:]\n",
    "        \n",
    "        # Collect ID\n",
    "        vecID[i] = getIndivID(dirName * bioFiles[i])    \n",
    "    end\n",
    "        \n",
    "    return avgActMat, vecID\n",
    "    \n",
    "end"
   ]
  },
  {
   "cell_type": "markdown",
   "metadata": {},
   "source": [
    "## Function `mat2dfAct()`\n",
    "`mat2dfAct()` returns a dataframe containing activity datafor each min and for each individual."
   ]
  },
  {
   "cell_type": "code",
   "execution_count": 107,
   "metadata": {},
   "outputs": [
    {
     "data": {
      "text/plain": [
       "mat2dfAct (generic function with 1 method)"
      ]
     },
     "execution_count": 107,
     "metadata": {},
     "output_type": "execute_result"
    }
   ],
   "source": [
    "function mat2dfAct(mat::Array{Float64, 2}, vecID::Array{Int64, 1})\n",
    "    \n",
    "    # Transpose the matrix: ID rowwise and time columnwise\n",
    "    mat = copy(transpose(mat))\n",
    "    \n",
    "#     d = Dates.Time(\"00:00\", \"HH:MM\"):Dates.Minute(1):Dates.Time(\"00:00\", \"HH:MM\") + Dates.Hour(24) - Dates.Minute(1)\n",
    "    d = Dates.Time(\"00:00\", \"HH:MM\"):Dates.Minute(60):Dates.Time(\"00:00\", \"HH:MM\") + Dates.Hour(24) - Dates.Minute(1)\n",
    "    d = string.(collect(d))\n",
    "    for i= 1:length(d) d[i] = d[i][1:5] end\n",
    "    d = \"T\".*replace.(d, \":\"=> \"h\") \n",
    "    df  = DataFrame([@view(mat[:, i]) for i in 1:size(mat, 2)], Symbol.(d))\n",
    "    \n",
    "    insertcols!(df, 1, :StudyID => vecID)\n",
    "    \n",
    "    return df \n",
    "    \n",
    "end"
   ]
  },
  {
   "cell_type": "code",
   "execution_count": 19,
   "metadata": {},
   "outputs": [
    {
     "data": {
      "text/plain": [
       "3-element Array{String,1}:\n",
       " \"a\"\n",
       " \"b\"\n",
       " \"c\""
      ]
     },
     "execution_count": 19,
     "metadata": {},
     "output_type": "execute_result"
    }
   ],
   "source": [
    "mat1 = [1 2 3; 4 5 6]\n",
    "headerstr = [\"a\"; \"b\"; \"c\"]"
   ]
  },
  {
   "cell_type": "code",
   "execution_count": 21,
   "metadata": {},
   "outputs": [],
   "source": [
    "mat1 = rand(0:10,(1440, 300));"
   ]
  },
  {
   "cell_type": "markdown",
   "metadata": {},
   "source": [
    "## Function `nonunique()`"
   ]
  },
  {
   "cell_type": "markdown",
   "metadata": {},
   "source": [
    "`nonunique()` returns an array containing all the elements that appear at least twice in its input."
   ]
  },
  {
   "cell_type": "code",
   "execution_count": 96,
   "metadata": {},
   "outputs": [
    {
     "data": {
      "text/plain": [
       "nonunique! (generic function with 1 method)"
      ]
     },
     "execution_count": 96,
     "metadata": {},
     "output_type": "execute_result"
    }
   ],
   "source": [
    "function nonunique!(x::AbstractArray{T}) where T\n",
    "    sort!(x)\n",
    "    duplicatedvector = T[]\n",
    "    for i=2:length(x)\n",
    "        if (isequal(x[i],x[i-1]) && (length(duplicatedvector)==0 || !isequal(duplicatedvector[end], x[i])))\n",
    "            push!(duplicatedvector,x[i])\n",
    "        end\n",
    "    end\n",
    "    duplicatedvector\n",
    "end"
   ]
  },
  {
   "cell_type": "code",
   "execution_count": 27,
   "metadata": {},
   "outputs": [
    {
     "data": {
      "text/plain": [
       "6-element Array{Int64,1}:\n",
       " 1\n",
       " 2\n",
       " 3\n",
       " 2\n",
       " 4\n",
       " 5"
      ]
     },
     "execution_count": 27,
     "metadata": {},
     "output_type": "execute_result"
    }
   ],
   "source": [
    "tt = [ 1; 2; 3; 2; 4; 5]"
   ]
  },
  {
   "cell_type": "code",
   "execution_count": 79,
   "metadata": {},
   "outputs": [
    {
     "data": {
      "text/plain": [
       "1-element Array{Int64,1}:\n",
       " 2"
      ]
     },
     "execution_count": 79,
     "metadata": {},
     "output_type": "execute_result"
    }
   ],
   "source": [
    "nonunique2!(tt)"
   ]
  },
  {
   "cell_type": "code",
   "execution_count": 80,
   "metadata": {},
   "outputs": [
    {
     "data": {
      "text/plain": [
       "6-element Array{Int64,1}:\n",
       " 1\n",
       " 2\n",
       " 2\n",
       " 3\n",
       " 4\n",
       " 5"
      ]
     },
     "execution_count": 80,
     "metadata": {},
     "output_type": "execute_result"
    }
   ],
   "source": [
    "tt"
   ]
  },
  {
   "cell_type": "markdown",
   "metadata": {},
   "source": [
    "## Write Script to generate csv data"
   ]
  },
  {
   "cell_type": "markdown",
   "metadata": {},
   "source": [
    "Set the list of the visit directories relative path."
   ]
  },
  {
   "cell_type": "code",
   "execution_count": 76,
   "metadata": {
    "lines_to_next_cell": 2
   },
   "outputs": [
    {
     "data": {
      "text/plain": [
       "\"C:\\\\git\\\\smartphysicalactivity\\\\data\\\\Baseline Visit Data\\\\\""
      ]
     },
     "execution_count": 76,
     "metadata": {},
     "output_type": "execute_result"
    }
   ],
   "source": [
    "# List of visit directories\n",
    "listDir = [\"/../../../data/Baseline Visit Data/\";\n",
    "           \"/../../../data/32 Week Gestation Data/\";\n",
    "           \"/../../../data/6 Week PP Data/\";\n",
    "           \"/../../../data/6 Months PP Data/\";\n",
    "           \"/../../../data/12 Months PP Data/\"]\n",
    "realpath(string(@__DIR__,listDir[1]))\n",
    "myDir = abspath(string(@__DIR__,listDir[1]))"
   ]
  },
  {
   "cell_type": "markdown",
   "metadata": {},
   "source": [
    "Load the group assignment data."
   ]
  },
  {
   "cell_type": "code",
   "execution_count": 77,
   "metadata": {},
   "outputs": [],
   "source": [
    "# Load the group assignment information\n",
    "groupFileName = realpath(string(@__DIR__, \"/../../../data/Group/group_assignement.csv\"))\n",
    "global dfGroup = DataFrame!(CSV.File(groupFileName));\n",
    "sort!(dfGroup);"
   ]
  },
  {
   "cell_type": "markdown",
   "metadata": {},
   "source": [
    "Get the average activity data during one week for all individual."
   ]
  },
  {
   "cell_type": "code",
   "execution_count": 90,
   "metadata": {
    "lines_to_next_cell": 2
   },
   "outputs": [
    {
     "name": "stdout",
     "output_type": "stream",
     "text": [
      "There is no file with NA missing data in the following directory:\n",
      "C:\\git\\smartphysicalactivity\\data\\Baseline Visit Data\\\n"
     ]
    },
    {
     "data": {
      "text/plain": [
       "(24, 273)"
      ]
     },
     "execution_count": 90,
     "metadata": {},
     "output_type": "execute_result"
    }
   ],
   "source": [
    "# Get the data list files from the directory myDir\n",
    "# (myData, myHeader) = ActStatData.filesNoNaN(myDir);\n",
    "# myDir\n",
    "# Get the matrix data\n",
    "mat, vID = getStatActi(myDir);\n",
    "size(mat)"
   ]
  },
  {
   "cell_type": "code",
   "execution_count": 91,
   "metadata": {},
   "outputs": [
    {
     "name": "stdout",
     "output_type": "stream",
     "text": [
      "There is no file with NA missing data in the following directory:\n",
      "C:\\git\\smartphysicalactivity\\data\\Baseline Visit Data\\\n"
     ]
    },
    {
     "data": {
      "text/plain": [
       "273"
      ]
     },
     "execution_count": 91,
     "metadata": {},
     "output_type": "execute_result"
    }
   ],
   "source": [
    "# Get the data list files from the directory myDir\n",
    "    (dataFiles, bioFiles) = ActStatData.filesNoNaN(myDir);\n",
    "    \n",
    "    # Total number of files in the directory dirName\n",
    "    numFiles = length(dataFiles)"
   ]
  },
  {
   "cell_type": "code",
   "execution_count": 92,
   "metadata": {},
   "outputs": [
    {
     "data": {
      "text/plain": [
       "273"
      ]
     },
     "execution_count": 92,
     "metadata": {},
     "output_type": "execute_result"
    }
   ],
   "source": [
    "length(unique(dataFiles))"
   ]
  },
  {
   "cell_type": "code",
   "execution_count": 93,
   "metadata": {},
   "outputs": [],
   "source": [
    "# Keep ID of individual\n",
    "vID = Array{Int64, 1}(undef, numFiles) \n",
    "for  i = 1:numFiles\n",
    "    # Collect ID\n",
    "    vID[i] = getIndivID(myDir * bioFiles[i])    \n",
    "end"
   ]
  },
  {
   "cell_type": "code",
   "execution_count": 94,
   "metadata": {},
   "outputs": [],
   "source": [
    "sort!(vID);"
   ]
  },
  {
   "cell_type": "code",
   "execution_count": 97,
   "metadata": {},
   "outputs": [
    {
     "data": {
      "text/plain": [
       "1-element Array{Int64,1}:\n",
       " 32"
      ]
     },
     "execution_count": 97,
     "metadata": {},
     "output_type": "execute_result"
    }
   ],
   "source": [
    "vID[nonunique!(vID)]\n",
    "findall(x -> x == 202, vID)"
   ]
  },
  {
   "cell_type": "code",
   "execution_count": 98,
   "metadata": {},
   "outputs": [
    {
     "data": {
      "text/plain": [
       "273"
      ]
     },
     "execution_count": 98,
     "metadata": {},
     "output_type": "execute_result"
    }
   ],
   "source": [
    "length(unique(vID))"
   ]
  },
  {
   "cell_type": "code",
   "execution_count": 99,
   "metadata": {},
   "outputs": [
    {
     "data": {
      "text/plain": [
       "10-element Array{Int64,1}:\n",
       " 192\n",
       " 197\n",
       " 202\n",
       " 203\n",
       " 213\n",
       " 214\n",
       " 218\n",
       " 220\n",
       " 224\n",
       " 225"
      ]
     },
     "execution_count": 99,
     "metadata": {},
     "output_type": "execute_result"
    }
   ],
   "source": [
    "vID[30:39]"
   ]
  },
  {
   "cell_type": "markdown",
   "metadata": {},
   "source": [
    "Idendtify if every ID are unique."
   ]
  },
  {
   "cell_type": "code",
   "execution_count": 100,
   "metadata": {},
   "outputs": [
    {
     "data": {
      "text/plain": [
       "true"
      ]
     },
     "execution_count": 100,
     "metadata": {},
     "output_type": "execute_result"
    }
   ],
   "source": [
    "length(vID) == length(unique(vID))"
   ]
  },
  {
   "cell_type": "code",
   "execution_count": 101,
   "metadata": {},
   "outputs": [
    {
     "data": {
      "text/plain": [
       "Int64[]"
      ]
     },
     "execution_count": 101,
     "metadata": {},
     "output_type": "execute_result"
    }
   ],
   "source": [
    "vID[nonunique!(vID)]"
   ]
  },
  {
   "cell_type": "code",
   "execution_count": 102,
   "metadata": {},
   "outputs": [
    {
     "name": "stdout",
     "output_type": "stream",
     "text": [
      "273273"
     ]
    }
   ],
   "source": [
    "show(length(vID))\n",
    "show(length(unique(vID)))"
   ]
  },
  {
   "cell_type": "code",
   "execution_count": 103,
   "metadata": {},
   "outputs": [
    {
     "data": {
      "text/html": [
       "<table class=\"data-frame\"><thead><tr><th></th><th>StudyID</th><th>Arm</th></tr><tr><th></th><th>Int64</th><th>Int64?</th></tr></thead><tbody><p>3 rows × 2 columns</p><tr><th>1</th><td>1</td><td>1</td></tr><tr><th>2</th><td>4</td><td>3</td></tr><tr><th>3</th><td>40</td><td>2</td></tr></tbody></table>"
      ],
      "text/latex": [
       "\\begin{tabular}{r|cc}\n",
       "\t& StudyID & Arm\\\\\n",
       "\t\\hline\n",
       "\t& Int64 & Int64?\\\\\n",
       "\t\\hline\n",
       "\t1 & 1 & 1 \\\\\n",
       "\t2 & 4 & 3 \\\\\n",
       "\t3 & 40 & 2 \\\\\n",
       "\\end{tabular}\n"
      ],
      "text/plain": [
       "3×2 DataFrame\n",
       "│ Row │ StudyID │ Arm    │\n",
       "│     │ \u001b[90mInt64\u001b[39m   │ \u001b[90mInt64?\u001b[39m │\n",
       "├─────┼─────────┼────────┤\n",
       "│ 1   │ 1       │ 1      │\n",
       "│ 2   │ 4       │ 3      │\n",
       "│ 3   │ 40      │ 2      │"
      ]
     },
     "execution_count": 103,
     "metadata": {},
     "output_type": "execute_result"
    }
   ],
   "source": [
    "# Get Group assignment for the selected ID\n",
    "myDf = DataFrame(StudyID = vID)\n",
    "dfAct = leftjoin(myDf, dfGroup, on = :StudyID)\n",
    "first(dfAct, 3)"
   ]
  },
  {
   "cell_type": "code",
   "execution_count": 108,
   "metadata": {
    "lines_to_next_cell": 2
   },
   "outputs": [
    {
     "data": {
      "text/html": [
       "<table class=\"data-frame\"><thead><tr><th></th><th>StudyID</th><th>T00h00</th><th>T01h00</th><th>T02h00</th><th>T03h00</th><th>T04h00</th><th>T05h00</th><th>T06h00</th><th>T07h00</th></tr><tr><th></th><th>Int64</th><th>Float64</th><th>Float64</th><th>Float64</th><th>Float64</th><th>Float64</th><th>Float64</th><th>Float64</th><th>Float64</th></tr></thead><tbody><p>3 rows × 25 columns (omitted printing of 16 columns)</p><tr><th>1</th><td>1</td><td>1847.33</td><td>2348.83</td><td>2302.67</td><td>640.5</td><td>8954.83</td><td>36296.5</td><td>21698.8</td><td>28110.5</td></tr><tr><th>2</th><td>4</td><td>810.857</td><td>640.857</td><td>861.429</td><td>1477.43</td><td>18658.1</td><td>41676.3</td><td>24472.0</td><td>21237.7</td></tr><tr><th>3</th><td>40</td><td>161.143</td><td>129.0</td><td>684.0</td><td>1248.0</td><td>819.0</td><td>7589.29</td><td>12125.7</td><td>19641.0</td></tr></tbody></table>"
      ],
      "text/latex": [
       "\\begin{tabular}{r|cccccccccc}\n",
       "\t& StudyID & T00h00 & T01h00 & T02h00 & T03h00 & T04h00 & T05h00 & T06h00 & T07h00 & \\\\\n",
       "\t\\hline\n",
       "\t& Int64 & Float64 & Float64 & Float64 & Float64 & Float64 & Float64 & Float64 & Float64 & \\\\\n",
       "\t\\hline\n",
       "\t1 & 1 & 1847.33 & 2348.83 & 2302.67 & 640.5 & 8954.83 & 36296.5 & 21698.8 & 28110.5 & $\\dots$ \\\\\n",
       "\t2 & 4 & 810.857 & 640.857 & 861.429 & 1477.43 & 18658.1 & 41676.3 & 24472.0 & 21237.7 & $\\dots$ \\\\\n",
       "\t3 & 40 & 161.143 & 129.0 & 684.0 & 1248.0 & 819.0 & 7589.29 & 12125.7 & 19641.0 & $\\dots$ \\\\\n",
       "\\end{tabular}\n"
      ],
      "text/plain": [
       "3×25 DataFrame. Omitted printing of 18 columns\n",
       "│ Row │ StudyID │ T00h00  │ T01h00  │ T02h00  │ T03h00  │ T04h00  │ T05h00  │\n",
       "│     │ \u001b[90mInt64\u001b[39m   │ \u001b[90mFloat64\u001b[39m │ \u001b[90mFloat64\u001b[39m │ \u001b[90mFloat64\u001b[39m │ \u001b[90mFloat64\u001b[39m │ \u001b[90mFloat64\u001b[39m │ \u001b[90mFloat64\u001b[39m │\n",
       "├─────┼─────────┼─────────┼─────────┼─────────┼─────────┼─────────┼─────────┤\n",
       "│ 1   │ 1       │ 1847.33 │ 2348.83 │ 2302.67 │ 640.5   │ 8954.83 │ 36296.5 │\n",
       "│ 2   │ 4       │ 810.857 │ 640.857 │ 861.429 │ 1477.43 │ 18658.1 │ 41676.3 │\n",
       "│ 3   │ 40      │ 161.143 │ 129.0   │ 684.0   │ 1248.0  │ 819.0   │ 7589.29 │"
      ]
     },
     "execution_count": 108,
     "metadata": {},
     "output_type": "execute_result"
    }
   ],
   "source": [
    "# Convert matrix to data frame\n",
    "myDf = mat2dfAct(mat, vID)\n",
    "first(myDf, 3)"
   ]
  },
  {
   "cell_type": "code",
   "execution_count": 109,
   "metadata": {},
   "outputs": [
    {
     "data": {
      "text/html": [
       "<table class=\"data-frame\"><thead><tr><th></th><th>StudyID</th><th>Arm</th><th>T00h00</th><th>T01h00</th><th>T02h00</th><th>T03h00</th><th>T04h00</th><th>T05h00</th><th>T06h00</th></tr><tr><th></th><th>Int64</th><th>Int64?</th><th>Float64?</th><th>Float64?</th><th>Float64?</th><th>Float64?</th><th>Float64?</th><th>Float64?</th><th>Float64?</th></tr></thead><tbody><p>273 rows × 26 columns (omitted printing of 17 columns)</p><tr><th>1</th><td>1</td><td>1</td><td>1847.33</td><td>2348.83</td><td>2302.67</td><td>640.5</td><td>8954.83</td><td>36296.5</td><td>21698.8</td></tr><tr><th>2</th><td>4</td><td>3</td><td>810.857</td><td>640.857</td><td>861.429</td><td>1477.43</td><td>18658.1</td><td>41676.3</td><td>24472.0</td></tr><tr><th>3</th><td>40</td><td>2</td><td>161.143</td><td>129.0</td><td>684.0</td><td>1248.0</td><td>819.0</td><td>7589.29</td><td>12125.7</td></tr><tr><th>4</th><td>43</td><td>2</td><td>1525.43</td><td>1008.43</td><td>1497.71</td><td>596.143</td><td>2173.86</td><td>1759.29</td><td>3420.57</td></tr><tr><th>5</th><td>44</td><td>3</td><td>2230.71</td><td>1398.29</td><td>2921.86</td><td>874.143</td><td>532.429</td><td>654.143</td><td>391.0</td></tr><tr><th>6</th><td>48</td><td>1</td><td>3508.71</td><td>5055.14</td><td>1282.71</td><td>6525.29</td><td>8762.57</td><td>12534.0</td><td>22095.0</td></tr><tr><th>7</th><td>49</td><td>3</td><td>3549.83</td><td>7067.83</td><td>4074.0</td><td>1245.33</td><td>773.333</td><td>1100.5</td><td>11072.2</td></tr><tr><th>8</th><td>53</td><td>3</td><td>2567.5</td><td>2059.0</td><td>821.0</td><td>1168.0</td><td>4862.5</td><td>15068.5</td><td>21780.8</td></tr><tr><th>9</th><td>54</td><td>1</td><td>1307.71</td><td>95.8571</td><td>2187.0</td><td>4025.0</td><td>3633.86</td><td>3374.71</td><td>14540.0</td></tr><tr><th>10</th><td>58</td><td>2</td><td>2454.57</td><td>2950.14</td><td>3353.57</td><td>8042.0</td><td>2336.29</td><td>8252.71</td><td>16900.6</td></tr><tr><th>11</th><td>63</td><td>2</td><td>3737.57</td><td>1402.29</td><td>2847.71</td><td>1571.57</td><td>1453.71</td><td>1624.86</td><td>1117.43</td></tr><tr><th>12</th><td>64</td><td>3</td><td>995.286</td><td>1253.86</td><td>1444.43</td><td>1143.57</td><td>1065.29</td><td>14742.4</td><td>23688.4</td></tr><tr><th>13</th><td>76</td><td>1</td><td>1449.0</td><td>1446.83</td><td>843.167</td><td>2345.5</td><td>21061.0</td><td>10950.5</td><td>13971.3</td></tr><tr><th>14</th><td>80</td><td>1</td><td>8119.67</td><td>4199.17</td><td>4233.33</td><td>1222.83</td><td>1093.33</td><td>1421.83</td><td>1447.5</td></tr><tr><th>15</th><td>81</td><td>2</td><td>10683.7</td><td>2779.17</td><td>845.167</td><td>1867.17</td><td>1072.17</td><td>3961.5</td><td>23161.3</td></tr><tr><th>16</th><td>82</td><td>2</td><td>1328.43</td><td>736.143</td><td>1461.86</td><td>313.286</td><td>3877.43</td><td>4792.71</td><td>14939.1</td></tr><tr><th>17</th><td>83</td><td>3</td><td>1150.33</td><td>1726.17</td><td>1670.17</td><td>2431.0</td><td>1929.17</td><td>1247.17</td><td>31090.2</td></tr><tr><th>18</th><td>87</td><td>3</td><td>1464.0</td><td>501.833</td><td>367.5</td><td>667.5</td><td>247.167</td><td>10381.2</td><td>19292.7</td></tr><tr><th>19</th><td>90</td><td>1</td><td>3599.43</td><td>3202.29</td><td>3181.43</td><td>1176.43</td><td>941.286</td><td>12114.9</td><td>18495.1</td></tr><tr><th>20</th><td>101</td><td>1</td><td>277.833</td><td>318.667</td><td>226.5</td><td>170.667</td><td>1058.0</td><td>16984.3</td><td>35179.7</td></tr><tr><th>21</th><td>107</td><td>3</td><td>1198.17</td><td>1365.5</td><td>546.0</td><td>878.0</td><td>774.5</td><td>424.667</td><td>8296.0</td></tr><tr><th>22</th><td>118</td><td>2</td><td>6950.57</td><td>399.571</td><td>370.143</td><td>213.429</td><td>510.714</td><td>640.286</td><td>424.286</td></tr><tr><th>23</th><td>151</td><td>1</td><td>5849.29</td><td>3661.57</td><td>1169.14</td><td>3050.43</td><td>15339.7</td><td>35650.6</td><td>22577.1</td></tr><tr><th>24</th><td>162</td><td>3</td><td>1191.71</td><td>1502.86</td><td>289.429</td><td>886.857</td><td>1025.0</td><td>1344.57</td><td>1138.71</td></tr><tr><th>25</th><td>166</td><td>3</td><td>526.0</td><td>518.0</td><td>1047.5</td><td>504.0</td><td>371.167</td><td>18047.7</td><td>20431.7</td></tr><tr><th>26</th><td>181</td><td>2</td><td>329.333</td><td>852.167</td><td>1290.0</td><td>251.333</td><td>409.333</td><td>3116.33</td><td>8169.17</td></tr><tr><th>27</th><td>186</td><td>1</td><td>919.167</td><td>2184.0</td><td>3812.83</td><td>986.167</td><td>2673.33</td><td>3669.67</td><td>20884.0</td></tr><tr><th>28</th><td>188</td><td>3</td><td>541.0</td><td>606.571</td><td>565.286</td><td>1425.29</td><td>527.0</td><td>2180.14</td><td>12052.0</td></tr><tr><th>29</th><td>189</td><td>1</td><td>1066.43</td><td>868.429</td><td>377.286</td><td>204.857</td><td>317.714</td><td>253.714</td><td>378.429</td></tr><tr><th>30</th><td>192</td><td>2</td><td>3921.43</td><td>1816.71</td><td>1056.43</td><td>2720.29</td><td>7471.0</td><td>3608.29</td><td>32357.0</td></tr><tr><th>&vellip;</th><td>&vellip;</td><td>&vellip;</td><td>&vellip;</td><td>&vellip;</td><td>&vellip;</td><td>&vellip;</td><td>&vellip;</td><td>&vellip;</td><td>&vellip;</td></tr></tbody></table>"
      ],
      "text/latex": [
       "\\begin{tabular}{r|cccccccccc}\n",
       "\t& StudyID & Arm & T00h00 & T01h00 & T02h00 & T03h00 & T04h00 & T05h00 & T06h00 & \\\\\n",
       "\t\\hline\n",
       "\t& Int64 & Int64? & Float64? & Float64? & Float64? & Float64? & Float64? & Float64? & Float64? & \\\\\n",
       "\t\\hline\n",
       "\t1 & 1 & 1 & 1847.33 & 2348.83 & 2302.67 & 640.5 & 8954.83 & 36296.5 & 21698.8 & $\\dots$ \\\\\n",
       "\t2 & 4 & 3 & 810.857 & 640.857 & 861.429 & 1477.43 & 18658.1 & 41676.3 & 24472.0 & $\\dots$ \\\\\n",
       "\t3 & 40 & 2 & 161.143 & 129.0 & 684.0 & 1248.0 & 819.0 & 7589.29 & 12125.7 & $\\dots$ \\\\\n",
       "\t4 & 43 & 2 & 1525.43 & 1008.43 & 1497.71 & 596.143 & 2173.86 & 1759.29 & 3420.57 & $\\dots$ \\\\\n",
       "\t5 & 44 & 3 & 2230.71 & 1398.29 & 2921.86 & 874.143 & 532.429 & 654.143 & 391.0 & $\\dots$ \\\\\n",
       "\t6 & 48 & 1 & 3508.71 & 5055.14 & 1282.71 & 6525.29 & 8762.57 & 12534.0 & 22095.0 & $\\dots$ \\\\\n",
       "\t7 & 49 & 3 & 3549.83 & 7067.83 & 4074.0 & 1245.33 & 773.333 & 1100.5 & 11072.2 & $\\dots$ \\\\\n",
       "\t8 & 53 & 3 & 2567.5 & 2059.0 & 821.0 & 1168.0 & 4862.5 & 15068.5 & 21780.8 & $\\dots$ \\\\\n",
       "\t9 & 54 & 1 & 1307.71 & 95.8571 & 2187.0 & 4025.0 & 3633.86 & 3374.71 & 14540.0 & $\\dots$ \\\\\n",
       "\t10 & 58 & 2 & 2454.57 & 2950.14 & 3353.57 & 8042.0 & 2336.29 & 8252.71 & 16900.6 & $\\dots$ \\\\\n",
       "\t11 & 63 & 2 & 3737.57 & 1402.29 & 2847.71 & 1571.57 & 1453.71 & 1624.86 & 1117.43 & $\\dots$ \\\\\n",
       "\t12 & 64 & 3 & 995.286 & 1253.86 & 1444.43 & 1143.57 & 1065.29 & 14742.4 & 23688.4 & $\\dots$ \\\\\n",
       "\t13 & 76 & 1 & 1449.0 & 1446.83 & 843.167 & 2345.5 & 21061.0 & 10950.5 & 13971.3 & $\\dots$ \\\\\n",
       "\t14 & 80 & 1 & 8119.67 & 4199.17 & 4233.33 & 1222.83 & 1093.33 & 1421.83 & 1447.5 & $\\dots$ \\\\\n",
       "\t15 & 81 & 2 & 10683.7 & 2779.17 & 845.167 & 1867.17 & 1072.17 & 3961.5 & 23161.3 & $\\dots$ \\\\\n",
       "\t16 & 82 & 2 & 1328.43 & 736.143 & 1461.86 & 313.286 & 3877.43 & 4792.71 & 14939.1 & $\\dots$ \\\\\n",
       "\t17 & 83 & 3 & 1150.33 & 1726.17 & 1670.17 & 2431.0 & 1929.17 & 1247.17 & 31090.2 & $\\dots$ \\\\\n",
       "\t18 & 87 & 3 & 1464.0 & 501.833 & 367.5 & 667.5 & 247.167 & 10381.2 & 19292.7 & $\\dots$ \\\\\n",
       "\t19 & 90 & 1 & 3599.43 & 3202.29 & 3181.43 & 1176.43 & 941.286 & 12114.9 & 18495.1 & $\\dots$ \\\\\n",
       "\t20 & 101 & 1 & 277.833 & 318.667 & 226.5 & 170.667 & 1058.0 & 16984.3 & 35179.7 & $\\dots$ \\\\\n",
       "\t21 & 107 & 3 & 1198.17 & 1365.5 & 546.0 & 878.0 & 774.5 & 424.667 & 8296.0 & $\\dots$ \\\\\n",
       "\t22 & 118 & 2 & 6950.57 & 399.571 & 370.143 & 213.429 & 510.714 & 640.286 & 424.286 & $\\dots$ \\\\\n",
       "\t23 & 151 & 1 & 5849.29 & 3661.57 & 1169.14 & 3050.43 & 15339.7 & 35650.6 & 22577.1 & $\\dots$ \\\\\n",
       "\t24 & 162 & 3 & 1191.71 & 1502.86 & 289.429 & 886.857 & 1025.0 & 1344.57 & 1138.71 & $\\dots$ \\\\\n",
       "\t25 & 166 & 3 & 526.0 & 518.0 & 1047.5 & 504.0 & 371.167 & 18047.7 & 20431.7 & $\\dots$ \\\\\n",
       "\t26 & 181 & 2 & 329.333 & 852.167 & 1290.0 & 251.333 & 409.333 & 3116.33 & 8169.17 & $\\dots$ \\\\\n",
       "\t27 & 186 & 1 & 919.167 & 2184.0 & 3812.83 & 986.167 & 2673.33 & 3669.67 & 20884.0 & $\\dots$ \\\\\n",
       "\t28 & 188 & 3 & 541.0 & 606.571 & 565.286 & 1425.29 & 527.0 & 2180.14 & 12052.0 & $\\dots$ \\\\\n",
       "\t29 & 189 & 1 & 1066.43 & 868.429 & 377.286 & 204.857 & 317.714 & 253.714 & 378.429 & $\\dots$ \\\\\n",
       "\t30 & 192 & 2 & 3921.43 & 1816.71 & 1056.43 & 2720.29 & 7471.0 & 3608.29 & 32357.0 & $\\dots$ \\\\\n",
       "\t$\\dots$ & $\\dots$ & $\\dots$ & $\\dots$ & $\\dots$ & $\\dots$ & $\\dots$ & $\\dots$ & $\\dots$ & $\\dots$ &  \\\\\n",
       "\\end{tabular}\n"
      ],
      "text/plain": [
       "273×26 DataFrame. Omitted printing of 20 columns\n",
       "│ Row │ StudyID │ Arm    │ T00h00   │ T01h00   │ T02h00   │ T03h00   │\n",
       "│     │ \u001b[90mInt64\u001b[39m   │ \u001b[90mInt64?\u001b[39m │ \u001b[90mFloat64?\u001b[39m │ \u001b[90mFloat64?\u001b[39m │ \u001b[90mFloat64?\u001b[39m │ \u001b[90mFloat64?\u001b[39m │\n",
       "├─────┼─────────┼────────┼──────────┼──────────┼──────────┼──────────┤\n",
       "│ 1   │ 1       │ 1      │ 1847.33  │ 2348.83  │ 2302.67  │ 640.5    │\n",
       "│ 2   │ 4       │ 3      │ 810.857  │ 640.857  │ 861.429  │ 1477.43  │\n",
       "│ 3   │ 40      │ 2      │ 161.143  │ 129.0    │ 684.0    │ 1248.0   │\n",
       "│ 4   │ 43      │ 2      │ 1525.43  │ 1008.43  │ 1497.71  │ 596.143  │\n",
       "│ 5   │ 44      │ 3      │ 2230.71  │ 1398.29  │ 2921.86  │ 874.143  │\n",
       "│ 6   │ 48      │ 1      │ 3508.71  │ 5055.14  │ 1282.71  │ 6525.29  │\n",
       "│ 7   │ 49      │ 3      │ 3549.83  │ 7067.83  │ 4074.0   │ 1245.33  │\n",
       "│ 8   │ 53      │ 3      │ 2567.5   │ 2059.0   │ 821.0    │ 1168.0   │\n",
       "│ 9   │ 54      │ 1      │ 1307.71  │ 95.8571  │ 2187.0   │ 4025.0   │\n",
       "│ 10  │ 58      │ 2      │ 2454.57  │ 2950.14  │ 3353.57  │ 8042.0   │\n",
       "⋮\n",
       "│ 263 │ 904     │ 1      │ 1589.57  │ 802.571  │ 437.143  │ 1152.0   │\n",
       "│ 264 │ 907     │ 3      │ 5130.5   │ 4608.0   │ 1000.83  │ 261.833  │\n",
       "│ 265 │ 910     │ 2      │ 374.571  │ 162.714  │ 647.0    │ 272.286  │\n",
       "│ 266 │ 911     │ 2      │ 3161.17  │ 1590.83  │ 1484.67  │ 2061.17  │\n",
       "│ 267 │ 912     │ 1      │ 1479.5   │ 1145.83  │ 1940.67  │ 1039.0   │\n",
       "│ 268 │ 915     │ 3      │ 121.0    │ 88.0     │ 17.3333  │ 25.3333  │\n",
       "│ 269 │ 918     │ 2      │ 441.667  │ 473.5    │ 2597.0   │ 623.5    │\n",
       "│ 270 │ 920     │ 3      │ 1044.33  │ 372.333  │ 298.333  │ 324.167  │\n",
       "│ 271 │ 921     │ 1      │ 4777.0   │ 1608.86  │ 590.0    │ 1246.29  │\n",
       "│ 272 │ 929     │ 3      │ 2456.0   │ 9456.14  │ 1992.14  │ 1060.71  │\n",
       "│ 273 │ 930     │ 3      │ 1788.0   │ 516.667  │ 1196.0   │ 684.667  │"
      ]
     },
     "execution_count": 109,
     "metadata": {},
     "output_type": "execute_result"
    }
   ],
   "source": [
    "df = leftjoin(dfAct, myDf, on = :StudyID)"
   ]
  },
  {
   "cell_type": "code",
   "execution_count": 110,
   "metadata": {},
   "outputs": [
    {
     "data": {
      "text/plain": [
       "1-element Array{Int64,1}:\n",
       " 120"
      ]
     },
     "execution_count": 110,
     "metadata": {},
     "output_type": "execute_result"
    }
   ],
   "source": [
    "# Find missing data\n",
    "findall(x -> ismissing(x), df.Arm)"
   ]
  },
  {
   "cell_type": "code",
   "execution_count": 111,
   "metadata": {},
   "outputs": [],
   "source": [
    "#Remove missing\n",
    "dropmissing!(df);"
   ]
  },
  {
   "cell_type": "code",
   "execution_count": 115,
   "metadata": {},
   "outputs": [
    {
     "data": {
      "text/html": [
       "<table class=\"data-frame\"><thead><tr><th></th><th>StudyID</th><th>Arm</th><th>T00h00</th><th>T01h00</th><th>T02h00</th><th>T03h00</th><th>T04h00</th><th>T05h00</th><th>T06h00</th><th>T07h00</th></tr><tr><th></th><th>Int64</th><th>Int64</th><th>Float64</th><th>Float64</th><th>Float64</th><th>Float64</th><th>Float64</th><th>Float64</th><th>Float64</th><th>Float64</th></tr></thead><tbody><p>272 rows × 26 columns (omitted printing of 16 columns)</p><tr><th>1</th><td>1</td><td>1</td><td>1847.33</td><td>2348.83</td><td>2302.67</td><td>640.5</td><td>8954.83</td><td>36296.5</td><td>21698.8</td><td>28110.5</td></tr><tr><th>2</th><td>4</td><td>3</td><td>810.857</td><td>640.857</td><td>861.429</td><td>1477.43</td><td>18658.1</td><td>41676.3</td><td>24472.0</td><td>21237.7</td></tr><tr><th>3</th><td>40</td><td>2</td><td>161.143</td><td>129.0</td><td>684.0</td><td>1248.0</td><td>819.0</td><td>7589.29</td><td>12125.7</td><td>19641.0</td></tr><tr><th>4</th><td>43</td><td>2</td><td>1525.43</td><td>1008.43</td><td>1497.71</td><td>596.143</td><td>2173.86</td><td>1759.29</td><td>3420.57</td><td>12241.3</td></tr><tr><th>5</th><td>44</td><td>3</td><td>2230.71</td><td>1398.29</td><td>2921.86</td><td>874.143</td><td>532.429</td><td>654.143</td><td>391.0</td><td>6029.57</td></tr><tr><th>6</th><td>48</td><td>1</td><td>3508.71</td><td>5055.14</td><td>1282.71</td><td>6525.29</td><td>8762.57</td><td>12534.0</td><td>22095.0</td><td>21324.7</td></tr><tr><th>7</th><td>49</td><td>3</td><td>3549.83</td><td>7067.83</td><td>4074.0</td><td>1245.33</td><td>773.333</td><td>1100.5</td><td>11072.2</td><td>13863.8</td></tr><tr><th>8</th><td>53</td><td>3</td><td>2567.5</td><td>2059.0</td><td>821.0</td><td>1168.0</td><td>4862.5</td><td>15068.5</td><td>21780.8</td><td>15829.3</td></tr><tr><th>9</th><td>54</td><td>1</td><td>1307.71</td><td>95.8571</td><td>2187.0</td><td>4025.0</td><td>3633.86</td><td>3374.71</td><td>14540.0</td><td>25837.4</td></tr><tr><th>10</th><td>58</td><td>2</td><td>2454.57</td><td>2950.14</td><td>3353.57</td><td>8042.0</td><td>2336.29</td><td>8252.71</td><td>16900.6</td><td>8827.57</td></tr><tr><th>11</th><td>63</td><td>2</td><td>3737.57</td><td>1402.29</td><td>2847.71</td><td>1571.57</td><td>1453.71</td><td>1624.86</td><td>1117.43</td><td>802.571</td></tr><tr><th>12</th><td>64</td><td>3</td><td>995.286</td><td>1253.86</td><td>1444.43</td><td>1143.57</td><td>1065.29</td><td>14742.4</td><td>23688.4</td><td>18556.9</td></tr><tr><th>13</th><td>76</td><td>1</td><td>1449.0</td><td>1446.83</td><td>843.167</td><td>2345.5</td><td>21061.0</td><td>10950.5</td><td>13971.3</td><td>13255.7</td></tr><tr><th>14</th><td>80</td><td>1</td><td>8119.67</td><td>4199.17</td><td>4233.33</td><td>1222.83</td><td>1093.33</td><td>1421.83</td><td>1447.5</td><td>15866.0</td></tr><tr><th>15</th><td>81</td><td>2</td><td>10683.7</td><td>2779.17</td><td>845.167</td><td>1867.17</td><td>1072.17</td><td>3961.5</td><td>23161.3</td><td>10096.3</td></tr><tr><th>16</th><td>82</td><td>2</td><td>1328.43</td><td>736.143</td><td>1461.86</td><td>313.286</td><td>3877.43</td><td>4792.71</td><td>14939.1</td><td>6910.0</td></tr><tr><th>17</th><td>83</td><td>3</td><td>1150.33</td><td>1726.17</td><td>1670.17</td><td>2431.0</td><td>1929.17</td><td>1247.17</td><td>31090.2</td><td>103457.0</td></tr><tr><th>18</th><td>87</td><td>3</td><td>1464.0</td><td>501.833</td><td>367.5</td><td>667.5</td><td>247.167</td><td>10381.2</td><td>19292.7</td><td>30530.3</td></tr><tr><th>19</th><td>90</td><td>1</td><td>3599.43</td><td>3202.29</td><td>3181.43</td><td>1176.43</td><td>941.286</td><td>12114.9</td><td>18495.1</td><td>20080.1</td></tr><tr><th>20</th><td>101</td><td>1</td><td>277.833</td><td>318.667</td><td>226.5</td><td>170.667</td><td>1058.0</td><td>16984.3</td><td>35179.7</td><td>21318.5</td></tr><tr><th>21</th><td>107</td><td>3</td><td>1198.17</td><td>1365.5</td><td>546.0</td><td>878.0</td><td>774.5</td><td>424.667</td><td>8296.0</td><td>19209.0</td></tr><tr><th>22</th><td>118</td><td>2</td><td>6950.57</td><td>399.571</td><td>370.143</td><td>213.429</td><td>510.714</td><td>640.286</td><td>424.286</td><td>4369.0</td></tr><tr><th>23</th><td>151</td><td>1</td><td>5849.29</td><td>3661.57</td><td>1169.14</td><td>3050.43</td><td>15339.7</td><td>35650.6</td><td>22577.1</td><td>19599.3</td></tr><tr><th>24</th><td>162</td><td>3</td><td>1191.71</td><td>1502.86</td><td>289.429</td><td>886.857</td><td>1025.0</td><td>1344.57</td><td>1138.71</td><td>5358.14</td></tr><tr><th>25</th><td>166</td><td>3</td><td>526.0</td><td>518.0</td><td>1047.5</td><td>504.0</td><td>371.167</td><td>18047.7</td><td>20431.7</td><td>14622.3</td></tr><tr><th>26</th><td>181</td><td>2</td><td>329.333</td><td>852.167</td><td>1290.0</td><td>251.333</td><td>409.333</td><td>3116.33</td><td>8169.17</td><td>4712.67</td></tr><tr><th>27</th><td>186</td><td>1</td><td>919.167</td><td>2184.0</td><td>3812.83</td><td>986.167</td><td>2673.33</td><td>3669.67</td><td>20884.0</td><td>49216.3</td></tr><tr><th>28</th><td>188</td><td>3</td><td>541.0</td><td>606.571</td><td>565.286</td><td>1425.29</td><td>527.0</td><td>2180.14</td><td>12052.0</td><td>15070.0</td></tr><tr><th>29</th><td>189</td><td>1</td><td>1066.43</td><td>868.429</td><td>377.286</td><td>204.857</td><td>317.714</td><td>253.714</td><td>378.429</td><td>1241.43</td></tr><tr><th>30</th><td>192</td><td>2</td><td>3921.43</td><td>1816.71</td><td>1056.43</td><td>2720.29</td><td>7471.0</td><td>3608.29</td><td>32357.0</td><td>24620.4</td></tr><tr><th>&vellip;</th><td>&vellip;</td><td>&vellip;</td><td>&vellip;</td><td>&vellip;</td><td>&vellip;</td><td>&vellip;</td><td>&vellip;</td><td>&vellip;</td><td>&vellip;</td><td>&vellip;</td></tr></tbody></table>"
      ],
      "text/latex": [
       "\\begin{tabular}{r|ccccccccccc}\n",
       "\t& StudyID & Arm & T00h00 & T01h00 & T02h00 & T03h00 & T04h00 & T05h00 & T06h00 & T07h00 & \\\\\n",
       "\t\\hline\n",
       "\t& Int64 & Int64 & Float64 & Float64 & Float64 & Float64 & Float64 & Float64 & Float64 & Float64 & \\\\\n",
       "\t\\hline\n",
       "\t1 & 1 & 1 & 1847.33 & 2348.83 & 2302.67 & 640.5 & 8954.83 & 36296.5 & 21698.8 & 28110.5 & $\\dots$ \\\\\n",
       "\t2 & 4 & 3 & 810.857 & 640.857 & 861.429 & 1477.43 & 18658.1 & 41676.3 & 24472.0 & 21237.7 & $\\dots$ \\\\\n",
       "\t3 & 40 & 2 & 161.143 & 129.0 & 684.0 & 1248.0 & 819.0 & 7589.29 & 12125.7 & 19641.0 & $\\dots$ \\\\\n",
       "\t4 & 43 & 2 & 1525.43 & 1008.43 & 1497.71 & 596.143 & 2173.86 & 1759.29 & 3420.57 & 12241.3 & $\\dots$ \\\\\n",
       "\t5 & 44 & 3 & 2230.71 & 1398.29 & 2921.86 & 874.143 & 532.429 & 654.143 & 391.0 & 6029.57 & $\\dots$ \\\\\n",
       "\t6 & 48 & 1 & 3508.71 & 5055.14 & 1282.71 & 6525.29 & 8762.57 & 12534.0 & 22095.0 & 21324.7 & $\\dots$ \\\\\n",
       "\t7 & 49 & 3 & 3549.83 & 7067.83 & 4074.0 & 1245.33 & 773.333 & 1100.5 & 11072.2 & 13863.8 & $\\dots$ \\\\\n",
       "\t8 & 53 & 3 & 2567.5 & 2059.0 & 821.0 & 1168.0 & 4862.5 & 15068.5 & 21780.8 & 15829.3 & $\\dots$ \\\\\n",
       "\t9 & 54 & 1 & 1307.71 & 95.8571 & 2187.0 & 4025.0 & 3633.86 & 3374.71 & 14540.0 & 25837.4 & $\\dots$ \\\\\n",
       "\t10 & 58 & 2 & 2454.57 & 2950.14 & 3353.57 & 8042.0 & 2336.29 & 8252.71 & 16900.6 & 8827.57 & $\\dots$ \\\\\n",
       "\t11 & 63 & 2 & 3737.57 & 1402.29 & 2847.71 & 1571.57 & 1453.71 & 1624.86 & 1117.43 & 802.571 & $\\dots$ \\\\\n",
       "\t12 & 64 & 3 & 995.286 & 1253.86 & 1444.43 & 1143.57 & 1065.29 & 14742.4 & 23688.4 & 18556.9 & $\\dots$ \\\\\n",
       "\t13 & 76 & 1 & 1449.0 & 1446.83 & 843.167 & 2345.5 & 21061.0 & 10950.5 & 13971.3 & 13255.7 & $\\dots$ \\\\\n",
       "\t14 & 80 & 1 & 8119.67 & 4199.17 & 4233.33 & 1222.83 & 1093.33 & 1421.83 & 1447.5 & 15866.0 & $\\dots$ \\\\\n",
       "\t15 & 81 & 2 & 10683.7 & 2779.17 & 845.167 & 1867.17 & 1072.17 & 3961.5 & 23161.3 & 10096.3 & $\\dots$ \\\\\n",
       "\t16 & 82 & 2 & 1328.43 & 736.143 & 1461.86 & 313.286 & 3877.43 & 4792.71 & 14939.1 & 6910.0 & $\\dots$ \\\\\n",
       "\t17 & 83 & 3 & 1150.33 & 1726.17 & 1670.17 & 2431.0 & 1929.17 & 1247.17 & 31090.2 & 103457.0 & $\\dots$ \\\\\n",
       "\t18 & 87 & 3 & 1464.0 & 501.833 & 367.5 & 667.5 & 247.167 & 10381.2 & 19292.7 & 30530.3 & $\\dots$ \\\\\n",
       "\t19 & 90 & 1 & 3599.43 & 3202.29 & 3181.43 & 1176.43 & 941.286 & 12114.9 & 18495.1 & 20080.1 & $\\dots$ \\\\\n",
       "\t20 & 101 & 1 & 277.833 & 318.667 & 226.5 & 170.667 & 1058.0 & 16984.3 & 35179.7 & 21318.5 & $\\dots$ \\\\\n",
       "\t21 & 107 & 3 & 1198.17 & 1365.5 & 546.0 & 878.0 & 774.5 & 424.667 & 8296.0 & 19209.0 & $\\dots$ \\\\\n",
       "\t22 & 118 & 2 & 6950.57 & 399.571 & 370.143 & 213.429 & 510.714 & 640.286 & 424.286 & 4369.0 & $\\dots$ \\\\\n",
       "\t23 & 151 & 1 & 5849.29 & 3661.57 & 1169.14 & 3050.43 & 15339.7 & 35650.6 & 22577.1 & 19599.3 & $\\dots$ \\\\\n",
       "\t24 & 162 & 3 & 1191.71 & 1502.86 & 289.429 & 886.857 & 1025.0 & 1344.57 & 1138.71 & 5358.14 & $\\dots$ \\\\\n",
       "\t25 & 166 & 3 & 526.0 & 518.0 & 1047.5 & 504.0 & 371.167 & 18047.7 & 20431.7 & 14622.3 & $\\dots$ \\\\\n",
       "\t26 & 181 & 2 & 329.333 & 852.167 & 1290.0 & 251.333 & 409.333 & 3116.33 & 8169.17 & 4712.67 & $\\dots$ \\\\\n",
       "\t27 & 186 & 1 & 919.167 & 2184.0 & 3812.83 & 986.167 & 2673.33 & 3669.67 & 20884.0 & 49216.3 & $\\dots$ \\\\\n",
       "\t28 & 188 & 3 & 541.0 & 606.571 & 565.286 & 1425.29 & 527.0 & 2180.14 & 12052.0 & 15070.0 & $\\dots$ \\\\\n",
       "\t29 & 189 & 1 & 1066.43 & 868.429 & 377.286 & 204.857 & 317.714 & 253.714 & 378.429 & 1241.43 & $\\dots$ \\\\\n",
       "\t30 & 192 & 2 & 3921.43 & 1816.71 & 1056.43 & 2720.29 & 7471.0 & 3608.29 & 32357.0 & 24620.4 & $\\dots$ \\\\\n",
       "\t$\\dots$ & $\\dots$ & $\\dots$ & $\\dots$ & $\\dots$ & $\\dots$ & $\\dots$ & $\\dots$ & $\\dots$ & $\\dots$ & $\\dots$ &  \\\\\n",
       "\\end{tabular}\n"
      ],
      "text/plain": [
       "272×26 DataFrame. Omitted printing of 19 columns\n",
       "│ Row │ StudyID │ Arm   │ T00h00  │ T01h00  │ T02h00  │ T03h00  │ T04h00  │\n",
       "│     │ \u001b[90mInt64\u001b[39m   │ \u001b[90mInt64\u001b[39m │ \u001b[90mFloat64\u001b[39m │ \u001b[90mFloat64\u001b[39m │ \u001b[90mFloat64\u001b[39m │ \u001b[90mFloat64\u001b[39m │ \u001b[90mFloat64\u001b[39m │\n",
       "├─────┼─────────┼───────┼─────────┼─────────┼─────────┼─────────┼─────────┤\n",
       "│ 1   │ 1       │ 1     │ 1847.33 │ 2348.83 │ 2302.67 │ 640.5   │ 8954.83 │\n",
       "│ 2   │ 4       │ 3     │ 810.857 │ 640.857 │ 861.429 │ 1477.43 │ 18658.1 │\n",
       "│ 3   │ 40      │ 2     │ 161.143 │ 129.0   │ 684.0   │ 1248.0  │ 819.0   │\n",
       "│ 4   │ 43      │ 2     │ 1525.43 │ 1008.43 │ 1497.71 │ 596.143 │ 2173.86 │\n",
       "│ 5   │ 44      │ 3     │ 2230.71 │ 1398.29 │ 2921.86 │ 874.143 │ 532.429 │\n",
       "│ 6   │ 48      │ 1     │ 3508.71 │ 5055.14 │ 1282.71 │ 6525.29 │ 8762.57 │\n",
       "│ 7   │ 49      │ 3     │ 3549.83 │ 7067.83 │ 4074.0  │ 1245.33 │ 773.333 │\n",
       "│ 8   │ 53      │ 3     │ 2567.5  │ 2059.0  │ 821.0   │ 1168.0  │ 4862.5  │\n",
       "│ 9   │ 54      │ 1     │ 1307.71 │ 95.8571 │ 2187.0  │ 4025.0  │ 3633.86 │\n",
       "│ 10  │ 58      │ 2     │ 2454.57 │ 2950.14 │ 3353.57 │ 8042.0  │ 2336.29 │\n",
       "⋮\n",
       "│ 262 │ 904     │ 1     │ 1589.57 │ 802.571 │ 437.143 │ 1152.0  │ 391.714 │\n",
       "│ 263 │ 907     │ 3     │ 5130.5  │ 4608.0  │ 1000.83 │ 261.833 │ 597.833 │\n",
       "│ 264 │ 910     │ 2     │ 374.571 │ 162.714 │ 647.0   │ 272.286 │ 7223.29 │\n",
       "│ 265 │ 911     │ 2     │ 3161.17 │ 1590.83 │ 1484.67 │ 2061.17 │ 2078.17 │\n",
       "│ 266 │ 912     │ 1     │ 1479.5  │ 1145.83 │ 1940.67 │ 1039.0  │ 1109.0  │\n",
       "│ 267 │ 915     │ 3     │ 121.0   │ 88.0    │ 17.3333 │ 25.3333 │ 43.5    │\n",
       "│ 268 │ 918     │ 2     │ 441.667 │ 473.5   │ 2597.0  │ 623.5   │ 661.0   │\n",
       "│ 269 │ 920     │ 3     │ 1044.33 │ 372.333 │ 298.333 │ 324.167 │ 681.5   │\n",
       "│ 270 │ 921     │ 1     │ 4777.0  │ 1608.86 │ 590.0   │ 1246.29 │ 6146.57 │\n",
       "│ 271 │ 929     │ 3     │ 2456.0  │ 9456.14 │ 1992.14 │ 1060.71 │ 6165.14 │\n",
       "│ 272 │ 930     │ 3     │ 1788.0  │ 516.667 │ 1196.0  │ 684.667 │ 1232.0  │"
      ]
     },
     "execution_count": 115,
     "metadata": {},
     "output_type": "execute_result"
    }
   ],
   "source": [
    "df"
   ]
  },
  {
   "cell_type": "markdown",
   "metadata": {
    "lines_to_next_cell": 2
   },
   "source": [
    "# Save the activity matrix data"
   ]
  },
  {
   "cell_type": "code",
   "execution_count": 116,
   "metadata": {
    "lines_to_next_cell": 2
   },
   "outputs": [
    {
     "data": {
      "text/plain": [
       "\"C:\\\\git\\\\smartphysicalactivity\\\\develop\\\\test\\\\FDA/../../../data/fda/mBaseline2.csv\""
      ]
     },
     "execution_count": 116,
     "metadata": {},
     "output_type": "execute_result"
    }
   ],
   "source": [
    "csvFileName = string(@__DIR__,\"/../../../data/fda/\",\"mBaseline2.csv\")\n",
    "CSV.write(csvFileName, df ; writeheader=true)"
   ]
  },
  {
   "cell_type": "code",
   "execution_count": 114,
   "metadata": {},
   "outputs": [
    {
     "data": {
      "text/plain": [
       "\"C:\\\\git\\\\smartphysicalactivity\\\\data\\\\fda/mBaseline2.csv\""
      ]
     },
     "execution_count": 114,
     "metadata": {},
     "output_type": "execute_result"
    }
   ],
   "source": [
    "# Since Matrix does not support Tables.jl interface, we need to convert the matrix to dataframe \n",
    "# in order to save it in csv file with the CSV.jl package\n",
    "# myDf = DataFrame(transpose(myMat));\n",
    "# Save the activity matrix data\n",
    "\"/../../../data/Baseline Visit Data/\"\n",
    "csvFileName = realpath(string(@__DIR__,\"/../../../data/fda\"))*\"/mBaseline2.csv\"\n",
    "CSV.write(csvFileName, df ; writeheader=false)"
   ]
  },
  {
   "cell_type": "code",
   "execution_count": 34,
   "metadata": {},
   "outputs": [
    {
     "name": "stdout",
     "output_type": "stream",
     "text": [
      "  1.432 ms (4 allocations: 3.01 MiB)\n"
     ]
    },
    {
     "data": {
      "text/plain": [
       "1440×274 Array{Float64,2}:\n",
       "  5.83333   19.0      1.0       6.28571  …   4.85714  12.7143   109.333\n",
       "  1.0       24.7143   1.0       6.28571      2.57143  19.4286    85.1667\n",
       "  2.83333   45.0      1.0       8.14286      1.57143   9.0       34.6667\n",
       "  4.5       53.4286   1.0      30.5714       1.57143  12.0       30.5\n",
       "  4.5       35.2857   1.0      32.5714       2.57143   5.28571   43.0\n",
       "  5.66667   21.1429   1.0      30.7143   …   3.14286   6.0       64.6667\n",
       "  4.0       14.7143   1.0       3.0          3.57143  13.1429    97.5\n",
       " 28.8333    10.1429   1.0       1.0          3.14286  13.1429    85.0\n",
       " 25.8333    14.7143   3.71429  41.7143       2.0      32.8571   103.667\n",
       " 25.8333    13.7143   3.71429  41.7143       1.57143  40.8571   135.333\n",
       "  1.0       45.2857   8.71429  43.4286   …   1.57143  66.4286   178.833\n",
       "  4.5       36.7143   6.0      13.0          5.28571  46.1429   193.167\n",
       " 15.8333    42.2857   6.0      13.0          9.0      49.8571   126.5\n",
       "  ⋮                                      ⋱                      \n",
       "  1.0        8.57143  1.0       6.28571      1.0      59.0       41.6667\n",
       "  3.33333   19.4286   1.0       1.0          3.71429  70.1429    45.3333\n",
       "  3.33333   56.0      1.0      44.2857   …   4.71429  56.2857    44.0\n",
       "  3.33333  144.0      1.0      46.8571       5.71429  31.7143     8.0\n",
       "  1.0      144.429    6.0      46.8571       3.57143  32.7143     1.66667\n",
       "  1.0      143.0      7.14286   3.57143      3.57143  35.8571     1.66667\n",
       "  4.0       86.8571   9.42857   1.0          7.42857  67.5714     1.0\n",
       " 10.5      107.429    4.42857   2.14286  …  12.7143   95.7143     1.0\n",
       " 11.1667    70.7143   3.28571   2.14286     12.7143   87.1429     1.0\n",
       "  8.16667   39.2857   1.0       2.14286     10.1429   52.2857    10.0\n",
       "  6.5       25.5714   1.0       1.0          6.42857   4.71429   41.6667\n",
       "  5.83333   19.5714   1.0       1.0          7.0      11.5714   102.833"
      ]
     },
     "execution_count": 34,
     "metadata": {},
     "output_type": "execute_result"
    }
   ],
   "source": [
    "#  @btime A = @view(mat[:,:]).+1\n",
    "@btime A = mat.+1"
   ]
  },
  {
   "cell_type": "markdown",
   "metadata": {
    "lines_to_next_cell": 2
   },
   "source": [
    "##### # Get the data list files from the directory myDir"
   ]
  },
  {
   "cell_type": "code",
   "execution_count": 1,
   "metadata": {
    "lines_to_next_cell": 2
   },
   "outputs": [],
   "source": [
    "using BenchmarkTools"
   ]
  },
  {
   "cell_type": "code",
   "execution_count": 55,
   "metadata": {},
   "outputs": [
    {
     "name": "stderr",
     "output_type": "stream",
     "text": [
      "WARNING: redefining constant v3\n"
     ]
    },
    {
     "ename": "MethodError",
     "evalue": "MethodError: no method matching Array{Array{Float64,2},1}(::Int64)\nClosest candidates are:\n  Array{Array{Float64,2},1}() where T at boot.jl:424\n  Array{Array{Float64,2},1}(!Matched::UndefInitializer, !Matched::Int64) where T at boot.jl:405\n  Array{Array{Float64,2},1}(!Matched::UndefInitializer, !Matched::Int64...) where {T, N} at boot.jl:411\n  ...",
     "output_type": "error",
     "traceback": [
      "MethodError: no method matching Array{Array{Float64,2},1}(::Int64)\nClosest candidates are:\n  Array{Array{Float64,2},1}() where T at boot.jl:424\n  Array{Array{Float64,2},1}(!Matched::UndefInitializer, !Matched::Int64) where T at boot.jl:405\n  Array{Array{Float64,2},1}(!Matched::UndefInitializer, !Matched::Int64...) where {T, N} at boot.jl:411\n  ...",
      "",
      "Stacktrace:",
      " [1] top-level scope at In[55]:7"
     ]
    }
   ],
   "source": [
    "using BenchmarkTools\n",
    "\n",
    "# declare global-scope variables as constants, otherwise the compiler can't\n",
    "# stably infer the variable's type\n",
    "const L = 500 # integer literals in Julia don't require conversion\n",
    "const v3 = [[rand(L) for i = 1:L] for j = 1:L]\n",
    "const vec_mat = Vector{Matrix{Float64}}(L) #Array{Matrix}(L, L);\n",
    "# const arr = rand(L, L, L);\n",
    "\n",
    "# fill!(vec_mat, rand(L, L));\n",
    "\n",
    "# @btime v3 .+= 1.0\n",
    "# @btime vec_mat .+= 1.0\n",
    "# @btime arr .+= 1.0\n"
   ]
  },
  {
   "cell_type": "code",
   "execution_count": 19,
   "metadata": {},
   "outputs": [
    {
     "name": "stdout",
     "output_type": "stream",
     "text": [
      "  0.011724 seconds\n",
      "  0.007106 seconds\n",
      "  0.012184 seconds\n"
     ]
    }
   ],
   "source": [
    "function test()\n",
    "    L = Int(1e4)\n",
    "    M = N = 30\n",
    "    vec_vec_vec = Array{Vector{Vector{Float64}}}(undef, L);\n",
    "    for i = 1:L vec_vec_vec[i] = [zeros(N) for j = 1:M] end;\n",
    "    vec_mat = Array{Matrix{Float64}}(undef, L);\n",
    "    fill!(vec_mat, rand(M, N));\n",
    "    arr = rand(L, M, N);\n",
    "    @time  for i = 1:L for j = 1:M for k = 1:N vec_vec_vec[i][j][k] += 1; end; end; end; \n",
    "    @time  for i = 1:L for j = 1:M for k = 1:N vec_mat[i][j,k] += 1; end; end; end; \n",
    "    @time  for k = 1:N for j = 1:M for i = 1:L arr[i,j,k] += 1; end; end; end; \n",
    "end\n",
    "test()"
   ]
  },
  {
   "cell_type": "code",
   "execution_count": 20,
   "metadata": {
    "lines_to_next_cell": 0
   },
   "outputs": [
    {
     "name": "stdout",
     "output_type": "stream",
     "text": [
      "  0.011415 seconds\n",
      "  0.006783 seconds\n",
      "  0.006540 seconds\n"
     ]
    }
   ],
   "source": [
    "\n",
    "function test()\n",
    "    L = Int(1e4)\n",
    "    M = N = 30\n",
    "    vec_vec_vec = Array{Vector{Vector{Float64}}}(undef, L);\n",
    "    for i = 1:L vec_vec_vec[i] = [zeros(N) for j = 1:M] end;\n",
    "    vec_mat = Array{Matrix{Float64}}(undef, L);\n",
    "    fill!(vec_mat, rand(M, N));\n",
    "    arr = rand(L, M, N);\n",
    "    @time @inbounds for i = 1:L, j = 1:M, k = 1:N vec_vec_vec[i][j][k] += 1 end\n",
    "    @time @inbounds for i = 1:L, k = 1:N, j = 1:M vec_mat[i][j,k] += 1 end\n",
    "    @time @inbounds for k = 1:N, j = 1:M, i = 1:L arr[i,j,k] += 1 end\n",
    "end\n",
    "test()\n",
    "# k = 1:N, j = 1:M, i = 1:L"
   ]
  },
  {
   "cell_type": "code",
   "execution_count": 2,
   "metadata": {
    "lines_to_next_cell": 2
   },
   "outputs": [
    {
     "data": {
      "text/plain": [
       "24"
      ]
     },
     "execution_count": 2,
     "metadata": {},
     "output_type": "execute_result"
    }
   ],
   "source": [
    "Int(1440/60)"
   ]
  },
  {
   "cell_type": "code",
   "execution_count": null,
   "metadata": {
    "lines_to_next_cell": 2
   },
   "outputs": [],
   "source": []
  },
  {
   "cell_type": "code",
   "execution_count": null,
   "metadata": {},
   "outputs": [],
   "source": []
  },
  {
   "cell_type": "code",
   "execution_count": null,
   "metadata": {},
   "outputs": [],
   "source": []
  }
 ],
 "metadata": {
  "jupytext": {
   "formats": "ipynb,jl:light"
  },
  "kernelspec": {
   "display_name": "Julia 1.7.2",
   "language": "julia",
   "name": "julia-1.7"
  },
  "language_info": {
   "file_extension": ".jl",
   "mimetype": "application/julia",
   "name": "julia",
   "version": "1.7.2"
  }
 },
 "nbformat": 4,
 "nbformat_minor": 4
}
