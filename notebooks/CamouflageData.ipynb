{
 "cells": [
  {
   "cell_type": "markdown",
   "metadata": {
    "tags": []
   },
   "source": [
    "# *Transform Data*\n",
    "\n",
    "---"
   ]
  },
  {
   "cell_type": "markdown",
   "metadata": {},
   "source": [
    "This notebook explore a code to transform the data into transformed data. Transformed data will be used to develop tools and functions but final results will be generated from original data. Data from the csv files are used."
   ]
  },
  {
   "cell_type": "markdown",
   "metadata": {},
   "source": [
    "##### ***Libraries***"
   ]
  },
  {
   "cell_type": "code",
   "execution_count": 1,
   "metadata": {},
   "outputs": [],
   "source": [
    "###################\n",
    "# External source #\n",
    "###################\n",
    "# Include the modules\n",
    "dirFunc = realpath(\"../src/\")\n",
    "include(dirFunc*\"/ActStatData.jl\") # include(dirFun*\"/ActPlotData.jl\"))\n",
    "\n",
    "#############\n",
    "# Libraries #\n",
    "#############\n",
    "using DataFrames, CSV, Main.ActStatData, Distributions, Dates"
   ]
  },
  {
   "cell_type": "markdown",
   "metadata": {},
   "source": [
    "##### ***Select one sample to create a simulated dataset***"
   ]
  },
  {
   "cell_type": "code",
   "execution_count": 2,
   "metadata": {},
   "outputs": [
    {
     "name": "stdout",
     "output_type": "stream",
     "text": [
      "There is no missing (i.e. NA) data log in the following directory:\n",
      "C:\\git\\senresearch\\AccelerometerDataProcessing\\data\\Baseline Visit Data\n"
     ]
    }
   ],
   "source": [
    "############\n",
    "# CONSTANT #\n",
    "############\n",
    "\n",
    "# List of visit directories\n",
    "listDir = [\"../data/Baseline Visit Data/\";\n",
    "           \"../data/32 Week Gestation Data/\";\n",
    "           \"../data/6 Week PP Data/\";\n",
    "           \"../data/6 Months PP Data/\";\n",
    "           \"../data/12 Months PP Data/\"]\n",
    "numFolder = 1\n",
    "numFiles = 2;\n",
    "\n",
    "# data folder path\n",
    "myDir = realpath(listDir[numFolder])\n",
    "# get the list of files in the data directory myDir\n",
    "(myData, myHeader) = ActStatData.filesNoNaN(myDir); \n",
    "\n",
    "# generate activity dataframe for one individual data set\n",
    "dfAct = ActStatData.readActivity(joinpath(myDir,myData[numFiles]));\n",
    "# generate bio dataframe for one individual data set\n",
    "dfBio = ActStatData.readActivity(joinpath(myDir, myHeader[numFiles]));\n",
    "# test"
   ]
  },
  {
   "cell_type": "code",
   "execution_count": 13,
   "metadata": {},
   "outputs": [
    {
     "data": {
      "text/html": [
       "<div class=\"data-frame\"><p>3 rows × 7 columns (omitted printing of 1 columns)</p><table class=\"data-frame\"><thead><tr><th></th><th>Day</th><th>ElapsedSeconds</th><th>DateTime</th><th>ActivityCounts</th><th>Steps</th><th>EnergyExpenditure</th></tr><tr><th></th><th title=\"Int64\">Int64</th><th title=\"Int64\">Int64</th><th title=\"DateTime\">DateTime</th><th title=\"Int64\">Int64</th><th title=\"Int64\">Int64</th><th title=\"Float64\">Float64</th></tr></thead><tbody><tr><th>1</th><td>1</td><td>180</td><td>2017-03-09T13:50:00</td><td>724</td><td>48</td><td>0.029</td></tr><tr><th>2</th><td>1</td><td>240</td><td>2017-03-09T13:51:00</td><td>971</td><td>7</td><td>0.033</td></tr><tr><th>3</th><td>1</td><td>300</td><td>2017-03-09T13:52:00</td><td>636</td><td>37</td><td>0.028</td></tr></tbody></table></div>"
      ],
      "text/latex": [
       "\\begin{tabular}{r|ccccccc}\n",
       "\t& Day & ElapsedSeconds & DateTime & ActivityCounts & Steps & EnergyExpenditure & \\\\\n",
       "\t\\hline\n",
       "\t& Int64 & Int64 & DateTime & Int64 & Int64 & Float64 & \\\\\n",
       "\t\\hline\n",
       "\t1 & 1 & 180 & 2017-03-09T13:50:00 & 724 & 48 & 0.029 & $\\dots$ \\\\\n",
       "\t2 & 1 & 240 & 2017-03-09T13:51:00 & 971 & 7 & 0.033 & $\\dots$ \\\\\n",
       "\t3 & 1 & 300 & 2017-03-09T13:52:00 & 636 & 37 & 0.028 & $\\dots$ \\\\\n",
       "\\end{tabular}\n"
      ],
      "text/plain": [
       "\u001b[1m3×7 DataFrame\u001b[0m\n",
       "\u001b[1m Row \u001b[0m│\u001b[1m Day   \u001b[0m\u001b[1m ElapsedSeconds \u001b[0m\u001b[1m DateTime            \u001b[0m\u001b[1m ActivityCounts \u001b[0m\u001b[1m Steps \u001b[0m\u001b[1m Ener\u001b[0m ⋯\n",
       "\u001b[1m     \u001b[0m│\u001b[90m Int64 \u001b[0m\u001b[90m Int64          \u001b[0m\u001b[90m DateTime            \u001b[0m\u001b[90m Int64          \u001b[0m\u001b[90m Int64 \u001b[0m\u001b[90m Floa\u001b[0m ⋯\n",
       "─────┼──────────────────────────────────────────────────────────────────────────\n",
       "   1 │     1             180  2017-03-09T13:50:00             724     48       ⋯\n",
       "   2 │     1             240  2017-03-09T13:51:00             971      7\n",
       "   3 │     1             300  2017-03-09T13:52:00             636     37\n",
       "\u001b[36m                                                               2 columns omitted\u001b[0m"
      ]
     },
     "execution_count": 13,
     "metadata": {},
     "output_type": "execute_result"
    }
   ],
   "source": [
    "first(dfAct, 3)"
   ]
  },
  {
   "cell_type": "code",
   "execution_count": 262,
   "metadata": {},
   "outputs": [],
   "source": [
    "dfBio;"
   ]
  },
  {
   "cell_type": "markdown",
   "metadata": {},
   "source": [
    "##### ***Function camouflaging bio dataset***"
   ]
  },
  {
   "cell_type": "code",
   "execution_count": 57,
   "metadata": {},
   "outputs": [
    {
     "data": {
      "text/plain": [
       "camouflageBio"
      ]
     },
     "execution_count": 57,
     "metadata": {},
     "output_type": "execute_result"
    }
   ],
   "source": [
    "\"\"\"\n",
    "`camouflageBio(df::DataFrame)`\n",
    "\n",
    "camouflageBio(df::DataFrame) => DataFrame\n",
    "\n",
    "Return fake bio dataframe. \n",
    "\n",
    "\"\"\"\n",
    "function camouflageBio(df::DataFrame)\n",
    "     \n",
    "    dfBio = deepcopy(df)\n",
    "    # Camouflage: age, height, weight, Device Serial Number, Start Date, and\n",
    "    # Start Time\n",
    "    # Age    \n",
    "    dfBio[2, :Value] = string(parse(Int64, dfBio[2, :Value]) -  rand(1:5))\n",
    "    # Height\n",
    "    dfBio[4, :Value] = string(round(parse(Float64, dfBio[4, :Value]) + rand(Uniform(0.1, 3.1)), digits = 1))\n",
    "    dfBio[5, :Value] = round(parse(Float64,dfBio[4, :Value])/2.54, digits= 1) |> string\n",
    "    # Weight\n",
    "    dfBio[6, :Value] = string(round(parse(Float64, dfBio[6, :Value]) - rand(Uniform(0.1, 3.1)), digits = 2))\n",
    "    dfBio[7, :Value] = round(parse(Float64,dfBio[6, :Value])*2.2, digits= 1) |> string\n",
    "    # Device Serial Number\n",
    "    dfBio[10, :Value] = \"XXX-XXX-X\"\n",
    "    # Start Date\n",
    "    dfBio[8, :Value] = string(parse(Date, dfBio[8, :Value]) + Dates.Year(rand(3:5)) + Dates.Month(rand(1:6)) + \n",
    "                        Dates.Month(rand(1:15)))\n",
    "    dfBio[8, :Unit] = string(\"(\", string(Dates.dayname(parse(Date, dfBio[8, :Value])))[1:3], \")\")\n",
    "    # Start Time\n",
    "    dfBio[9, :Value] = string(parse(Time, dfBio[9, :Value]) + Dates.Hour(rand(1:6)) + Dates.Minute(rand(1:30)) )\n",
    "    \n",
    "    return dfBio\n",
    "end"
   ]
  },
  {
   "cell_type": "code",
   "execution_count": 58,
   "metadata": {},
   "outputs": [
    {
     "data": {
      "text/plain": [
       "\"(Thu)\""
      ]
     },
     "execution_count": 58,
     "metadata": {},
     "output_type": "execute_result"
    }
   ],
   "source": [
    "string(\"(\", string(Dates.dayname(parse(Date, dfBio[8, :Value])))[1:3], \")\")"
   ]
  },
  {
   "cell_type": "markdown",
   "metadata": {},
   "source": [
    "##### ***Test `camouflageBio`***"
   ]
  },
  {
   "cell_type": "code",
   "execution_count": 218,
   "metadata": {},
   "outputs": [
    {
     "data": {
      "text/html": [
       "<div class=\"data-frame\"><p>17 rows × 3 columns</p><table class=\"data-frame\"><thead><tr><th></th><th>Setting</th><th>Value</th><th>Unit</th></tr><tr><th></th><th title=\"Union{Missing, String}\">String?</th><th title=\"InlineStrings.String31\">String31</th><th title=\"Union{Missing, InlineStrings.String31}\">String31</th></tr></thead><tbody><tr><th>1</th><td>Identity:</td><td>4</td><td><em>missing</em></td></tr><tr><th>2</th><td>Age:</td><td>22</td><td>years</td></tr><tr><th>3</th><td>Gender:</td><td>Female</td><td><em>missing</em></td></tr><tr><th>4</th><td>Height:</td><td>161.3</td><td>cm</td></tr><tr><th>5</th><td><em>missing</em></td><td>63.5</td><td>inches</td></tr><tr><th>6</th><td>Weight:</td><td>67.62</td><td>kg</td></tr><tr><th>7</th><td><em>missing</em></td><td>148.8</td><td>lbs</td></tr><tr><th>8</th><td>Start Date:</td><td>2022-03-09</td><td>(Wed)</td></tr><tr><th>9</th><td>Start Time:</td><td>20:03:00</td><td><em>missing</em></td></tr><tr><th>10</th><td>Device Serial Number:</td><td>XXX-XXX-X</td><td><em>missing</em></td></tr><tr><th>11</th><td>Light/Moderate Cutpoint:</td><td>0.031</td><td>kcals/min/kg</td></tr><tr><th>12</th><td>Moderate/Vigorous Cutpoint:</td><td>0.083</td><td>kcals/min/kg</td></tr><tr><th>13</th><td>Energy Expenditure Output Type (unit):</td><td>AEE</td><td>(Activity Energy Expenditure)</td></tr><tr><th>14</th><td>Subject Type (age level):</td><td>ADULT</td><td><em>missing</em></td></tr><tr><th>15</th><td>Device Location:</td><td>WRIST</td><td><em>missing</em></td></tr><tr><th>16</th><td>Model Type:</td><td>SINGLE REGRESSION</td><td><em>missing</em></td></tr><tr><th>17</th><td>Smoothing Filter:</td><td>1</td><td>minute</td></tr></tbody></table></div>"
      ],
      "text/latex": [
       "\\begin{tabular}{r|ccc}\n",
       "\t& Setting & Value & Unit\\\\\n",
       "\t\\hline\n",
       "\t& String? & String31 & String31\\\\\n",
       "\t\\hline\n",
       "\t1 & Identity: & 4 & \\emph{missing} \\\\\n",
       "\t2 & Age: & 22 & years \\\\\n",
       "\t3 & Gender: & Female & \\emph{missing} \\\\\n",
       "\t4 & Height: & 161.3 & cm \\\\\n",
       "\t5 & \\emph{missing} & 63.5 & inches \\\\\n",
       "\t6 & Weight: & 67.62 & kg \\\\\n",
       "\t7 & \\emph{missing} & 148.8 & lbs \\\\\n",
       "\t8 & Start Date: & 2022-03-09 & (Wed) \\\\\n",
       "\t9 & Start Time: & 20:03:00 & \\emph{missing} \\\\\n",
       "\t10 & Device Serial Number: & XXX-XXX-X & \\emph{missing} \\\\\n",
       "\t11 & Light/Moderate Cutpoint: & 0.031 & kcals/min/kg \\\\\n",
       "\t12 & Moderate/Vigorous Cutpoint: & 0.083 & kcals/min/kg \\\\\n",
       "\t13 & Energy Expenditure Output Type (unit): & AEE & (Activity Energy Expenditure) \\\\\n",
       "\t14 & Subject Type (age level): & ADULT & \\emph{missing} \\\\\n",
       "\t15 & Device Location: & WRIST & \\emph{missing} \\\\\n",
       "\t16 & Model Type: & SINGLE REGRESSION & \\emph{missing} \\\\\n",
       "\t17 & Smoothing Filter: & 1 & minute \\\\\n",
       "\\end{tabular}\n"
      ],
      "text/plain": [
       "\u001b[1m17×3 DataFrame\u001b[0m\n",
       "\u001b[1m Row \u001b[0m│\u001b[1m Setting                           \u001b[0m\u001b[1m Value             \u001b[0m\u001b[1m Unit             \u001b[0m ⋯\n",
       "\u001b[1m     \u001b[0m│\u001b[90m String?                           \u001b[0m\u001b[90m String31          \u001b[0m\u001b[90m String31         \u001b[0m ⋯\n",
       "─────┼──────────────────────────────────────────────────────────────────────────\n",
       "   1 │ Identity:                          4                 \u001b[90m missing          \u001b[0m ⋯\n",
       "   2 │ Age:                               22                 years\n",
       "   3 │ Gender:                            Female            \u001b[90m missing\u001b[0m\n",
       "   4 │ Height:                            161.3              cm\n",
       "   5 │\u001b[90m missing                           \u001b[0m 63.5               inches            ⋯\n",
       "   6 │ Weight:                            67.62              kg\n",
       "   7 │\u001b[90m missing                           \u001b[0m 148.8              lbs\n",
       "   8 │ Start Date:                        2022-03-09         (Wed)\n",
       "   9 │ Start Time:                        20:03:00          \u001b[90m missing          \u001b[0m ⋯\n",
       "  10 │ Device Serial Number:              XXX-XXX-X         \u001b[90m missing\u001b[0m\n",
       "  11 │ Light/Moderate Cutpoint:           0.031              kcals/min/kg\n",
       "  12 │ Moderate/Vigorous Cutpoint:        0.083              kcals/min/kg\n",
       "  13 │ Energy Expenditure Output Type (…  AEE                (Activity Energy  ⋯\n",
       "  14 │ Subject Type (age level):          ADULT             \u001b[90m missing\u001b[0m\n",
       "  15 │ Device Location:                   WRIST             \u001b[90m missing\u001b[0m\n",
       "  16 │ Model Type:                        SINGLE REGRESSION \u001b[90m missing\u001b[0m\n",
       "  17 │ Smoothing Filter:                  1                  minute            ⋯\n",
       "\u001b[36m                                                                1 column omitted\u001b[0m"
      ]
     },
     "execution_count": 218,
     "metadata": {},
     "output_type": "execute_result"
    }
   ],
   "source": [
    "dfBioSim = camouflageBio(dfBio)"
   ]
  },
  {
   "cell_type": "markdown",
   "metadata": {},
   "source": [
    "##### ***Function camouflaging activity dataset***"
   ]
  },
  {
   "cell_type": "code",
   "execution_count": 219,
   "metadata": {},
   "outputs": [
    {
     "data": {
      "text/plain": [
       "camouflageAct"
      ]
     },
     "execution_count": 219,
     "metadata": {},
     "output_type": "execute_result"
    }
   ],
   "source": [
    "\"\"\"\n",
    "`camouflageAct(df::DataFrame)`\n",
    "\n",
    "camouflageAct(df::DataFrame) => DataFrame\n",
    "\n",
    "Return fake activity dataframe. \n",
    "\n",
    "\"\"\"\n",
    "function camouflageAct(df::DataFrame, startDate, startTime)\n",
    "     \n",
    "    dfAct = deepcopy(df)\n",
    "    n = size(dfAct, 1)\n",
    "    vRand = rand(Uniform(0.95, 1.05), n);\n",
    "    δ(n) = n > 0;\n",
    "    \n",
    "    # Camouflage: DateTime, ActivityCounts, Steps, Device Serial Number, Start Date, and\n",
    "    # Start Time\n",
    "    # DateTime    \n",
    "    dfAct.DateTime = parse(DateTime, string(startDate, \"T\", startTime)) .+ Dates.Minute.(collect(2:n+1))\n",
    "    # ActivityCounts\n",
    "    dfAct.ActivityCounts = round.(Int64, dfAct.ActivityCounts.*vRand)\n",
    "    # Steps\n",
    "    dfAct.Steps = round.(Int64, dfAct.Steps.*vRand)\n",
    "    # EnergyExpenditure\n",
    "    dfAct.EnergyExpenditure = round.(dfAct.EnergyExpenditure.*vRand, digits = 3);\n",
    "    # ActivityIntensity\n",
    "    dfAct.ActivityIntensity = trunc.(Int, δ.(dfAct.EnergyExpenditure) .+ δ.(dfAct.EnergyExpenditure .- 0.0309) \n",
    "                                     .+ δ.(dfAct.EnergyExpenditure .- 0.0829) .+ 1)\n",
    "    return dfAct\n",
    "end"
   ]
  },
  {
   "cell_type": "markdown",
   "metadata": {},
   "source": [
    "##### ***Test `camouflageAct`***"
   ]
  },
  {
   "cell_type": "code",
   "execution_count": 223,
   "metadata": {},
   "outputs": [
    {
     "data": {
      "text/html": [
       "<div class=\"data-frame\"><p>3 rows × 7 columns (omitted printing of 1 columns)</p><table class=\"data-frame\"><thead><tr><th></th><th>Day</th><th>ElapsedSeconds</th><th>DateTime</th><th>ActivityCounts</th><th>Steps</th><th>EnergyExpenditure</th></tr><tr><th></th><th title=\"Int64\">Int64</th><th title=\"Int64\">Int64</th><th title=\"DateTime\">DateTime</th><th title=\"Int64\">Int64</th><th title=\"Int64\">Int64</th><th title=\"Float64\">Float64</th></tr></thead><tbody><tr><th>1</th><td>1</td><td>180</td><td>2022-03-09T20:05:00</td><td>697</td><td>46</td><td>0.028</td></tr><tr><th>2</th><td>1</td><td>240</td><td>2022-03-09T20:06:00</td><td>964</td><td>7</td><td>0.033</td></tr><tr><th>3</th><td>1</td><td>300</td><td>2022-03-09T20:07:00</td><td>622</td><td>36</td><td>0.027</td></tr></tbody></table></div>"
      ],
      "text/latex": [
       "\\begin{tabular}{r|ccccccc}\n",
       "\t& Day & ElapsedSeconds & DateTime & ActivityCounts & Steps & EnergyExpenditure & \\\\\n",
       "\t\\hline\n",
       "\t& Int64 & Int64 & DateTime & Int64 & Int64 & Float64 & \\\\\n",
       "\t\\hline\n",
       "\t1 & 1 & 180 & 2022-03-09T20:05:00 & 697 & 46 & 0.028 & $\\dots$ \\\\\n",
       "\t2 & 1 & 240 & 2022-03-09T20:06:00 & 964 & 7 & 0.033 & $\\dots$ \\\\\n",
       "\t3 & 1 & 300 & 2022-03-09T20:07:00 & 622 & 36 & 0.027 & $\\dots$ \\\\\n",
       "\\end{tabular}\n"
      ],
      "text/plain": [
       "\u001b[1m3×7 DataFrame\u001b[0m\n",
       "\u001b[1m Row \u001b[0m│\u001b[1m Day   \u001b[0m\u001b[1m ElapsedSeconds \u001b[0m\u001b[1m DateTime            \u001b[0m\u001b[1m ActivityCounts \u001b[0m\u001b[1m Steps \u001b[0m\u001b[1m Ener\u001b[0m ⋯\n",
       "\u001b[1m     \u001b[0m│\u001b[90m Int64 \u001b[0m\u001b[90m Int64          \u001b[0m\u001b[90m DateTime            \u001b[0m\u001b[90m Int64          \u001b[0m\u001b[90m Int64 \u001b[0m\u001b[90m Floa\u001b[0m ⋯\n",
       "─────┼──────────────────────────────────────────────────────────────────────────\n",
       "   1 │     1             180  2022-03-09T20:05:00             697     46       ⋯\n",
       "   2 │     1             240  2022-03-09T20:06:00             964      7\n",
       "   3 │     1             300  2022-03-09T20:07:00             622     36\n",
       "\u001b[36m                                                               2 columns omitted\u001b[0m"
      ]
     },
     "execution_count": 223,
     "metadata": {},
     "output_type": "execute_result"
    }
   ],
   "source": [
    "dfActSim = camouflageAct(dfAct, dfBioSim.Value[8], dfBioSim.Value[9]);\n",
    "first(dfActSim, 3)"
   ]
  },
  {
   "cell_type": "markdown",
   "metadata": {},
   "source": [
    "##### ***Script generate articifical data***"
   ]
  },
  {
   "cell_type": "code",
   "execution_count": 257,
   "metadata": {
    "tags": []
   },
   "outputs": [
    {
     "name": "stdout",
     "output_type": "stream",
     "text": [
      "There is no missing (i.e. NA) data log in the following directory:\n",
      "../data/Baseline Visit Data/\n"
     ]
    }
   ],
   "source": [
    "# Create directory `artificial` if it doesn't exist\n",
    "if !isdir(\"../data/artificial\")\n",
    "   mkpath(\"../data/artificial\")\n",
    "end\n",
    "\n",
    "# Select the first 100 files \n",
    "dirVisit = \"../data/Baseline Visit Data/\"\n",
    "\n",
    "# Get the list of files in the data directory myDir\n",
    "(myData, myHeader) = ActStatData.filesNoNaN(dirVisit);\n",
    "myData = myData[1:100];\n",
    "myHeader = myHeader[1:100];\n",
    "\n",
    "for i in  1:100\n",
    "    # Extract activity dataframe\n",
    "    dfAct = ActStatData.readActivity(joinpath(dirVisit, myData[i]));\n",
    "    # Extract bio dataframe\n",
    "    dfBio = ActStatData.readActivity(joinpath(dirVisit, myHeader[i]));\n",
    "\n",
    "    # Camouflage Bio\n",
    "    dfBioSim = camouflageBio(dfBio)\n",
    "\n",
    "    # Camouflage Activity\n",
    "    dfActSim = camouflageAct(dfAct, dfBioSim.Value[8], dfBioSim.Value[9])\n",
    "    \n",
    "    # Save artificial dataset\n",
    "    fileBio = joinpath(\"..\",\"data\",\"artificial\",string(myData[i][1:3],\"_hdr.csv\"));\n",
    "    dfBioSim |> CSV.write(fileBio);\n",
    "\n",
    "    # Save artificial dataset\n",
    "    fileAct = joinpath(\"..\",\"data\",\"artificial\",string(myData[i][1:3],\".csv\"));\n",
    "    dfActSim |> CSV.write(fileAct);\n",
    "end\n",
    "\n"
   ]
  },
  {
   "cell_type": "code",
   "execution_count": 252,
   "metadata": {},
   "outputs": [
    {
     "data": {
      "text/plain": [
       "\"C:\\\\git\\\\senresearch\\\\AccelerometerDataProcessing\\\\notebooks\""
      ]
     },
     "execution_count": 252,
     "metadata": {},
     "output_type": "execute_result"
    }
   ],
   "source": [
    "pwd()"
   ]
  },
  {
   "cell_type": "code",
   "execution_count": 236,
   "metadata": {},
   "outputs": [
    {
     "data": {
      "text/plain": [
       "'4': ASCII/Unicode U+0034 (category Nd: Number, decimal digit)"
      ]
     },
     "execution_count": 236,
     "metadata": {},
     "output_type": "execute_result"
    }
   ],
   "source": [
    " myHeader[i]"
   ]
  },
  {
   "cell_type": "code",
   "execution_count": 237,
   "metadata": {},
   "outputs": [
    {
     "name": "stdout",
     "output_type": "stream",
     "text": [
      "There is no missing (i.e. NA) data log in the following directory:\n",
      "C:\\git\\senresearch\\AccelerometerDataProcessing\\data\\Baseline Visit Data\n"
     ]
    }
   ],
   "source": [
    "# List of visit directories\n",
    "listDir = [\"../data/Baseline Visit Data/\";\n",
    "           \"../data/32 Week Gestation Data/\";\n",
    "           \"../data/6 Week PP Data/\";\n",
    "           \"../data/6 Months PP Data/\";\n",
    "           \"../data/12 Months PP Data/\"]\n",
    "numFolder = 1\n",
    "numFiles = 2;\n",
    "\n",
    "# data folder path\n",
    "myDir = realpath(listDir[numFolder])\n",
    "# get the list of files in the data directory myDir\n",
    "(myData, myHeader) = ActStatData.filesNoNaN(myDir); \n",
    "\n",
    "# generate activity dataframe for one individual data set\n",
    "dfAct = ActStatData.readActivity(joinpath(myDir,myData[numFiles]));\n",
    "# generate bio dataframe for one individual data set\n",
    "dfBio = ActStatData.readActivity(joinpath(myDir, myHeader[numFiles]));"
   ]
  },
  {
   "cell_type": "code",
   "execution_count": 260,
   "metadata": {},
   "outputs": [],
   "source": [
    "myHeader;"
   ]
  },
  {
   "cell_type": "code",
   "execution_count": null,
   "metadata": {},
   "outputs": [],
   "source": []
  }
 ],
 "metadata": {
  "kernelspec": {
   "display_name": "Julia 1.7.2",
   "language": "julia",
   "name": "julia-1.7"
  },
  "language_info": {
   "file_extension": ".jl",
   "mimetype": "application/julia",
   "name": "julia",
   "version": "1.7.2"
  },
  "toc-autonumbering": false,
  "toc-showcode": false,
  "toc-showmarkdowntxt": false
 },
 "nbformat": 4,
 "nbformat_minor": 4
}
